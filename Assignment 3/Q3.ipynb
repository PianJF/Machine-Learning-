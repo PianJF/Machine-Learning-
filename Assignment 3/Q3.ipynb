{
 "cells": [
  {
   "cell_type": "code",
   "execution_count": 9,
   "metadata": {
    "colab": {
     "base_uri": "https://localhost:8080/",
     "height": 446
    },
    "colab_type": "code",
    "id": "jrRRpnqHcA09",
    "outputId": "00d706ab-64d2-4b67-cf17-1e001b98d697"
   },
   "outputs": [
    {
     "name": "stdout",
     "output_type": "stream",
     "text": [
      "--2019-04-12 02:55:25--  https://github.com/PianJF/Machine-Learning-/blob/master/Assignment%203/ASS3_q2.h5?raw=true\n",
      "Resolving github.com (github.com)... 192.30.255.113, 192.30.255.112\n",
      "Connecting to github.com (github.com)|192.30.255.113|:443... connected.\n",
      "HTTP request sent, awaiting response... 302 Found\n",
      "Location: https://github.com/PianJF/Machine-Learning-/raw/master/Assignment%203/ASS3_q2.h5 [following]\n",
      "--2019-04-12 02:55:25--  https://github.com/PianJF/Machine-Learning-/raw/master/Assignment%203/ASS3_q2.h5\n",
      "Reusing existing connection to github.com:443.\n",
      "HTTP request sent, awaiting response... 302 Found\n",
      "Location: https://raw.githubusercontent.com/PianJF/Machine-Learning-/master/Assignment%203/ASS3_q2.h5 [following]\n",
      "--2019-04-12 02:55:25--  https://raw.githubusercontent.com/PianJF/Machine-Learning-/master/Assignment%203/ASS3_q2.h5\n",
      "Resolving raw.githubusercontent.com (raw.githubusercontent.com)... 151.101.0.133, 151.101.64.133, 151.101.128.133, ...\n",
      "Connecting to raw.githubusercontent.com (raw.githubusercontent.com)|151.101.0.133|:443... connected.\n",
      "HTTP request sent, awaiting response... 200 OK\n",
      "Length: 26021616 (25M) [application/octet-stream]\n",
      "Saving to: ‘ASS3_q2.h5’\n",
      "\n",
      "ASS3_q2.h5          100%[===================>]  24.82M   147MB/s    in 0.2s    \n",
      "\n",
      "2019-04-12 02:55:26 (147 MB/s) - ‘ASS3_q2.h5’ saved [26021616/26021616]\n",
      "\n"
     ]
    }
   ],
   "source": [
    "!wget  https://github.com/PianJF/Machine-Learning-/blob/master/Assignment%203/ASS3_q2.h5?raw=true \\\n",
    "  -O ASS3_q2.h5"
   ]
  },
  {
   "cell_type": "code",
   "execution_count": 1,
   "metadata": {
    "colab": {},
    "colab_type": "code",
    "id": "qc-IorbZc3qI"
   },
   "outputs": [
    {
     "name": "stderr",
     "output_type": "stream",
     "text": [
      "Using TensorFlow backend.\n"
     ]
    }
   ],
   "source": [
    "from keras.models import load_model"
   ]
  },
  {
   "cell_type": "code",
   "execution_count": 3,
   "metadata": {
    "colab": {
     "base_uri": "https://localhost:8080/",
     "height": 782
    },
    "colab_type": "code",
    "id": "9PAetOnqc8aX",
    "outputId": "3b510b5d-18d8-4cb2-cfe8-bcc76309c242"
   },
   "outputs": [],
   "source": [
    "model = load_model('ASS3_Q2.h5')"
   ]
  },
  {
   "cell_type": "code",
   "execution_count": 4,
   "metadata": {
    "colab": {
     "base_uri": "https://localhost:8080/",
     "height": 63
    },
    "colab_type": "code",
    "id": "FdYihK-HdDwz",
    "outputId": "fddde20c-ac37-4eba-a7b1-2401c29c9baa"
   },
   "outputs": [
    {
     "name": "stdout",
     "output_type": "stream",
     "text": [
      "_________________________________________________________________\n",
      "Layer (type)                 Output Shape              Param #   \n",
      "=================================================================\n",
      "vgg19 (Model)                (None, 4, 4, 512)         20024384  \n",
      "_________________________________________________________________\n",
      "flatten_1 (Flatten)          (None, 8192)              0         \n",
      "_________________________________________________________________\n",
      "dense_1 (Dense)              (None, 256)               2097408   \n",
      "_________________________________________________________________\n",
      "dense_2 (Dense)              (None, 1)                 257       \n",
      "=================================================================\n",
      "Total params: 22,122,049\n",
      "Trainable params: 11,536,897\n",
      "Non-trainable params: 10,585,152\n",
      "_________________________________________________________________\n"
     ]
    }
   ],
   "source": [
    "model.summary()"
   ]
  },
  {
   "cell_type": "code",
   "execution_count": 5,
   "metadata": {
    "colab": {},
    "colab_type": "code",
    "id": "KNPlJQaTfkBt"
   },
   "outputs": [
    {
     "name": "stdout",
     "output_type": "stream",
     "text": [
      "/bin/sh: wget: command not found\r\n"
     ]
    }
   ],
   "source": [
    "!wget --no-check-certificate \\\n",
    "    https://storage.googleapis.com/mledu-datasets/cats_and_dogs_filtered.zip \\\n",
    "    -O /tmp/cats_and_dogs_filtered.zip"
   ]
  },
  {
   "cell_type": "code",
   "execution_count": 0,
   "metadata": {
    "colab": {},
    "colab_type": "code",
    "id": "1tAAhCCuf44a"
   },
   "outputs": [],
   "source": [
    "import os\n",
    "import zipfile\n",
    "\n",
    "local_zip = '/tmp/cats_and_dogs_filtered.zip'\n",
    "zip_ref = zipfile.ZipFile(local_zip, 'r')\n",
    "zip_ref.extractall('/tmp')\n",
    "zip_ref.close()"
   ]
  },
  {
   "cell_type": "code",
   "execution_count": 0,
   "metadata": {
    "colab": {},
    "colab_type": "code",
    "id": "_R_invzMf6sR"
   },
   "outputs": [],
   "source": [
    "base_dir = '/tmp/cats_and_dogs_filtered'\n",
    "train_dir = os.path.join(base_dir, 'train')\n",
    "validation_dir = os.path.join(base_dir, 'validation')\n",
    "\n",
    "# Directory with our training cat pictures\n",
    "train_cats_dir = os.path.join(train_dir, 'cats')\n",
    "\n",
    "# Directory with our training dog pictures\n",
    "train_dogs_dir = os.path.join(train_dir, 'dogs')\n",
    "\n",
    "# Directory with our validation cat pictures\n",
    "validation_cats_dir = os.path.join(validation_dir, 'cats')\n",
    "\n",
    "# Directory with our validation dog pictures\n",
    "validation_dogs_dir = os.path.join(validation_dir, 'dogs')"
   ]
  },
  {
   "cell_type": "code",
   "execution_count": 0,
   "metadata": {
    "colab": {},
    "colab_type": "code",
    "id": "Z0XP2ZPFf8l5"
   },
   "outputs": [],
   "source": [
    "!ls /tmp/cats_and_dogs_filtered/validation/cats | head -3\n",
    "!ls /tmp/cats_and_dogs_filtered/validation/dogs | head -3"
   ]
  },
  {
   "cell_type": "code",
   "execution_count": 0,
   "metadata": {
    "colab": {},
    "colab_type": "code",
    "id": "8VVHIlIuf-6-"
   },
   "outputs": [],
   "source": [
    "img_path = '/tmp/cats_and_dogs_filtered/validation/dogs/dog.2001.jpg'\n",
    "\n"
   ]
  },
  {
   "cell_type": "code",
   "execution_count": 0,
   "metadata": {
    "colab": {},
    "colab_type": "code",
    "id": "Q0UCNjPSgDw9"
   },
   "outputs": [],
   "source": [
    "last_conv_layer = model.get_layer('block5_conv3')"
   ]
  },
  {
   "cell_type": "code",
   "execution_count": 0,
   "metadata": {
    "colab": {},
    "colab_type": "code",
    "id": "hMKep7uqgIhI"
   },
   "outputs": [],
   "source": [
    "import cv2\n",
    "from google.colab.patches import cv2_imshow\n",
    "%matplotlib inline\n",
    "from matplotlib import pyplot as plt\n",
    "import numpy as np\n",
    "from keras import backend as K"
   ]
  },
  {
   "cell_type": "code",
   "execution_count": 0,
   "metadata": {
    "colab": {},
    "colab_type": "code",
    "id": "p07rVv40gJ-u"
   },
   "outputs": [],
   "source": [
    "def show_superimposed_image(img_path, heatmap):\n",
    "\n",
    "  img = cv2.imread(img_path)\n",
    "  # resize the heatmap to be the same size as the original image\n",
    "  heatmap = cv2.resize(heatmap, (img.shape[1], img.shape[0]))\n",
    "\n",
    "  heatmap = np.uint8(255 * heatmap)\n",
    "\n",
    "  heatmap = cv2.applyColorMap(heatmap, cv2.COLORMAP_JET)\n",
    "\n",
    "  superimposed_img = heatmap * 0.4 + img\n",
    "\n",
    "  cv2_imshow(superimposed_img)"
   ]
  },
  {
   "cell_type": "code",
   "execution_count": 0,
   "metadata": {
    "colab": {},
    "colab_type": "code",
    "id": "bKpcaL7wgMQU"
   },
   "outputs": [],
   "source": [
    "def process_image(img_path, idx=0):\n",
    "  img = image.load_img(img_path, target_size=(224, 224))\n",
    "  #\n",
    "  plt.imshow(img)\n",
    "  plt.grid(None)\n",
    "  plt.show()\n",
    "  #\n",
    "  x = image.img_to_array(img)\n",
    "  x = np.expand_dims(x, axis=0)\n",
    "  x = preprocess_input(x)\n",
    "  #\n",
    "  preds = model.predict(x)\n",
    "  print('Predicted:', decode_predictions(preds, top=3)[0])\n",
    "  #\n",
    "  #class_index = np.argmax(preds[0])\n",
    "  \n",
    "  class_index = np.argsort(preds[0])[-(1+idx)]\n",
    "  \n",
    "  class_output = model.output[:, class_index]\n",
    "  \n",
    "  grads = K.gradients(class_output, last_conv_layer.output)[0]\n",
    "\n",
    "  pooled_grads = K.mean(grads, axis=(0, 1, 2))\n",
    "\n",
    "  iterate = K.function([model.input], [pooled_grads, last_conv_layer.output[0]])\n",
    "\n",
    "  pooled_grads_value, conv_layer_output_value = iterate([x])\n",
    "\n",
    "  for i in range(512):\n",
    "    conv_layer_output_value[:, :, i] *= pooled_grads_value[i]\n",
    "\n",
    "  heatmap = np.mean(conv_layer_output_value, axis=-1)\n",
    "  \n",
    "  heatmap = np.maximum(heatmap, 0)\n",
    "  heatmap /= np.max(heatmap)\n",
    "\n",
    "  plt.matshow(heatmap)\n",
    "  plt.grid(None)\n",
    "  plt.show()\n",
    "  #\n",
    "  show_superimposed_image(img_path, heatmap)"
   ]
  },
  {
   "cell_type": "code",
   "execution_count": 0,
   "metadata": {
    "colab": {},
    "colab_type": "code",
    "id": "_sT2qbqSgP4g"
   },
   "outputs": [],
   "source": []
  }
 ],
 "metadata": {
  "colab": {
   "collapsed_sections": [],
   "name": "Q3.ipynb",
   "provenance": [],
   "version": "0.3.2"
  },
  "kernelspec": {
   "display_name": "Python 3",
   "language": "python",
   "name": "python3"
  },
  "language_info": {
   "codemirror_mode": {
    "name": "ipython",
    "version": 3
   },
   "file_extension": ".py",
   "mimetype": "text/x-python",
   "name": "python",
   "nbconvert_exporter": "python",
   "pygments_lexer": "ipython3",
   "version": "3.7.0"
  }
 },
 "nbformat": 4,
 "nbformat_minor": 1
}
