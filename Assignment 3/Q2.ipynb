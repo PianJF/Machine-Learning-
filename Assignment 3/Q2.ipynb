{
  "nbformat": 4,
  "nbformat_minor": 0,
  "metadata": {
    "colab": {
      "name": "Q2.ipynb",
      "version": "0.3.2",
      "provenance": [],
      "collapsed_sections": []
    },
    "kernelspec": {
      "name": "python3",
      "display_name": "Python 3"
    },
    "accelerator": "GPU"
  },
  "cells": [
    {
      "metadata": {
        "id": "nlkA4tEPk0lK",
        "colab_type": "code",
        "colab": {
          "base_uri": "https://localhost:8080/",
          "height": 233
        },
        "outputId": "dc98cd88-508b-4c2e-ff9e-87b7535e2e2f"
      },
      "cell_type": "code",
      "source": [
        "!wget --no-check-certificate \\\n",
        "    https://storage.googleapis.com/mledu-datasets/cats_and_dogs_filtered.zip \\\n",
        "    -O /tmp/cats_and_dogs_filtered.zip"
      ],
      "execution_count": 1,
      "outputs": [
        {
          "output_type": "stream",
          "text": [
            "--2019-04-11 23:21:23--  https://storage.googleapis.com/mledu-datasets/cats_and_dogs_filtered.zip\n",
            "Resolving storage.googleapis.com (storage.googleapis.com)... 64.233.188.128, 2404:6800:4008:c04::80\n",
            "Connecting to storage.googleapis.com (storage.googleapis.com)|64.233.188.128|:443... connected.\n",
            "HTTP request sent, awaiting response... 200 OK\n",
            "Length: 68606236 (65M) [application/zip]\n",
            "Saving to: ‘/tmp/cats_and_dogs_filtered.zip’\n",
            "\n",
            "/tmp/cats_and_dogs_ 100%[===================>]  65.43M  44.9MB/s    in 1.5s    \n",
            "\n",
            "2019-04-11 23:21:25 (44.9 MB/s) - ‘/tmp/cats_and_dogs_filtered.zip’ saved [68606236/68606236]\n",
            "\n"
          ],
          "name": "stdout"
        }
      ]
    },
    {
      "metadata": {
        "id": "25i7uTeIl6qt",
        "colab_type": "code",
        "colab": {}
      },
      "cell_type": "code",
      "source": [
        "import os\n",
        "import zipfile\n",
        "\n",
        "local_zip = '/tmp/cats_and_dogs_filtered.zip'\n",
        "zip_ref = zipfile.ZipFile(local_zip, 'r')\n",
        "zip_ref.extractall('/tmp')\n",
        "zip_ref.close()"
      ],
      "execution_count": 0,
      "outputs": []
    },
    {
      "metadata": {
        "id": "O3wxaayzl8aI",
        "colab_type": "code",
        "colab": {}
      },
      "cell_type": "code",
      "source": [
        "base_dir = '/tmp/cats_and_dogs_filtered'\n",
        "train_dir = os.path.join(base_dir, 'train')\n",
        "validation_dir = os.path.join(base_dir, 'validation')\n",
        "\n",
        "# Directory with our training cat pictures\n",
        "train_cats_dir = os.path.join(train_dir, 'cats')\n",
        "\n",
        "# Directory with our training dog pictures\n",
        "train_dogs_dir = os.path.join(train_dir, 'dogs')\n",
        "\n",
        "# Directory with our validation cat pictures\n",
        "validation_cats_dir = os.path.join(validation_dir, 'cats')\n",
        "\n",
        "# Directory with our validation dog pictures\n",
        "validation_dogs_dir = os.path.join(validation_dir, 'dogs')"
      ],
      "execution_count": 0,
      "outputs": []
    },
    {
      "metadata": {
        "id": "i27dg5v5l-MC",
        "colab_type": "code",
        "colab": {
          "base_uri": "https://localhost:8080/",
          "height": 165
        },
        "outputId": "37d204c4-d849-4b2e-9856-8471e82f7038"
      },
      "cell_type": "code",
      "source": [
        "from keras.applications import VGG19\n",
        "\n",
        "conv_base = VGG19(\n",
        "    weights='imagenet', \n",
        "    include_top=False, \n",
        "    input_shape=(150, 150, 3))"
      ],
      "execution_count": 4,
      "outputs": [
        {
          "output_type": "stream",
          "text": [
            "Using TensorFlow backend.\n"
          ],
          "name": "stderr"
        },
        {
          "output_type": "stream",
          "text": [
            "WARNING:tensorflow:From /usr/local/lib/python3.6/dist-packages/tensorflow/python/framework/op_def_library.py:263: colocate_with (from tensorflow.python.framework.ops) is deprecated and will be removed in a future version.\n",
            "Instructions for updating:\n",
            "Colocations handled automatically by placer.\n"
          ],
          "name": "stdout"
        }
      ]
    },
    {
      "metadata": {
        "id": "k1SQUWSNl_-Q",
        "colab_type": "code",
        "colab": {}
      },
      "cell_type": "code",
      "source": [
        "conv_base.trainable = False"
      ],
      "execution_count": 0,
      "outputs": []
    },
    {
      "metadata": {
        "id": "5g7TfyeFmGqk",
        "colab_type": "code",
        "colab": {
          "base_uri": "https://localhost:8080/",
          "height": 884
        },
        "outputId": "50c0d3c1-14ff-4370-de52-6538ed3d9add"
      },
      "cell_type": "code",
      "source": [
        "conv_base.summary()"
      ],
      "execution_count": 6,
      "outputs": [
        {
          "output_type": "stream",
          "text": [
            "_________________________________________________________________\n",
            "Layer (type)                 Output Shape              Param #   \n",
            "=================================================================\n",
            "input_1 (InputLayer)         (None, 150, 150, 3)       0         \n",
            "_________________________________________________________________\n",
            "block1_conv1 (Conv2D)        (None, 150, 150, 64)      1792      \n",
            "_________________________________________________________________\n",
            "block1_conv2 (Conv2D)        (None, 150, 150, 64)      36928     \n",
            "_________________________________________________________________\n",
            "block1_pool (MaxPooling2D)   (None, 75, 75, 64)        0         \n",
            "_________________________________________________________________\n",
            "block2_conv1 (Conv2D)        (None, 75, 75, 128)       73856     \n",
            "_________________________________________________________________\n",
            "block2_conv2 (Conv2D)        (None, 75, 75, 128)       147584    \n",
            "_________________________________________________________________\n",
            "block2_pool (MaxPooling2D)   (None, 37, 37, 128)       0         \n",
            "_________________________________________________________________\n",
            "block3_conv1 (Conv2D)        (None, 37, 37, 256)       295168    \n",
            "_________________________________________________________________\n",
            "block3_conv2 (Conv2D)        (None, 37, 37, 256)       590080    \n",
            "_________________________________________________________________\n",
            "block3_conv3 (Conv2D)        (None, 37, 37, 256)       590080    \n",
            "_________________________________________________________________\n",
            "block3_conv4 (Conv2D)        (None, 37, 37, 256)       590080    \n",
            "_________________________________________________________________\n",
            "block3_pool (MaxPooling2D)   (None, 18, 18, 256)       0         \n",
            "_________________________________________________________________\n",
            "block4_conv1 (Conv2D)        (None, 18, 18, 512)       1180160   \n",
            "_________________________________________________________________\n",
            "block4_conv2 (Conv2D)        (None, 18, 18, 512)       2359808   \n",
            "_________________________________________________________________\n",
            "block4_conv3 (Conv2D)        (None, 18, 18, 512)       2359808   \n",
            "_________________________________________________________________\n",
            "block4_conv4 (Conv2D)        (None, 18, 18, 512)       2359808   \n",
            "_________________________________________________________________\n",
            "block4_pool (MaxPooling2D)   (None, 9, 9, 512)         0         \n",
            "_________________________________________________________________\n",
            "block5_conv1 (Conv2D)        (None, 9, 9, 512)         2359808   \n",
            "_________________________________________________________________\n",
            "block5_conv2 (Conv2D)        (None, 9, 9, 512)         2359808   \n",
            "_________________________________________________________________\n",
            "block5_conv3 (Conv2D)        (None, 9, 9, 512)         2359808   \n",
            "_________________________________________________________________\n",
            "block5_conv4 (Conv2D)        (None, 9, 9, 512)         2359808   \n",
            "_________________________________________________________________\n",
            "block5_pool (MaxPooling2D)   (None, 4, 4, 512)         0         \n",
            "=================================================================\n",
            "Total params: 20,024,384\n",
            "Trainable params: 0\n",
            "Non-trainable params: 20,024,384\n",
            "_________________________________________________________________\n"
          ],
          "name": "stdout"
        }
      ]
    },
    {
      "metadata": {
        "id": "xssM6tyomImv",
        "colab_type": "code",
        "colab": {}
      },
      "cell_type": "code",
      "source": [
        "from keras import layers\n",
        "from keras import models\n",
        "from keras import optimizers\n",
        "\n",
        "model = models.Sequential()\n",
        "model.add(conv_base)\n",
        "model.add(layers.Flatten())\n",
        "model.add(layers.Dense(256, activation='relu'))\n",
        "model.add(layers.Dense(1, activation='sigmoid'))"
      ],
      "execution_count": 0,
      "outputs": []
    },
    {
      "metadata": {
        "id": "wFh6iF9HmLNN",
        "colab_type": "code",
        "colab": {
          "base_uri": "https://localhost:8080/",
          "height": 272
        },
        "outputId": "a32c04a0-d388-40ee-943b-39acca073ac9"
      },
      "cell_type": "code",
      "source": [
        "model.summary()"
      ],
      "execution_count": 8,
      "outputs": [
        {
          "output_type": "stream",
          "text": [
            "_________________________________________________________________\n",
            "Layer (type)                 Output Shape              Param #   \n",
            "=================================================================\n",
            "vgg19 (Model)                (None, 4, 4, 512)         20024384  \n",
            "_________________________________________________________________\n",
            "flatten_1 (Flatten)          (None, 8192)              0         \n",
            "_________________________________________________________________\n",
            "dense_1 (Dense)              (None, 256)               2097408   \n",
            "_________________________________________________________________\n",
            "dense_2 (Dense)              (None, 1)                 257       \n",
            "=================================================================\n",
            "Total params: 22,122,049\n",
            "Trainable params: 2,097,665\n",
            "Non-trainable params: 20,024,384\n",
            "_________________________________________________________________\n"
          ],
          "name": "stdout"
        }
      ]
    },
    {
      "metadata": {
        "id": "8Z3_uJoYmseV",
        "colab_type": "code",
        "colab": {
          "base_uri": "https://localhost:8080/",
          "height": 1142
        },
        "outputId": "423b2a8b-c609-4ada-8a8f-17963e9d96e7"
      },
      "cell_type": "code",
      "source": [
        "from keras.preprocessing.image import ImageDataGenerator\n",
        "from keras import optimizers\n",
        "\n",
        "# data augmentation\n",
        "\n",
        "train_datagen = ImageDataGenerator(\n",
        "    rescale=1./255, \n",
        "    rotation_range=40,\n",
        "    width_shift_range=0.2,\n",
        "    height_shift_range=0.2,\n",
        "    shear_range=0.2,\n",
        "    zoom_range=0.2,\n",
        "    horizontal_flip=True,\n",
        "    fill_mode='nearest'\n",
        ")\n",
        "\n",
        "train_generator = train_datagen.flow_from_directory(\n",
        "    train_dir,\n",
        "    target_size=(150, 150),\n",
        "    batch_size=20,\n",
        "    class_mode='binary')\n",
        "\n",
        "validation_datagen = ImageDataGenerator(rescale=1./255)\n",
        "\n",
        "validation_generator = validation_datagen.flow_from_directory(\n",
        "    validation_dir,\n",
        "    target_size=(150, 150),\n",
        "    batch_size=20,\n",
        "    class_mode='binary')\n",
        "\n",
        "# compile model\n",
        "\n",
        "model.compile(\n",
        "    loss='binary_crossentropy', \n",
        "    optimizer=optimizers.RMSprop(lr=2e-5), \n",
        "    metrics=['acc'])\n",
        "\n",
        "# train\n",
        "\n",
        "history = model.fit_generator(\n",
        "    train_generator,\n",
        "    steps_per_epoch=100,\n",
        "    epochs=30,\n",
        "    validation_data=validation_generator,\n",
        "    validation_steps=50\n",
        ")"
      ],
      "execution_count": 9,
      "outputs": [
        {
          "output_type": "stream",
          "text": [
            "Found 2000 images belonging to 2 classes.\n",
            "Found 1000 images belonging to 2 classes.\n",
            "WARNING:tensorflow:From /usr/local/lib/python3.6/dist-packages/tensorflow/python/ops/math_ops.py:3066: to_int32 (from tensorflow.python.ops.math_ops) is deprecated and will be removed in a future version.\n",
            "Instructions for updating:\n",
            "Use tf.cast instead.\n",
            "Epoch 1/30\n",
            "100/100 [==============================] - 32s 324ms/step - loss: 0.6189 - acc: 0.6665 - val_loss: 0.4806 - val_acc: 0.7860\n",
            "Epoch 2/30\n",
            "100/100 [==============================] - 28s 285ms/step - loss: 0.5201 - acc: 0.7575 - val_loss: 0.4136 - val_acc: 0.8100\n",
            "Epoch 3/30\n",
            "100/100 [==============================] - 29s 286ms/step - loss: 0.4740 - acc: 0.7820 - val_loss: 0.3690 - val_acc: 0.8320\n",
            "Epoch 4/30\n",
            "100/100 [==============================] - 28s 285ms/step - loss: 0.4464 - acc: 0.7930 - val_loss: 0.3511 - val_acc: 0.8470\n",
            "Epoch 5/30\n",
            "100/100 [==============================] - 28s 285ms/step - loss: 0.4202 - acc: 0.8185 - val_loss: 0.3263 - val_acc: 0.8480\n",
            "Epoch 6/30\n",
            "100/100 [==============================] - 29s 287ms/step - loss: 0.4142 - acc: 0.8150 - val_loss: 0.3126 - val_acc: 0.8510\n",
            "Epoch 7/30\n",
            "100/100 [==============================] - 28s 284ms/step - loss: 0.3998 - acc: 0.8165 - val_loss: 0.3030 - val_acc: 0.8680\n",
            "Epoch 8/30\n",
            "100/100 [==============================] - 28s 284ms/step - loss: 0.3870 - acc: 0.8290 - val_loss: 0.2946 - val_acc: 0.8660\n",
            "Epoch 9/30\n",
            "100/100 [==============================] - 28s 283ms/step - loss: 0.3768 - acc: 0.8345 - val_loss: 0.2884 - val_acc: 0.8720\n",
            "Epoch 10/30\n",
            "100/100 [==============================] - 29s 285ms/step - loss: 0.3596 - acc: 0.8445 - val_loss: 0.2812 - val_acc: 0.8790\n",
            "Epoch 11/30\n",
            "100/100 [==============================] - 29s 285ms/step - loss: 0.3780 - acc: 0.8325 - val_loss: 0.2797 - val_acc: 0.8800\n",
            "Epoch 12/30\n",
            "100/100 [==============================] - 28s 285ms/step - loss: 0.3556 - acc: 0.8475 - val_loss: 0.3350 - val_acc: 0.8580\n",
            "Epoch 13/30\n",
            "100/100 [==============================] - 28s 284ms/step - loss: 0.3496 - acc: 0.8460 - val_loss: 0.2878 - val_acc: 0.8770\n",
            "Epoch 14/30\n",
            "100/100 [==============================] - 28s 285ms/step - loss: 0.3467 - acc: 0.8425 - val_loss: 0.3063 - val_acc: 0.8710\n",
            "Epoch 15/30\n",
            "100/100 [==============================] - 28s 283ms/step - loss: 0.3563 - acc: 0.8480 - val_loss: 0.2693 - val_acc: 0.8890\n",
            "Epoch 16/30\n",
            "100/100 [==============================] - 28s 284ms/step - loss: 0.3477 - acc: 0.8470 - val_loss: 0.2725 - val_acc: 0.8780\n",
            "Epoch 17/30\n",
            "100/100 [==============================] - 29s 286ms/step - loss: 0.3379 - acc: 0.8475 - val_loss: 0.2728 - val_acc: 0.8830\n",
            "Epoch 18/30\n",
            "100/100 [==============================] - 28s 283ms/step - loss: 0.3395 - acc: 0.8500 - val_loss: 0.2625 - val_acc: 0.8880\n",
            "Epoch 19/30\n",
            "100/100 [==============================] - 29s 286ms/step - loss: 0.3587 - acc: 0.8420 - val_loss: 0.2658 - val_acc: 0.8780\n",
            "Epoch 20/30\n",
            "100/100 [==============================] - 29s 286ms/step - loss: 0.3372 - acc: 0.8490 - val_loss: 0.2888 - val_acc: 0.8750\n",
            "Epoch 21/30\n",
            "100/100 [==============================] - 29s 286ms/step - loss: 0.3362 - acc: 0.8540 - val_loss: 0.2680 - val_acc: 0.8830\n",
            "Epoch 22/30\n",
            "100/100 [==============================] - 28s 284ms/step - loss: 0.3312 - acc: 0.8585 - val_loss: 0.2590 - val_acc: 0.8850\n",
            "Epoch 23/30\n",
            "100/100 [==============================] - 29s 286ms/step - loss: 0.3312 - acc: 0.8590 - val_loss: 0.2557 - val_acc: 0.8910\n",
            "Epoch 24/30\n",
            "100/100 [==============================] - 28s 285ms/step - loss: 0.3250 - acc: 0.8530 - val_loss: 0.2558 - val_acc: 0.8950\n",
            "Epoch 25/30\n",
            "100/100 [==============================] - 29s 285ms/step - loss: 0.3124 - acc: 0.8615 - val_loss: 0.2537 - val_acc: 0.8880\n",
            "Epoch 26/30\n",
            "100/100 [==============================] - 29s 286ms/step - loss: 0.3186 - acc: 0.8670 - val_loss: 0.2555 - val_acc: 0.8830\n",
            "Epoch 27/30\n",
            "100/100 [==============================] - 29s 285ms/step - loss: 0.3399 - acc: 0.8515 - val_loss: 0.2719 - val_acc: 0.8830\n",
            "Epoch 28/30\n",
            "100/100 [==============================] - 28s 285ms/step - loss: 0.3308 - acc: 0.8530 - val_loss: 0.2556 - val_acc: 0.8840\n",
            "Epoch 29/30\n",
            "100/100 [==============================] - 28s 283ms/step - loss: 0.3225 - acc: 0.8465 - val_loss: 0.2526 - val_acc: 0.8900\n",
            "Epoch 30/30\n",
            "100/100 [==============================] - 29s 285ms/step - loss: 0.3137 - acc: 0.8700 - val_loss: 0.2705 - val_acc: 0.8850\n"
          ],
          "name": "stdout"
        }
      ]
    },
    {
      "metadata": {
        "id": "idE4MVVNmy4U",
        "colab_type": "text"
      },
      "cell_type": "markdown",
      "source": [
        "Fine tuning"
      ]
    },
    {
      "metadata": {
        "id": "flpflFrEmv59",
        "colab_type": "code",
        "colab": {}
      },
      "cell_type": "code",
      "source": [
        "conv_base.trainable = True\n",
        "\n",
        "set_trainable = False\n",
        "for layer in conv_base.layers:\n",
        "  if layer.name == 'block5_conv1':\n",
        "    set_trainable = True\n",
        "  if set_trainable:\n",
        "    layer.trainable = True\n",
        "  else:\n",
        "    layer.trainable = False"
      ],
      "execution_count": 0,
      "outputs": []
    },
    {
      "metadata": {
        "id": "RJ4xjqBWm2o2",
        "colab_type": "code",
        "colab": {
          "base_uri": "https://localhost:8080/",
          "height": 3417
        },
        "outputId": "edc0e9ff-328d-4521-df10-5338696242e1"
      },
      "cell_type": "code",
      "source": [
        "# compile model\n",
        "\n",
        "model.compile(\n",
        "    loss='binary_crossentropy',\n",
        "    optimizer=optimizers.RMSprop(lr=1e-5), \n",
        "    metrics=['acc'])\n",
        "\n",
        "# train\n",
        "\n",
        "history = model.fit_generator(\n",
        "    train_generator,\n",
        "    steps_per_epoch=100,\n",
        "    epochs=100,\n",
        "    validation_data=validation_generator,\n",
        "    validation_steps=50)"
      ],
      "execution_count": 11,
      "outputs": [
        {
          "output_type": "stream",
          "text": [
            "Epoch 1/100\n",
            "100/100 [==============================] - 33s 327ms/step - loss: 0.3257 - acc: 0.8470 - val_loss: 0.2476 - val_acc: 0.8970\n",
            "Epoch 2/100\n",
            "100/100 [==============================] - 30s 299ms/step - loss: 0.2800 - acc: 0.8825 - val_loss: 0.2255 - val_acc: 0.9170\n",
            "Epoch 3/100\n",
            "100/100 [==============================] - 30s 299ms/step - loss: 0.2418 - acc: 0.8935 - val_loss: 0.2015 - val_acc: 0.9150\n",
            "Epoch 4/100\n",
            "100/100 [==============================] - 30s 299ms/step - loss: 0.2392 - acc: 0.9035 - val_loss: 0.2136 - val_acc: 0.9150\n",
            "Epoch 5/100\n",
            "100/100 [==============================] - 30s 299ms/step - loss: 0.2161 - acc: 0.9065 - val_loss: 0.1918 - val_acc: 0.9320\n",
            "Epoch 6/100\n",
            "100/100 [==============================] - 30s 298ms/step - loss: 0.2108 - acc: 0.9215 - val_loss: 0.2696 - val_acc: 0.9020\n",
            "Epoch 7/100\n",
            "100/100 [==============================] - 30s 298ms/step - loss: 0.1911 - acc: 0.9215 - val_loss: 0.2512 - val_acc: 0.9180\n",
            "Epoch 8/100\n",
            "100/100 [==============================] - 29s 293ms/step - loss: 0.1662 - acc: 0.9330 - val_loss: 0.1910 - val_acc: 0.9330\n",
            "Epoch 9/100\n",
            "100/100 [==============================] - 29s 294ms/step - loss: 0.1652 - acc: 0.9400 - val_loss: 0.1858 - val_acc: 0.9380\n",
            "Epoch 10/100\n",
            "100/100 [==============================] - 29s 294ms/step - loss: 0.1682 - acc: 0.9360 - val_loss: 0.2031 - val_acc: 0.9360\n",
            "Epoch 11/100\n",
            "100/100 [==============================] - 30s 295ms/step - loss: 0.1541 - acc: 0.9400 - val_loss: 0.1717 - val_acc: 0.9340\n",
            "Epoch 12/100\n",
            "100/100 [==============================] - 29s 294ms/step - loss: 0.1555 - acc: 0.9405 - val_loss: 0.1647 - val_acc: 0.9400\n",
            "Epoch 13/100\n",
            "100/100 [==============================] - 30s 295ms/step - loss: 0.1456 - acc: 0.9370 - val_loss: 0.2510 - val_acc: 0.9240\n",
            "Epoch 14/100\n",
            "100/100 [==============================] - 29s 294ms/step - loss: 0.1179 - acc: 0.9525 - val_loss: 0.2662 - val_acc: 0.9150\n",
            "Epoch 15/100\n",
            "100/100 [==============================] - 29s 294ms/step - loss: 0.1182 - acc: 0.9460 - val_loss: 0.1431 - val_acc: 0.9460\n",
            "Epoch 16/100\n",
            "100/100 [==============================] - 29s 295ms/step - loss: 0.1131 - acc: 0.9575 - val_loss: 0.1477 - val_acc: 0.9420\n",
            "Epoch 17/100\n",
            "100/100 [==============================] - 29s 294ms/step - loss: 0.1213 - acc: 0.9470 - val_loss: 0.2001 - val_acc: 0.9400\n",
            "Epoch 18/100\n",
            "100/100 [==============================] - 29s 293ms/step - loss: 0.0962 - acc: 0.9640 - val_loss: 0.1737 - val_acc: 0.9410\n",
            "Epoch 19/100\n",
            "100/100 [==============================] - 30s 295ms/step - loss: 0.0956 - acc: 0.9625 - val_loss: 0.2716 - val_acc: 0.9220\n",
            "Epoch 20/100\n",
            "100/100 [==============================] - 29s 294ms/step - loss: 0.0913 - acc: 0.9630 - val_loss: 0.1623 - val_acc: 0.9470\n",
            "Epoch 21/100\n",
            "100/100 [==============================] - 30s 295ms/step - loss: 0.0819 - acc: 0.9670 - val_loss: 0.1493 - val_acc: 0.9500\n",
            "Epoch 22/100\n",
            "100/100 [==============================] - 29s 295ms/step - loss: 0.0844 - acc: 0.9690 - val_loss: 0.1837 - val_acc: 0.9560\n",
            "Epoch 23/100\n",
            "100/100 [==============================] - 29s 294ms/step - loss: 0.0861 - acc: 0.9680 - val_loss: 0.2742 - val_acc: 0.9310\n",
            "Epoch 24/100\n",
            "100/100 [==============================] - 30s 295ms/step - loss: 0.0938 - acc: 0.9655 - val_loss: 0.2124 - val_acc: 0.9410\n",
            "Epoch 25/100\n",
            "100/100 [==============================] - 29s 295ms/step - loss: 0.0863 - acc: 0.9640 - val_loss: 0.1561 - val_acc: 0.9570\n",
            "Epoch 26/100\n",
            "100/100 [==============================] - 29s 295ms/step - loss: 0.0853 - acc: 0.9690 - val_loss: 0.2557 - val_acc: 0.9350\n",
            "Epoch 27/100\n",
            "100/100 [==============================] - 30s 295ms/step - loss: 0.0884 - acc: 0.9660 - val_loss: 0.1493 - val_acc: 0.9560\n",
            "Epoch 28/100\n",
            "100/100 [==============================] - 29s 295ms/step - loss: 0.0636 - acc: 0.9765 - val_loss: 0.2300 - val_acc: 0.9390\n",
            "Epoch 29/100\n",
            "100/100 [==============================] - 30s 296ms/step - loss: 0.0756 - acc: 0.9720 - val_loss: 0.2750 - val_acc: 0.9190\n",
            "Epoch 30/100\n",
            "100/100 [==============================] - 29s 295ms/step - loss: 0.0727 - acc: 0.9730 - val_loss: 0.4289 - val_acc: 0.8980\n",
            "Epoch 31/100\n",
            "100/100 [==============================] - 29s 295ms/step - loss: 0.0614 - acc: 0.9805 - val_loss: 0.2162 - val_acc: 0.9440\n",
            "Epoch 32/100\n",
            "100/100 [==============================] - 30s 296ms/step - loss: 0.0655 - acc: 0.9735 - val_loss: 0.2281 - val_acc: 0.9430\n",
            "Epoch 33/100\n",
            "100/100 [==============================] - 30s 295ms/step - loss: 0.0616 - acc: 0.9760 - val_loss: 0.2579 - val_acc: 0.9360\n",
            "Epoch 34/100\n",
            "100/100 [==============================] - 30s 296ms/step - loss: 0.0666 - acc: 0.9750 - val_loss: 0.2280 - val_acc: 0.9450\n",
            "Epoch 35/100\n",
            "100/100 [==============================] - 29s 295ms/step - loss: 0.0486 - acc: 0.9785 - val_loss: 0.2599 - val_acc: 0.9400\n",
            "Epoch 36/100\n",
            "100/100 [==============================] - 30s 296ms/step - loss: 0.0603 - acc: 0.9800 - val_loss: 0.2199 - val_acc: 0.9480\n",
            "Epoch 37/100\n",
            "100/100 [==============================] - 30s 296ms/step - loss: 0.0551 - acc: 0.9795 - val_loss: 0.2067 - val_acc: 0.9470\n",
            "Epoch 38/100\n",
            "100/100 [==============================] - 30s 295ms/step - loss: 0.0557 - acc: 0.9805 - val_loss: 0.2814 - val_acc: 0.9390\n",
            "Epoch 39/100\n",
            "100/100 [==============================] - 30s 296ms/step - loss: 0.0463 - acc: 0.9835 - val_loss: 0.1933 - val_acc: 0.9410\n",
            "Epoch 40/100\n",
            "100/100 [==============================] - 30s 295ms/step - loss: 0.0452 - acc: 0.9840 - val_loss: 0.2501 - val_acc: 0.9410\n",
            "Epoch 41/100\n",
            "100/100 [==============================] - 29s 293ms/step - loss: 0.0508 - acc: 0.9845 - val_loss: 0.3508 - val_acc: 0.9160\n",
            "Epoch 42/100\n",
            "100/100 [==============================] - 30s 296ms/step - loss: 0.0458 - acc: 0.9815 - val_loss: 0.2674 - val_acc: 0.9410\n",
            "Epoch 43/100\n",
            "100/100 [==============================] - 29s 295ms/step - loss: 0.0429 - acc: 0.9875 - val_loss: 0.2296 - val_acc: 0.9520\n",
            "Epoch 44/100\n",
            "100/100 [==============================] - 29s 294ms/step - loss: 0.0419 - acc: 0.9820 - val_loss: 0.2314 - val_acc: 0.9540\n",
            "Epoch 45/100\n",
            "100/100 [==============================] - 29s 295ms/step - loss: 0.0475 - acc: 0.9820 - val_loss: 0.1751 - val_acc: 0.9570\n",
            "Epoch 46/100\n",
            "100/100 [==============================] - 30s 295ms/step - loss: 0.0413 - acc: 0.9845 - val_loss: 0.5227 - val_acc: 0.9020\n",
            "Epoch 47/100\n",
            "100/100 [==============================] - 30s 295ms/step - loss: 0.0435 - acc: 0.9840 - val_loss: 0.3133 - val_acc: 0.9330\n",
            "Epoch 48/100\n",
            "100/100 [==============================] - 30s 296ms/step - loss: 0.0468 - acc: 0.9830 - val_loss: 0.4549 - val_acc: 0.9120\n",
            "Epoch 49/100\n",
            "100/100 [==============================] - 30s 295ms/step - loss: 0.0494 - acc: 0.9840 - val_loss: 0.2773 - val_acc: 0.9340\n",
            "Epoch 50/100\n",
            "100/100 [==============================] - 29s 294ms/step - loss: 0.0304 - acc: 0.9865 - val_loss: 0.1953 - val_acc: 0.9560\n",
            "Epoch 51/100\n",
            "100/100 [==============================] - 29s 294ms/step - loss: 0.0401 - acc: 0.9830 - val_loss: 0.3181 - val_acc: 0.9310\n",
            "Epoch 52/100\n",
            "100/100 [==============================] - 29s 295ms/step - loss: 0.0335 - acc: 0.9890 - val_loss: 0.2581 - val_acc: 0.9370\n",
            "Epoch 53/100\n",
            "100/100 [==============================] - 29s 294ms/step - loss: 0.0406 - acc: 0.9840 - val_loss: 0.4140 - val_acc: 0.9180\n",
            "Epoch 54/100\n",
            "100/100 [==============================] - 29s 295ms/step - loss: 0.0374 - acc: 0.9855 - val_loss: 0.3026 - val_acc: 0.9320\n",
            "Epoch 55/100\n",
            "100/100 [==============================] - 30s 296ms/step - loss: 0.0348 - acc: 0.9885 - val_loss: 0.2538 - val_acc: 0.9480\n",
            "Epoch 56/100\n",
            "100/100 [==============================] - 30s 295ms/step - loss: 0.0318 - acc: 0.9895 - val_loss: 0.2242 - val_acc: 0.9460\n",
            "Epoch 57/100\n",
            "100/100 [==============================] - 30s 296ms/step - loss: 0.0306 - acc: 0.9895 - val_loss: 0.2675 - val_acc: 0.9430\n",
            "Epoch 58/100\n",
            "100/100 [==============================] - 30s 296ms/step - loss: 0.0399 - acc: 0.9885 - val_loss: 0.2871 - val_acc: 0.9300\n",
            "Epoch 59/100\n",
            "100/100 [==============================] - 30s 296ms/step - loss: 0.0287 - acc: 0.9895 - val_loss: 0.2745 - val_acc: 0.9500\n",
            "Epoch 60/100\n",
            "100/100 [==============================] - 30s 296ms/step - loss: 0.0400 - acc: 0.9870 - val_loss: 0.4267 - val_acc: 0.9130\n",
            "Epoch 61/100\n",
            "100/100 [==============================] - 30s 295ms/step - loss: 0.0330 - acc: 0.9890 - val_loss: 0.4316 - val_acc: 0.9100\n",
            "Epoch 62/100\n",
            "100/100 [==============================] - 29s 293ms/step - loss: 0.0295 - acc: 0.9900 - val_loss: 0.2694 - val_acc: 0.9510\n",
            "Epoch 63/100\n",
            "100/100 [==============================] - 29s 295ms/step - loss: 0.0381 - acc: 0.9865 - val_loss: 0.2904 - val_acc: 0.9400\n",
            "Epoch 64/100\n",
            "100/100 [==============================] - 30s 295ms/step - loss: 0.0298 - acc: 0.9910 - val_loss: 0.2652 - val_acc: 0.9520\n",
            "Epoch 65/100\n",
            "100/100 [==============================] - 30s 296ms/step - loss: 0.0331 - acc: 0.9885 - val_loss: 0.2830 - val_acc: 0.9350\n",
            "Epoch 66/100\n",
            "100/100 [==============================] - 30s 295ms/step - loss: 0.0310 - acc: 0.9885 - val_loss: 0.2055 - val_acc: 0.9620\n",
            "Epoch 67/100\n",
            "100/100 [==============================] - 29s 295ms/step - loss: 0.0287 - acc: 0.9895 - val_loss: 0.2777 - val_acc: 0.9420\n",
            "Epoch 68/100\n",
            "100/100 [==============================] - 30s 295ms/step - loss: 0.0334 - acc: 0.9875 - val_loss: 0.1764 - val_acc: 0.9540\n",
            "Epoch 69/100\n",
            "100/100 [==============================] - 30s 295ms/step - loss: 0.0258 - acc: 0.9900 - val_loss: 0.3060 - val_acc: 0.9390\n",
            "Epoch 70/100\n",
            "100/100 [==============================] - 30s 295ms/step - loss: 0.0266 - acc: 0.9905 - val_loss: 0.2582 - val_acc: 0.9440\n",
            "Epoch 71/100\n",
            "100/100 [==============================] - 30s 295ms/step - loss: 0.0301 - acc: 0.9885 - val_loss: 0.2516 - val_acc: 0.9590\n",
            "Epoch 72/100\n",
            "100/100 [==============================] - 29s 294ms/step - loss: 0.0285 - acc: 0.9910 - val_loss: 0.2855 - val_acc: 0.9450\n",
            "Epoch 73/100\n",
            "100/100 [==============================] - 30s 297ms/step - loss: 0.0228 - acc: 0.9930 - val_loss: 0.3722 - val_acc: 0.9260\n",
            "Epoch 74/100\n",
            "100/100 [==============================] - 30s 296ms/step - loss: 0.0170 - acc: 0.9955 - val_loss: 0.3301 - val_acc: 0.9430\n",
            "Epoch 75/100\n",
            "100/100 [==============================] - 29s 294ms/step - loss: 0.0254 - acc: 0.9945 - val_loss: 0.3759 - val_acc: 0.9420\n",
            "Epoch 76/100\n",
            "100/100 [==============================] - 29s 295ms/step - loss: 0.0275 - acc: 0.9910 - val_loss: 0.5715 - val_acc: 0.9180\n",
            "Epoch 77/100\n",
            "100/100 [==============================] - 30s 296ms/step - loss: 0.0239 - acc: 0.9910 - val_loss: 0.4241 - val_acc: 0.9120\n",
            "Epoch 78/100\n",
            "100/100 [==============================] - 29s 295ms/step - loss: 0.0217 - acc: 0.9930 - val_loss: 0.3521 - val_acc: 0.9360\n",
            "Epoch 79/100\n",
            "100/100 [==============================] - 30s 296ms/step - loss: 0.0268 - acc: 0.9920 - val_loss: 0.2185 - val_acc: 0.9550\n",
            "Epoch 80/100\n",
            "100/100 [==============================] - 30s 296ms/step - loss: 0.0283 - acc: 0.9910 - val_loss: 0.2490 - val_acc: 0.9510\n",
            "Epoch 81/100\n",
            "100/100 [==============================] - 30s 296ms/step - loss: 0.0276 - acc: 0.9905 - val_loss: 0.2572 - val_acc: 0.9490\n",
            "Epoch 82/100\n",
            "100/100 [==============================] - 29s 294ms/step - loss: 0.0237 - acc: 0.9900 - val_loss: 0.2778 - val_acc: 0.9460\n",
            "Epoch 83/100\n",
            "100/100 [==============================] - 29s 294ms/step - loss: 0.0197 - acc: 0.9930 - val_loss: 0.4552 - val_acc: 0.9180\n",
            "Epoch 84/100\n",
            "100/100 [==============================] - 30s 296ms/step - loss: 0.0213 - acc: 0.9910 - val_loss: 0.2930 - val_acc: 0.9410\n",
            "Epoch 85/100\n",
            "100/100 [==============================] - 30s 295ms/step - loss: 0.0290 - acc: 0.9915 - val_loss: 0.3003 - val_acc: 0.9470\n",
            "Epoch 86/100\n",
            "100/100 [==============================] - 29s 294ms/step - loss: 0.0201 - acc: 0.9930 - val_loss: 0.2568 - val_acc: 0.9530\n",
            "Epoch 87/100\n",
            "100/100 [==============================] - 29s 295ms/step - loss: 0.0290 - acc: 0.9885 - val_loss: 0.3001 - val_acc: 0.9480\n",
            "Epoch 88/100\n",
            "100/100 [==============================] - 30s 295ms/step - loss: 0.0164 - acc: 0.9955 - val_loss: 0.2678 - val_acc: 0.9490\n",
            "Epoch 89/100\n",
            "100/100 [==============================] - 30s 296ms/step - loss: 0.0201 - acc: 0.9925 - val_loss: 0.2951 - val_acc: 0.9440\n",
            "Epoch 90/100\n",
            "100/100 [==============================] - 29s 295ms/step - loss: 0.0226 - acc: 0.9920 - val_loss: 0.4555 - val_acc: 0.9300\n",
            "Epoch 91/100\n",
            "100/100 [==============================] - 30s 295ms/step - loss: 0.0213 - acc: 0.9950 - val_loss: 0.3124 - val_acc: 0.9520\n",
            "Epoch 92/100\n",
            "100/100 [==============================] - 30s 296ms/step - loss: 0.0176 - acc: 0.9940 - val_loss: 0.3463 - val_acc: 0.9360\n",
            "Epoch 93/100\n",
            "100/100 [==============================] - 30s 295ms/step - loss: 0.0207 - acc: 0.9935 - val_loss: 0.2585 - val_acc: 0.9470\n",
            "Epoch 94/100\n",
            "100/100 [==============================] - 30s 296ms/step - loss: 0.0287 - acc: 0.9910 - val_loss: 0.2693 - val_acc: 0.9600\n",
            "Epoch 95/100\n",
            "100/100 [==============================] - 29s 294ms/step - loss: 0.0172 - acc: 0.9940 - val_loss: 0.3265 - val_acc: 0.9400\n",
            "Epoch 96/100\n",
            "100/100 [==============================] - 29s 294ms/step - loss: 0.0175 - acc: 0.9930 - val_loss: 0.4121 - val_acc: 0.9270\n",
            "Epoch 97/100\n",
            "100/100 [==============================] - 30s 296ms/step - loss: 0.0206 - acc: 0.9930 - val_loss: 0.4818 - val_acc: 0.9260\n",
            "Epoch 98/100\n",
            "100/100 [==============================] - 30s 295ms/step - loss: 0.0155 - acc: 0.9935 - val_loss: 0.2789 - val_acc: 0.9450\n",
            "Epoch 99/100\n",
            "100/100 [==============================] - 30s 295ms/step - loss: 0.0205 - acc: 0.9950 - val_loss: 0.3362 - val_acc: 0.9470\n",
            "Epoch 100/100\n",
            "100/100 [==============================] - 29s 294ms/step - loss: 0.0108 - acc: 0.9955 - val_loss: 0.5097 - val_acc: 0.9280\n"
          ],
          "name": "stdout"
        }
      ]
    },
    {
      "metadata": {
        "id": "pwgVBmyInDbR",
        "colab_type": "code",
        "colab": {}
      },
      "cell_type": "code",
      "source": [
        "model_fname = 'ASS3_q2.h5' \n",
        "model.save(model_fname)"
      ],
      "execution_count": 0,
      "outputs": []
    },
    {
      "metadata": {
        "id": "wZSAG23VnMCM",
        "colab_type": "code",
        "colab": {
          "base_uri": "https://localhost:8080/",
          "height": 442
        },
        "outputId": "c7afa98a-e29a-46e0-fa7e-2205ba3ba6c8"
      },
      "cell_type": "code",
      "source": [
        "from google.colab import files\n",
        "\n",
        "with open(model_fname, 'r') as f:\n",
        "  files.download(model_fname)"
      ],
      "execution_count": 13,
      "outputs": [
        {
          "output_type": "stream",
          "text": [
            "----------------------------------------\n",
            "Exception happened during processing of request from ('::ffff:127.0.0.1', 50314, 0, 0)\n",
            "Traceback (most recent call last):\n",
            "  File \"/usr/lib/python3.6/socketserver.py\", line 317, in _handle_request_noblock\n",
            "    self.process_request(request, client_address)\n",
            "  File \"/usr/lib/python3.6/socketserver.py\", line 348, in process_request\n",
            "    self.finish_request(request, client_address)\n",
            "  File \"/usr/lib/python3.6/socketserver.py\", line 361, in finish_request\n",
            "    self.RequestHandlerClass(request, client_address, self)\n",
            "  File \"/usr/lib/python3.6/socketserver.py\", line 721, in __init__\n",
            "    self.handle()\n",
            "  File \"/usr/lib/python3.6/http/server.py\", line 418, in handle\n",
            "    self.handle_one_request()\n",
            "  File \"/usr/lib/python3.6/http/server.py\", line 406, in handle_one_request\n",
            "    method()\n",
            "  File \"/usr/lib/python3.6/http/server.py\", line 639, in do_GET\n",
            "    self.copyfile(f, self.wfile)\n",
            "  File \"/usr/lib/python3.6/http/server.py\", line 800, in copyfile\n",
            "    shutil.copyfileobj(source, outputfile)\n",
            "  File \"/usr/lib/python3.6/shutil.py\", line 82, in copyfileobj\n",
            "    fdst.write(buf)\n",
            "  File \"/usr/lib/python3.6/socketserver.py\", line 800, in write\n",
            "    self._sock.sendall(b)\n",
            "ConnectionResetError: [Errno 104] Connection reset by peer\n",
            "----------------------------------------\n"
          ],
          "name": "stderr"
        }
      ]
    }
  ]
}