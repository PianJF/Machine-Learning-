{
  "nbformat": 4,
  "nbformat_minor": 0,
  "metadata": {
    "colab": {
      "name": "Q1.ipynb",
      "version": "0.3.2",
      "provenance": []
    },
    "kernelspec": {
      "name": "python3",
      "display_name": "Python 3"
    },
    "accelerator": "GPU"
  },
  "cells": [
    {
      "metadata": {
        "id": "gOSV-vRjSTr3",
        "colab_type": "code",
        "colab": {
          "base_uri": "https://localhost:8080/",
          "height": 233
        },
        "outputId": "d846098d-307b-47dd-8542-999647b1604b"
      },
      "cell_type": "code",
      "source": [
        "!wget --no-check-certificate \\\n",
        "    https://storage.googleapis.com/mledu-datasets/cats_and_dogs_filtered.zip \\\n",
        "    -O /tmp/cats_and_dogs_filtered.zip"
      ],
      "execution_count": 2,
      "outputs": [
        {
          "output_type": "stream",
          "text": [
            "--2019-04-11 21:58:33--  https://storage.googleapis.com/mledu-datasets/cats_and_dogs_filtered.zip\n",
            "Resolving storage.googleapis.com (storage.googleapis.com)... 108.177.97.128, 2404:6800:4008:c00::80\n",
            "Connecting to storage.googleapis.com (storage.googleapis.com)|108.177.97.128|:443... connected.\n",
            "HTTP request sent, awaiting response... 200 OK\n",
            "Length: 68606236 (65M) [application/zip]\n",
            "Saving to: ‘/tmp/cats_and_dogs_filtered.zip’\n",
            "\n",
            "/tmp/cats_and_dogs_ 100%[===================>]  65.43M  52.5MB/s    in 1.2s    \n",
            "\n",
            "2019-04-11 21:58:35 (52.5 MB/s) - ‘/tmp/cats_and_dogs_filtered.zip’ saved [68606236/68606236]\n",
            "\n"
          ],
          "name": "stdout"
        }
      ]
    },
    {
      "metadata": {
        "id": "i_U0xULISgkC",
        "colab_type": "code",
        "colab": {}
      },
      "cell_type": "code",
      "source": [
        "import os\n",
        "import zipfile\n",
        "\n",
        "local_zip = '/tmp/cats_and_dogs_filtered.zip'\n",
        "zip_ref = zipfile.ZipFile(local_zip, 'r')\n",
        "zip_ref.extractall('/tmp')\n",
        "zip_ref.close()"
      ],
      "execution_count": 0,
      "outputs": []
    },
    {
      "metadata": {
        "id": "_eI2edRLSkhF",
        "colab_type": "code",
        "colab": {}
      },
      "cell_type": "code",
      "source": [
        "base_dir = '/tmp/cats_and_dogs_filtered'\n",
        "train_dir = os.path.join(base_dir, 'train')\n",
        "validation_dir = os.path.join(base_dir, 'validation')\n",
        "\n",
        "# Directory with our training cat pictures\n",
        "train_cats_dir = os.path.join(train_dir, 'cats')\n",
        "\n",
        "# Directory with our training dog pictures\n",
        "train_dogs_dir = os.path.join(train_dir, 'dogs')\n",
        "\n",
        "# Directory with our validation cat pictures\n",
        "validation_cats_dir = os.path.join(validation_dir, 'cats')\n",
        "\n",
        "# Directory with our validation dog pictures\n",
        "validation_dogs_dir = os.path.join(validation_dir, 'dogs')"
      ],
      "execution_count": 0,
      "outputs": []
    },
    {
      "metadata": {
        "id": "oDub59LySl1x",
        "colab_type": "code",
        "colab": {
          "base_uri": "https://localhost:8080/",
          "height": 848
        },
        "outputId": "2909e70d-1be3-4d5b-98a8-4d7cb9d60aee"
      },
      "cell_type": "code",
      "source": [
        "from keras.applications import VGG19\n",
        "\n",
        "conv_base = VGG19(\n",
        "    weights='imagenet', \n",
        "    include_top=False, \n",
        "    input_shape=(150, 150, 3))"
      ],
      "execution_count": 5,
      "outputs": [
        {
          "output_type": "stream",
          "text": [
            "WARNING:tensorflow:From /usr/local/lib/python3.6/dist-packages/tensorflow/python/framework/op_def_library.py:263: colocate_with (from tensorflow.python.framework.ops) is deprecated and will be removed in a future version.\n",
            "Instructions for updating:\n",
            "Colocations handled automatically by placer.\n",
            "Downloading data from https://github.com/fchollet/deep-learning-models/releases/download/v0.1/vgg19_weights_tf_dim_ordering_tf_kernels_notop.h5\n",
            "80142336/80134624 [==============================] - 7s 0us/step\n"
          ],
          "name": "stdout"
        }
      ]
    },
    {
      "metadata": {
        "id": "hjesDsVHUOFS",
        "colab_type": "code",
        "colab": {}
      },
      "cell_type": "code",
      "source": [
        "conv_base.trainable = False"
      ],
      "execution_count": 0,
      "outputs": []
    },
    {
      "metadata": {
        "id": "7S8GhvW1UD-W",
        "colab_type": "code",
        "colab": {
          "base_uri": "https://localhost:8080/",
          "height": 884
        },
        "outputId": "5827f906-7d85-4a0c-8243-91037520e110"
      },
      "cell_type": "code",
      "source": [
        "conv_base.summary()"
      ],
      "execution_count": 7,
      "outputs": [
        {
          "output_type": "stream",
          "text": [
            "_________________________________________________________________\n",
            "Layer (type)                 Output Shape              Param #   \n",
            "=================================================================\n",
            "input_1 (InputLayer)         (None, 150, 150, 3)       0         \n",
            "_________________________________________________________________\n",
            "block1_conv1 (Conv2D)        (None, 150, 150, 64)      1792      \n",
            "_________________________________________________________________\n",
            "block1_conv2 (Conv2D)        (None, 150, 150, 64)      36928     \n",
            "_________________________________________________________________\n",
            "block1_pool (MaxPooling2D)   (None, 75, 75, 64)        0         \n",
            "_________________________________________________________________\n",
            "block2_conv1 (Conv2D)        (None, 75, 75, 128)       73856     \n",
            "_________________________________________________________________\n",
            "block2_conv2 (Conv2D)        (None, 75, 75, 128)       147584    \n",
            "_________________________________________________________________\n",
            "block2_pool (MaxPooling2D)   (None, 37, 37, 128)       0         \n",
            "_________________________________________________________________\n",
            "block3_conv1 (Conv2D)        (None, 37, 37, 256)       295168    \n",
            "_________________________________________________________________\n",
            "block3_conv2 (Conv2D)        (None, 37, 37, 256)       590080    \n",
            "_________________________________________________________________\n",
            "block3_conv3 (Conv2D)        (None, 37, 37, 256)       590080    \n",
            "_________________________________________________________________\n",
            "block3_conv4 (Conv2D)        (None, 37, 37, 256)       590080    \n",
            "_________________________________________________________________\n",
            "block3_pool (MaxPooling2D)   (None, 18, 18, 256)       0         \n",
            "_________________________________________________________________\n",
            "block4_conv1 (Conv2D)        (None, 18, 18, 512)       1180160   \n",
            "_________________________________________________________________\n",
            "block4_conv2 (Conv2D)        (None, 18, 18, 512)       2359808   \n",
            "_________________________________________________________________\n",
            "block4_conv3 (Conv2D)        (None, 18, 18, 512)       2359808   \n",
            "_________________________________________________________________\n",
            "block4_conv4 (Conv2D)        (None, 18, 18, 512)       2359808   \n",
            "_________________________________________________________________\n",
            "block4_pool (MaxPooling2D)   (None, 9, 9, 512)         0         \n",
            "_________________________________________________________________\n",
            "block5_conv1 (Conv2D)        (None, 9, 9, 512)         2359808   \n",
            "_________________________________________________________________\n",
            "block5_conv2 (Conv2D)        (None, 9, 9, 512)         2359808   \n",
            "_________________________________________________________________\n",
            "block5_conv3 (Conv2D)        (None, 9, 9, 512)         2359808   \n",
            "_________________________________________________________________\n",
            "block5_conv4 (Conv2D)        (None, 9, 9, 512)         2359808   \n",
            "_________________________________________________________________\n",
            "block5_pool (MaxPooling2D)   (None, 4, 4, 512)         0         \n",
            "=================================================================\n",
            "Total params: 20,024,384\n",
            "Trainable params: 0\n",
            "Non-trainable params: 20,024,384\n",
            "_________________________________________________________________\n"
          ],
          "name": "stdout"
        }
      ]
    },
    {
      "metadata": {
        "id": "ggvRRGkpUaMX",
        "colab_type": "text"
      },
      "cell_type": "markdown",
      "source": [
        "Add dense layer to the base"
      ]
    },
    {
      "metadata": {
        "id": "IzVccaRTUWOF",
        "colab_type": "code",
        "colab": {}
      },
      "cell_type": "code",
      "source": [
        "from keras import layers\n",
        "from keras import models\n",
        "from keras import optimizers\n",
        "\n",
        "model = models.Sequential()\n",
        "model.add(conv_base)\n",
        "model.add(layers.Flatten())\n",
        "model.add(layers.Dense(256, activation='relu'))\n",
        "model.add(layers.Dense(1, activation='sigmoid'))"
      ],
      "execution_count": 0,
      "outputs": []
    },
    {
      "metadata": {
        "id": "PoQyeizzXn_9",
        "colab_type": "code",
        "colab": {
          "base_uri": "https://localhost:8080/",
          "height": 272
        },
        "outputId": "685204f7-0c60-4c8e-aae1-d4e52262a395"
      },
      "cell_type": "code",
      "source": [
        "model.summary()"
      ],
      "execution_count": 9,
      "outputs": [
        {
          "output_type": "stream",
          "text": [
            "_________________________________________________________________\n",
            "Layer (type)                 Output Shape              Param #   \n",
            "=================================================================\n",
            "vgg19 (Model)                (None, 4, 4, 512)         20024384  \n",
            "_________________________________________________________________\n",
            "flatten_1 (Flatten)          (None, 8192)              0         \n",
            "_________________________________________________________________\n",
            "dense_1 (Dense)              (None, 256)               2097408   \n",
            "_________________________________________________________________\n",
            "dense_2 (Dense)              (None, 1)                 257       \n",
            "=================================================================\n",
            "Total params: 22,122,049\n",
            "Trainable params: 2,097,665\n",
            "Non-trainable params: 20,024,384\n",
            "_________________________________________________________________\n"
          ],
          "name": "stdout"
        }
      ]
    },
    {
      "metadata": {
        "id": "o0vkLa44Xsb1",
        "colab_type": "code",
        "colab": {
          "base_uri": "https://localhost:8080/",
          "height": 1142
        },
        "outputId": "196407c9-6adb-4296-e110-b22e36435b15"
      },
      "cell_type": "code",
      "source": [
        "from keras.preprocessing.image import ImageDataGenerator\n",
        "from keras import optimizers\n",
        "\n",
        "# data augmentation\n",
        "\n",
        "train_datagen = ImageDataGenerator(\n",
        "    rescale=1./255, \n",
        "    rotation_range=40,\n",
        "    width_shift_range=0.2,\n",
        "    height_shift_range=0.2,\n",
        "    shear_range=0.2,\n",
        "    zoom_range=0.2,\n",
        "    horizontal_flip=True,\n",
        "    fill_mode='nearest'\n",
        ")\n",
        "\n",
        "train_generator = train_datagen.flow_from_directory(\n",
        "    train_dir,\n",
        "    target_size=(150, 150),\n",
        "    batch_size=20,\n",
        "    class_mode='binary')\n",
        "\n",
        "validation_datagen = ImageDataGenerator(rescale=1./255)\n",
        "\n",
        "validation_generator = validation_datagen.flow_from_directory(\n",
        "    validation_dir,\n",
        "    target_size=(150, 150),\n",
        "    batch_size=20,\n",
        "    class_mode='binary')\n",
        "\n",
        "# compile model\n",
        "\n",
        "model.compile(\n",
        "    loss='binary_crossentropy', \n",
        "    optimizer=optimizers.RMSprop(lr=2e-5), \n",
        "    metrics=['acc'])\n",
        "\n",
        "# train\n",
        "\n",
        "history = model.fit_generator(\n",
        "    train_generator,\n",
        "    steps_per_epoch=100,\n",
        "    epochs=30,\n",
        "    validation_data=validation_generator,\n",
        "    validation_steps=50\n",
        ")"
      ],
      "execution_count": 10,
      "outputs": [
        {
          "output_type": "stream",
          "text": [
            "Found 2000 images belonging to 2 classes.\n",
            "Found 1000 images belonging to 2 classes.\n",
            "WARNING:tensorflow:From /usr/local/lib/python3.6/dist-packages/tensorflow/python/ops/math_ops.py:3066: to_int32 (from tensorflow.python.ops.math_ops) is deprecated and will be removed in a future version.\n",
            "Instructions for updating:\n",
            "Use tf.cast instead.\n",
            "Epoch 1/30\n",
            "100/100 [==============================] - 33s 328ms/step - loss: 0.6096 - acc: 0.6685 - val_loss: 0.4913 - val_acc: 0.8000\n",
            "Epoch 2/30\n",
            "100/100 [==============================] - 28s 280ms/step - loss: 0.5217 - acc: 0.7650 - val_loss: 0.4119 - val_acc: 0.8290\n",
            "Epoch 3/30\n",
            "100/100 [==============================] - 28s 280ms/step - loss: 0.4730 - acc: 0.7835 - val_loss: 0.3708 - val_acc: 0.8450\n",
            "Epoch 4/30\n",
            "100/100 [==============================] - 28s 280ms/step - loss: 0.4525 - acc: 0.7855 - val_loss: 0.3477 - val_acc: 0.8570\n",
            "Epoch 5/30\n",
            "100/100 [==============================] - 28s 280ms/step - loss: 0.4391 - acc: 0.7945 - val_loss: 0.3578 - val_acc: 0.8310\n",
            "Epoch 6/30\n",
            "100/100 [==============================] - 28s 279ms/step - loss: 0.4197 - acc: 0.8185 - val_loss: 0.3397 - val_acc: 0.8500\n",
            "Epoch 7/30\n",
            "100/100 [==============================] - 28s 279ms/step - loss: 0.4033 - acc: 0.8180 - val_loss: 0.3152 - val_acc: 0.8630\n",
            "Epoch 8/30\n",
            "100/100 [==============================] - 28s 279ms/step - loss: 0.3938 - acc: 0.8250 - val_loss: 0.3687 - val_acc: 0.8280\n",
            "Epoch 9/30\n",
            "100/100 [==============================] - 28s 280ms/step - loss: 0.3987 - acc: 0.8165 - val_loss: 0.3387 - val_acc: 0.8560\n",
            "Epoch 10/30\n",
            "100/100 [==============================] - 28s 280ms/step - loss: 0.3727 - acc: 0.8430 - val_loss: 0.2928 - val_acc: 0.8720\n",
            "Epoch 11/30\n",
            "100/100 [==============================] - 28s 280ms/step - loss: 0.3815 - acc: 0.8410 - val_loss: 0.2886 - val_acc: 0.8720\n",
            "Epoch 12/30\n",
            "100/100 [==============================] - 28s 279ms/step - loss: 0.3712 - acc: 0.8305 - val_loss: 0.2804 - val_acc: 0.8740\n",
            "Epoch 13/30\n",
            "100/100 [==============================] - 28s 279ms/step - loss: 0.3634 - acc: 0.8480 - val_loss: 0.2793 - val_acc: 0.8800\n",
            "Epoch 14/30\n",
            "100/100 [==============================] - 28s 280ms/step - loss: 0.3601 - acc: 0.8400 - val_loss: 0.2721 - val_acc: 0.8840\n",
            "Epoch 15/30\n",
            "100/100 [==============================] - 28s 280ms/step - loss: 0.3453 - acc: 0.8490 - val_loss: 0.2967 - val_acc: 0.8660\n",
            "Epoch 16/30\n",
            "100/100 [==============================] - 28s 279ms/step - loss: 0.3364 - acc: 0.8535 - val_loss: 0.2830 - val_acc: 0.8760\n",
            "Epoch 17/30\n",
            "100/100 [==============================] - 28s 280ms/step - loss: 0.3567 - acc: 0.8395 - val_loss: 0.2746 - val_acc: 0.8820\n",
            "Epoch 18/30\n",
            "100/100 [==============================] - 29s 287ms/step - loss: 0.3411 - acc: 0.8525 - val_loss: 0.2646 - val_acc: 0.8810\n",
            "Epoch 19/30\n",
            "100/100 [==============================] - 28s 281ms/step - loss: 0.3437 - acc: 0.8495 - val_loss: 0.2655 - val_acc: 0.8850\n",
            "Epoch 20/30\n",
            "100/100 [==============================] - 28s 283ms/step - loss: 0.3428 - acc: 0.8490 - val_loss: 0.2635 - val_acc: 0.8850\n",
            "Epoch 21/30\n",
            "100/100 [==============================] - 28s 280ms/step - loss: 0.3305 - acc: 0.8570 - val_loss: 0.2715 - val_acc: 0.8840\n",
            "Epoch 22/30\n",
            "100/100 [==============================] - 28s 281ms/step - loss: 0.3340 - acc: 0.8500 - val_loss: 0.2758 - val_acc: 0.8800\n",
            "Epoch 23/30\n",
            "100/100 [==============================] - 28s 281ms/step - loss: 0.3359 - acc: 0.8475 - val_loss: 0.2595 - val_acc: 0.8930\n",
            "Epoch 24/30\n",
            "100/100 [==============================] - 28s 281ms/step - loss: 0.3434 - acc: 0.8410 - val_loss: 0.2801 - val_acc: 0.8760\n",
            "Epoch 25/30\n",
            "100/100 [==============================] - 28s 280ms/step - loss: 0.3366 - acc: 0.8455 - val_loss: 0.2581 - val_acc: 0.8840\n",
            "Epoch 26/30\n",
            "100/100 [==============================] - 28s 282ms/step - loss: 0.3268 - acc: 0.8555 - val_loss: 0.2569 - val_acc: 0.8940\n",
            "Epoch 27/30\n",
            "100/100 [==============================] - 28s 280ms/step - loss: 0.3197 - acc: 0.8575 - val_loss: 0.2837 - val_acc: 0.8690\n",
            "Epoch 28/30\n",
            "100/100 [==============================] - 28s 282ms/step - loss: 0.3169 - acc: 0.8600 - val_loss: 0.2560 - val_acc: 0.8900\n",
            "Epoch 29/30\n",
            "100/100 [==============================] - 28s 280ms/step - loss: 0.3098 - acc: 0.8585 - val_loss: 0.2580 - val_acc: 0.8890\n",
            "Epoch 30/30\n",
            "100/100 [==============================] - 28s 281ms/step - loss: 0.3224 - acc: 0.8605 - val_loss: 0.2631 - val_acc: 0.8880\n"
          ],
          "name": "stdout"
        }
      ]
    },
    {
      "metadata": {
        "id": "6BrGGZLZYFz_",
        "colab_type": "code",
        "colab": {}
      },
      "cell_type": "code",
      "source": [
        "model_fname = 'ASS3_q1.h5' \n",
        "model.save(model_fname)"
      ],
      "execution_count": 0,
      "outputs": []
    },
    {
      "metadata": {
        "id": "MC3QB3DiYLjB",
        "colab_type": "code",
        "colab": {
          "base_uri": "https://localhost:8080/",
          "height": 442
        },
        "outputId": "54818c47-f31c-4070-980a-847ca7a7af04"
      },
      "cell_type": "code",
      "source": [
        "from google.colab import files\n",
        "\n",
        "with open(model_fname, 'r') as f:\n",
        "  files.download(model_fname)"
      ],
      "execution_count": 0,
      "outputs": [
        {
          "output_type": "stream",
          "text": [
            "----------------------------------------\n",
            "Exception happened during processing of request from ('::ffff:127.0.0.1', 43040, 0, 0)\n",
            "Traceback (most recent call last):\n",
            "  File \"/usr/lib/python3.6/socketserver.py\", line 317, in _handle_request_noblock\n",
            "    self.process_request(request, client_address)\n",
            "  File \"/usr/lib/python3.6/socketserver.py\", line 348, in process_request\n",
            "    self.finish_request(request, client_address)\n",
            "  File \"/usr/lib/python3.6/socketserver.py\", line 361, in finish_request\n",
            "    self.RequestHandlerClass(request, client_address, self)\n",
            "  File \"/usr/lib/python3.6/socketserver.py\", line 721, in __init__\n",
            "    self.handle()\n",
            "  File \"/usr/lib/python3.6/http/server.py\", line 418, in handle\n",
            "    self.handle_one_request()\n",
            "  File \"/usr/lib/python3.6/http/server.py\", line 406, in handle_one_request\n",
            "    method()\n",
            "  File \"/usr/lib/python3.6/http/server.py\", line 639, in do_GET\n",
            "    self.copyfile(f, self.wfile)\n",
            "  File \"/usr/lib/python3.6/http/server.py\", line 800, in copyfile\n",
            "    shutil.copyfileobj(source, outputfile)\n",
            "  File \"/usr/lib/python3.6/shutil.py\", line 82, in copyfileobj\n",
            "    fdst.write(buf)\n",
            "  File \"/usr/lib/python3.6/socketserver.py\", line 800, in write\n",
            "    self._sock.sendall(b)\n",
            "ConnectionResetError: [Errno 104] Connection reset by peer\n",
            "----------------------------------------\n"
          ],
          "name": "stderr"
        }
      ]
    }
  ]
}