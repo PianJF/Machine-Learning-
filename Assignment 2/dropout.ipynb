{
 "cells": [
  {
   "cell_type": "code",
   "execution_count": 1,
   "metadata": {
    "colab": {},
    "colab_type": "code",
    "id": "rMGCAz2B7qTi"
   },
   "outputs": [
    {
     "name": "stderr",
     "output_type": "stream",
     "text": [
      "Using TensorFlow backend.\n"
     ]
    }
   ],
   "source": [
    "from keras.datasets import cifar10\n",
    "\n",
    "(train_images, train_labels), (test_images, test_labels) = cifar10.load_data()\n"
   ]
  },
  {
   "cell_type": "code",
   "execution_count": 2,
   "metadata": {
    "colab": {},
    "colab_type": "code",
    "id": "luggQ_wzvqOK"
   },
   "outputs": [],
   "source": [
    "#save the model after training\n",
    "import os\n",
    "save_dir = os.path.join(os.getcwd(), 'saved_models')\n",
    "model_name = 'cifar10_trained_model_dropout.h5'"
   ]
  },
  {
   "cell_type": "markdown",
   "metadata": {
    "colab_type": "text",
    "id": "wTYpKSQGDsIC"
   },
   "source": [
    "# **Process data before training**"
   ]
  },
  {
   "cell_type": "code",
   "execution_count": 3,
   "metadata": {
    "colab": {},
    "colab_type": "code",
    "id": "QTBsKvncCIj1"
   },
   "outputs": [],
   "source": [
    "batch_size = 32\n",
    "num_classes = 10\n",
    "epochs = 100"
   ]
  },
  {
   "cell_type": "code",
   "execution_count": 4,
   "metadata": {
    "colab": {},
    "colab_type": "code",
    "id": "gTJfesLR4xHA"
   },
   "outputs": [],
   "source": [
    "import keras\n",
    "from keras import layers\n",
    "from keras import models\n",
    "train_labels = keras.utils.to_categorical(train_labels, num_classes)\n",
    "test_labels = keras.utils.to_categorical(test_labels, num_classes)"
   ]
  },
  {
   "cell_type": "code",
   "execution_count": 5,
   "metadata": {
    "colab": {},
    "colab_type": "code",
    "id": "viQvaj_bCXLM"
   },
   "outputs": [],
   "source": [
    "train_images = train_images.astype('float32')\n",
    "test_images = test_images.astype('float32')\n",
    "train_images /= 255\n",
    "test_images /= 255"
   ]
  },
  {
   "cell_type": "code",
   "execution_count": 6,
   "metadata": {
    "colab": {},
    "colab_type": "code",
    "id": "4HBv38BXwZHC"
   },
   "outputs": [],
   "source": [
    "import numpy as np\n",
    "from sklearn.model_selection import train_test_split"
   ]
  },
  {
   "cell_type": "code",
   "execution_count": 7,
   "metadata": {
    "colab": {},
    "colab_type": "code",
    "id": "MuB6Ugzz8MnG"
   },
   "outputs": [],
   "source": [
    "#Split data into training and validation\n",
    "imgaes_train, images_vali, labels_train, labels_vali = train_test_split(train_images, train_labels, test_size=0.2, random_state = 42) "
   ]
  },
  {
   "cell_type": "markdown",
   "metadata": {
    "colab_type": "text",
    "id": "DV0LcBBRD9Bx"
   },
   "source": [
    "#**Create convnet**"
   ]
  },
  {
   "cell_type": "code",
   "execution_count": 9,
   "metadata": {
    "colab": {
     "base_uri": "https://localhost:8080/",
     "height": 108
    },
    "colab_type": "code",
    "id": "3GCYQzQ6EStP",
    "outputId": "d3b34b19-ddb3-48f6-d22f-61b40e76d207"
   },
   "outputs": [
    {
     "name": "stdout",
     "output_type": "stream",
     "text": [
      "WARNING:tensorflow:From /anaconda3/lib/python3.7/site-packages/tensorflow/python/framework/op_def_library.py:263: colocate_with (from tensorflow.python.framework.ops) is deprecated and will be removed in a future version.\n",
      "Instructions for updating:\n",
      "Colocations handled automatically by placer.\n",
      "WARNING:tensorflow:From /anaconda3/lib/python3.7/site-packages/keras/backend/tensorflow_backend.py:3445: calling dropout (from tensorflow.python.ops.nn_ops) with keep_prob is deprecated and will be removed in a future version.\n",
      "Instructions for updating:\n",
      "Please use `rate` instead of `keep_prob`. Rate should be set to `rate = 1 - keep_prob`.\n"
     ]
    }
   ],
   "source": [
    "from keras.layers import Conv2D, MaxPooling2D\n",
    "from keras.models import Sequential\n",
    "from keras.layers import Dense, Dropout, Activation, Flatten\n",
    "model = Sequential()\n",
    "\n",
    "#maybe seperate activation //model.add(Activation('relu')\n",
    "model.add(Conv2D(32, (3, 3), padding=\"same\", activation='relu', input_shape=(32, 32, 3)))\n",
    "model.add(layers.MaxPooling2D(2, 2))\n",
    "\n",
    "model.add(Conv2D(32, (3, 3), padding=\"same\", activation='relu'))\n",
    "model.add(layers.MaxPooling2D(2, 2))\n",
    "model.add(Dropout(0.5))\n",
    "\n",
    "model.add(Conv2D(64, (3, 3), padding=\"same\", activation='relu'))\n",
    "model.add(layers.MaxPooling2D(2, 2))\n",
    "\n",
    "model.add(Conv2D(64, (3, 3), padding=\"same\", activation='relu'))\n",
    "model.add(layers.MaxPooling2D(2, 2))\n",
    "model.add(Dropout(0.5))\n",
    "\n",
    "model.add(Flatten())\n",
    "model.add(Dropout(0.5))\n",
    "model.add(Dense(512, activation='relu'))\n",
    "model.add(Dense(num_classes, activation='softmax'))\n",
    "\n",
    "model.compile(loss='categorical_crossentropy',\n",
    "              optimizer='adam',\n",
    "              metrics=['accuracy'])"
   ]
  },
  {
   "cell_type": "code",
   "execution_count": 10,
   "metadata": {
    "colab": {
     "base_uri": "https://localhost:8080/",
     "height": 1669
    },
    "colab_type": "code",
    "id": "rgLAaWW0MwVn",
    "outputId": "0d3a3852-186d-4a83-bc3d-1c8c408aba76"
   },
   "outputs": [
    {
     "name": "stdout",
     "output_type": "stream",
     "text": [
      "WARNING:tensorflow:From /anaconda3/lib/python3.7/site-packages/tensorflow/python/ops/math_ops.py:3066: to_int32 (from tensorflow.python.ops.math_ops) is deprecated and will be removed in a future version.\n",
      "Instructions for updating:\n",
      "Use tf.cast instead.\n",
      "Train on 40000 samples, validate on 10000 samples\n",
      "Epoch 1/100\n",
      "40000/40000 [==============================] - 35s 886us/step - loss: 1.8718 - acc: 0.2874 - val_loss: 1.6143 - val_acc: 0.4004\n",
      "Epoch 2/100\n",
      "40000/40000 [==============================] - 35s 877us/step - loss: 1.6111 - acc: 0.3940 - val_loss: 1.5984 - val_acc: 0.4165\n",
      "Epoch 3/100\n",
      "40000/40000 [==============================] - 35s 879us/step - loss: 1.5090 - acc: 0.4357 - val_loss: 1.3967 - val_acc: 0.4958\n",
      "Epoch 4/100\n",
      "40000/40000 [==============================] - 35s 880us/step - loss: 1.4524 - acc: 0.4623 - val_loss: 1.3557 - val_acc: 0.5001\n",
      "Epoch 5/100\n",
      "40000/40000 [==============================] - 36s 888us/step - loss: 1.3977 - acc: 0.4841 - val_loss: 1.2884 - val_acc: 0.5461\n",
      "Epoch 6/100\n",
      "40000/40000 [==============================] - 35s 877us/step - loss: 1.3643 - acc: 0.4979 - val_loss: 1.2467 - val_acc: 0.5697\n",
      "Epoch 7/100\n",
      "40000/40000 [==============================] - 35s 878us/step - loss: 1.3359 - acc: 0.5120 - val_loss: 1.2606 - val_acc: 0.5693\n",
      "Epoch 8/100\n",
      "40000/40000 [==============================] - 35s 879us/step - loss: 1.3095 - acc: 0.5222 - val_loss: 1.2456 - val_acc: 0.5659\n",
      "Epoch 9/100\n",
      "40000/40000 [==============================] - 35s 883us/step - loss: 1.2872 - acc: 0.5291 - val_loss: 1.2061 - val_acc: 0.5823\n",
      "Epoch 10/100\n",
      "40000/40000 [==============================] - 35s 879us/step - loss: 1.2715 - acc: 0.5396 - val_loss: 1.1806 - val_acc: 0.5982\n",
      "Epoch 11/100\n",
      "40000/40000 [==============================] - 35s 886us/step - loss: 1.2532 - acc: 0.5462 - val_loss: 1.2001 - val_acc: 0.5726\n",
      "Epoch 12/100\n",
      "40000/40000 [==============================] - 36s 889us/step - loss: 1.2317 - acc: 0.5549 - val_loss: 1.1921 - val_acc: 0.6106\n",
      "Epoch 13/100\n",
      "40000/40000 [==============================] - 36s 889us/step - loss: 1.2167 - acc: 0.5647 - val_loss: 1.1582 - val_acc: 0.6120\n",
      "Epoch 14/100\n",
      "40000/40000 [==============================] - 35s 884us/step - loss: 1.2025 - acc: 0.5656 - val_loss: 1.1537 - val_acc: 0.6053\n",
      "Epoch 15/100\n",
      "40000/40000 [==============================] - 35s 884us/step - loss: 1.1917 - acc: 0.5714 - val_loss: 1.1619 - val_acc: 0.6093\n",
      "Epoch 16/100\n",
      "40000/40000 [==============================] - 35s 880us/step - loss: 1.1783 - acc: 0.5749 - val_loss: 1.1046 - val_acc: 0.6330\n",
      "Epoch 17/100\n",
      "40000/40000 [==============================] - 35s 880us/step - loss: 1.1755 - acc: 0.5784 - val_loss: 1.1073 - val_acc: 0.6365\n",
      "Epoch 18/100\n",
      "40000/40000 [==============================] - 35s 883us/step - loss: 1.1637 - acc: 0.5820 - val_loss: 1.1323 - val_acc: 0.6083\n",
      "Epoch 19/100\n",
      "40000/40000 [==============================] - 35s 868us/step - loss: 1.1566 - acc: 0.5869 - val_loss: 1.0705 - val_acc: 0.6441\n",
      "Epoch 20/100\n",
      "40000/40000 [==============================] - 35s 865us/step - loss: 1.1462 - acc: 0.5871 - val_loss: 1.0857 - val_acc: 0.6400\n",
      "Epoch 21/100\n",
      "40000/40000 [==============================] - 35s 878us/step - loss: 1.1309 - acc: 0.5971 - val_loss: 1.0769 - val_acc: 0.6413\n",
      "Epoch 22/100\n",
      "40000/40000 [==============================] - 35s 877us/step - loss: 1.1310 - acc: 0.5941 - val_loss: 1.1334 - val_acc: 0.6291\n",
      "Epoch 23/100\n",
      "40000/40000 [==============================] - 35s 873us/step - loss: 1.1245 - acc: 0.5986 - val_loss: 1.0996 - val_acc: 0.6258\n",
      "Epoch 24/100\n",
      "40000/40000 [==============================] - 35s 873us/step - loss: 1.1184 - acc: 0.6029 - val_loss: 1.0660 - val_acc: 0.6461\n",
      "Epoch 25/100\n",
      "40000/40000 [==============================] - 35s 866us/step - loss: 1.1081 - acc: 0.6043 - val_loss: 1.1256 - val_acc: 0.6079\n",
      "Epoch 26/100\n",
      "40000/40000 [==============================] - 35s 865us/step - loss: 1.1006 - acc: 0.6114 - val_loss: 1.0925 - val_acc: 0.6324\n",
      "Epoch 27/100\n",
      "40000/40000 [==============================] - 35s 872us/step - loss: 1.1054 - acc: 0.6089 - val_loss: 1.0781 - val_acc: 0.6468\n",
      "Epoch 28/100\n",
      "40000/40000 [==============================] - 35s 865us/step - loss: 1.0955 - acc: 0.6110 - val_loss: 1.1092 - val_acc: 0.6137\n",
      "Epoch 29/100\n",
      "40000/40000 [==============================] - 35s 873us/step - loss: 1.0895 - acc: 0.6129 - val_loss: 1.0436 - val_acc: 0.6631\n",
      "Epoch 30/100\n",
      "40000/40000 [==============================] - 35s 875us/step - loss: 1.0797 - acc: 0.6175 - val_loss: 1.0628 - val_acc: 0.6218\n",
      "Epoch 31/100\n",
      "40000/40000 [==============================] - 35s 881us/step - loss: 1.0743 - acc: 0.6217 - val_loss: 1.0330 - val_acc: 0.6538\n",
      "Epoch 32/100\n",
      "40000/40000 [==============================] - 35s 873us/step - loss: 1.0744 - acc: 0.6182 - val_loss: 1.0402 - val_acc: 0.6392\n",
      "Epoch 33/100\n",
      "40000/40000 [==============================] - 35s 886us/step - loss: 1.0651 - acc: 0.6236 - val_loss: 1.0121 - val_acc: 0.6493\n",
      "Epoch 34/100\n",
      "40000/40000 [==============================] - 35s 882us/step - loss: 1.0655 - acc: 0.6229 - val_loss: 1.0312 - val_acc: 0.6640\n",
      "Epoch 35/100\n",
      "40000/40000 [==============================] - 36s 891us/step - loss: 1.0739 - acc: 0.6196 - val_loss: 0.9858 - val_acc: 0.6786\n",
      "Epoch 36/100\n",
      "40000/40000 [==============================] - 36s 897us/step - loss: 1.0557 - acc: 0.6275 - val_loss: 0.9992 - val_acc: 0.6805\n",
      "Epoch 37/100\n",
      "40000/40000 [==============================] - 36s 891us/step - loss: 1.0564 - acc: 0.6269 - val_loss: 0.9605 - val_acc: 0.6810\n",
      "Epoch 38/100\n",
      "40000/40000 [==============================] - 36s 891us/step - loss: 1.0519 - acc: 0.6290 - val_loss: 0.9856 - val_acc: 0.6720\n",
      "Epoch 39/100\n",
      "40000/40000 [==============================] - 35s 887us/step - loss: 1.0460 - acc: 0.6301 - val_loss: 0.9777 - val_acc: 0.6831\n",
      "Epoch 40/100\n",
      "40000/40000 [==============================] - 35s 882us/step - loss: 1.0421 - acc: 0.6320 - val_loss: 0.9759 - val_acc: 0.6839\n",
      "Epoch 41/100\n",
      "40000/40000 [==============================] - 36s 895us/step - loss: 1.0367 - acc: 0.6311 - val_loss: 1.0747 - val_acc: 0.6316\n",
      "Epoch 42/100\n",
      "40000/40000 [==============================] - 36s 892us/step - loss: 1.0366 - acc: 0.6352 - val_loss: 0.9595 - val_acc: 0.6900\n",
      "Epoch 43/100\n",
      "40000/40000 [==============================] - 35s 883us/step - loss: 1.0343 - acc: 0.6365 - val_loss: 0.9452 - val_acc: 0.6885\n",
      "Epoch 44/100\n",
      "40000/40000 [==============================] - 36s 888us/step - loss: 1.0301 - acc: 0.6353 - val_loss: 0.9684 - val_acc: 0.6875\n",
      "Epoch 45/100\n",
      "40000/40000 [==============================] - 36s 888us/step - loss: 1.0271 - acc: 0.6376 - val_loss: 0.9350 - val_acc: 0.6835\n",
      "Epoch 46/100\n",
      "40000/40000 [==============================] - 36s 906us/step - loss: 1.0209 - acc: 0.6396 - val_loss: 0.9251 - val_acc: 0.7039\n",
      "Epoch 47/100\n",
      "40000/40000 [==============================] - 36s 910us/step - loss: 1.0240 - acc: 0.6405 - val_loss: 0.9416 - val_acc: 0.6891\n",
      "Epoch 48/100\n",
      "40000/40000 [==============================] - 36s 900us/step - loss: 1.0219 - acc: 0.6397 - val_loss: 0.9403 - val_acc: 0.6828\n",
      "Epoch 49/100\n",
      "40000/40000 [==============================] - 37s 916us/step - loss: 1.0140 - acc: 0.6421 - val_loss: 0.9059 - val_acc: 0.6992\n",
      "Epoch 50/100\n",
      "40000/40000 [==============================] - 37s 919us/step - loss: 1.0151 - acc: 0.6452 - val_loss: 0.9655 - val_acc: 0.6757\n",
      "Epoch 51/100\n",
      "40000/40000 [==============================] - 37s 922us/step - loss: 1.0048 - acc: 0.6469 - val_loss: 0.9205 - val_acc: 0.6905\n",
      "Epoch 52/100\n",
      "40000/40000 [==============================] - 36s 911us/step - loss: 1.0079 - acc: 0.6430 - val_loss: 0.9383 - val_acc: 0.6754\n",
      "Epoch 53/100\n",
      "40000/40000 [==============================] - 37s 916us/step - loss: 1.0008 - acc: 0.6495 - val_loss: 0.9153 - val_acc: 0.6898\n",
      "Epoch 54/100\n",
      "40000/40000 [==============================] - 36s 896us/step - loss: 1.0054 - acc: 0.6475 - val_loss: 0.9426 - val_acc: 0.6839\n",
      "Epoch 55/100\n",
      "40000/40000 [==============================] - 36s 901us/step - loss: 1.0031 - acc: 0.6489 - val_loss: 0.9253 - val_acc: 0.6833\n",
      "Epoch 56/100\n",
      "40000/40000 [==============================] - 36s 910us/step - loss: 0.9973 - acc: 0.6523 - val_loss: 0.9238 - val_acc: 0.6895\n",
      "Epoch 57/100\n"
     ]
    },
    {
     "name": "stdout",
     "output_type": "stream",
     "text": [
      "40000/40000 [==============================] - 35s 867us/step - loss: 0.9956 - acc: 0.6505 - val_loss: 0.9120 - val_acc: 0.6970\n",
      "Epoch 58/100\n",
      "40000/40000 [==============================] - 35s 868us/step - loss: 0.9993 - acc: 0.6501 - val_loss: 0.9152 - val_acc: 0.6956\n",
      "Epoch 59/100\n",
      "40000/40000 [==============================] - 35s 870us/step - loss: 0.9924 - acc: 0.6519 - val_loss: 0.9606 - val_acc: 0.6647\n",
      "Epoch 60/100\n",
      "40000/40000 [==============================] - 35s 876us/step - loss: 0.9928 - acc: 0.6510 - val_loss: 0.9058 - val_acc: 0.6988\n",
      "Epoch 61/100\n",
      "40000/40000 [==============================] - 35s 876us/step - loss: 0.9929 - acc: 0.6534 - val_loss: 0.9011 - val_acc: 0.6998\n",
      "Epoch 62/100\n",
      "40000/40000 [==============================] - 35s 874us/step - loss: 0.9913 - acc: 0.6528 - val_loss: 0.9310 - val_acc: 0.6925\n",
      "Epoch 63/100\n",
      "40000/40000 [==============================] - 35s 877us/step - loss: 0.9948 - acc: 0.6544 - val_loss: 0.9182 - val_acc: 0.6968\n",
      "Epoch 64/100\n",
      "40000/40000 [==============================] - 35s 870us/step - loss: 0.9877 - acc: 0.6567 - val_loss: 0.9081 - val_acc: 0.6838\n",
      "Epoch 65/100\n",
      "40000/40000 [==============================] - 35s 874us/step - loss: 0.9788 - acc: 0.6564 - val_loss: 0.8926 - val_acc: 0.6891\n",
      "Epoch 66/100\n",
      "40000/40000 [==============================] - 35s 877us/step - loss: 0.9808 - acc: 0.6578 - val_loss: 0.9042 - val_acc: 0.6916\n",
      "Epoch 67/100\n",
      "40000/40000 [==============================] - 35s 872us/step - loss: 0.9816 - acc: 0.6554 - val_loss: 0.8746 - val_acc: 0.7142\n",
      "Epoch 68/100\n",
      "40000/40000 [==============================] - 35s 877us/step - loss: 0.9840 - acc: 0.6570 - val_loss: 0.8871 - val_acc: 0.6978\n",
      "Epoch 69/100\n",
      "40000/40000 [==============================] - 35s 874us/step - loss: 0.9725 - acc: 0.6577 - val_loss: 0.9270 - val_acc: 0.6886\n",
      "Epoch 70/100\n",
      "40000/40000 [==============================] - 35s 880us/step - loss: 0.9763 - acc: 0.6589 - val_loss: 0.8735 - val_acc: 0.7158\n",
      "Epoch 71/100\n",
      "40000/40000 [==============================] - 36s 890us/step - loss: 0.9743 - acc: 0.6594 - val_loss: 0.9464 - val_acc: 0.6796\n",
      "Epoch 72/100\n",
      "40000/40000 [==============================] - 35s 874us/step - loss: 0.9774 - acc: 0.6573 - val_loss: 0.9053 - val_acc: 0.6835\n",
      "Epoch 73/100\n",
      "40000/40000 [==============================] - 35s 874us/step - loss: 0.9721 - acc: 0.6601 - val_loss: 0.9107 - val_acc: 0.6861\n",
      "Epoch 74/100\n",
      "40000/40000 [==============================] - 35s 870us/step - loss: 0.9762 - acc: 0.6607 - val_loss: 0.8729 - val_acc: 0.7089\n",
      "Epoch 75/100\n",
      "40000/40000 [==============================] - 35s 876us/step - loss: 0.9739 - acc: 0.6606 - val_loss: 0.8884 - val_acc: 0.6975\n",
      "Epoch 76/100\n",
      "40000/40000 [==============================] - 35s 885us/step - loss: 0.9644 - acc: 0.6647 - val_loss: 0.8717 - val_acc: 0.7040\n",
      "Epoch 77/100\n",
      "40000/40000 [==============================] - 35s 884us/step - loss: 0.9592 - acc: 0.6647 - val_loss: 0.8484 - val_acc: 0.7098\n",
      "Epoch 78/100\n",
      "40000/40000 [==============================] - 35s 875us/step - loss: 0.9663 - acc: 0.6645 - val_loss: 0.8844 - val_acc: 0.6998\n",
      "Epoch 79/100\n",
      "40000/40000 [==============================] - 35s 887us/step - loss: 0.9597 - acc: 0.6664 - val_loss: 0.9026 - val_acc: 0.6815\n",
      "Epoch 80/100\n",
      "40000/40000 [==============================] - 35s 882us/step - loss: 0.9592 - acc: 0.6667 - val_loss: 0.9030 - val_acc: 0.7008\n",
      "Epoch 81/100\n",
      "40000/40000 [==============================] - 36s 892us/step - loss: 0.9613 - acc: 0.6671 - val_loss: 0.8994 - val_acc: 0.7008\n",
      "Epoch 82/100\n",
      "40000/40000 [==============================] - 35s 885us/step - loss: 0.9548 - acc: 0.6682 - val_loss: 0.8375 - val_acc: 0.7179\n",
      "Epoch 83/100\n",
      "40000/40000 [==============================] - 35s 878us/step - loss: 0.9552 - acc: 0.6690 - val_loss: 0.8403 - val_acc: 0.7180\n",
      "Epoch 84/100\n",
      "40000/40000 [==============================] - 35s 885us/step - loss: 0.9585 - acc: 0.6650 - val_loss: 0.8519 - val_acc: 0.7137\n",
      "Epoch 85/100\n",
      "40000/40000 [==============================] - 36s 889us/step - loss: 0.9625 - acc: 0.6627 - val_loss: 0.8428 - val_acc: 0.7097\n",
      "Epoch 86/100\n",
      "40000/40000 [==============================] - 35s 886us/step - loss: 0.9498 - acc: 0.6689 - val_loss: 0.8534 - val_acc: 0.7087\n",
      "Epoch 87/100\n",
      "40000/40000 [==============================] - 35s 883us/step - loss: 0.9550 - acc: 0.6662 - val_loss: 0.8867 - val_acc: 0.6936\n",
      "Epoch 88/100\n",
      "40000/40000 [==============================] - 36s 899us/step - loss: 0.9537 - acc: 0.6668 - val_loss: 0.8503 - val_acc: 0.7147\n",
      "Epoch 89/100\n",
      "40000/40000 [==============================] - 36s 893us/step - loss: 0.9473 - acc: 0.6692 - val_loss: 0.8614 - val_acc: 0.7075\n",
      "Epoch 90/100\n",
      "40000/40000 [==============================] - 35s 883us/step - loss: 0.9498 - acc: 0.6677 - val_loss: 0.8924 - val_acc: 0.6853\n",
      "Epoch 91/100\n",
      "40000/40000 [==============================] - 36s 896us/step - loss: 0.9566 - acc: 0.6668 - val_loss: 0.9183 - val_acc: 0.6881\n",
      "Epoch 92/100\n",
      "40000/40000 [==============================] - 35s 882us/step - loss: 0.9502 - acc: 0.6693 - val_loss: 0.8524 - val_acc: 0.7051\n",
      "Epoch 93/100\n",
      "40000/40000 [==============================] - 36s 890us/step - loss: 0.9468 - acc: 0.6696 - val_loss: 0.8705 - val_acc: 0.7027\n",
      "Epoch 94/100\n",
      "40000/40000 [==============================] - 35s 887us/step - loss: 0.9449 - acc: 0.6709 - val_loss: 0.8696 - val_acc: 0.7050\n",
      "Epoch 95/100\n",
      "40000/40000 [==============================] - 36s 888us/step - loss: 0.9437 - acc: 0.6710 - val_loss: 0.8438 - val_acc: 0.7158\n",
      "Epoch 96/100\n",
      "40000/40000 [==============================] - 36s 891us/step - loss: 0.9445 - acc: 0.6707 - val_loss: 0.8984 - val_acc: 0.7012\n",
      "Epoch 97/100\n",
      "40000/40000 [==============================] - 36s 894us/step - loss: 0.9401 - acc: 0.6711 - val_loss: 0.8472 - val_acc: 0.7186\n",
      "Epoch 98/100\n",
      "40000/40000 [==============================] - 36s 894us/step - loss: 0.9440 - acc: 0.6688 - val_loss: 0.8671 - val_acc: 0.7032\n",
      "Epoch 99/100\n",
      "40000/40000 [==============================] - 35s 887us/step - loss: 0.9414 - acc: 0.6715 - val_loss: 0.8360 - val_acc: 0.7118\n",
      "Epoch 100/100\n",
      "40000/40000 [==============================] - 36s 896us/step - loss: 0.9458 - acc: 0.6730 - val_loss: 0.9785 - val_acc: 0.6669\n"
     ]
    },
    {
     "data": {
      "text/plain": [
       "<keras.callbacks.History at 0xb39ae0860>"
      ]
     },
     "execution_count": 10,
     "metadata": {},
     "output_type": "execute_result"
    }
   ],
   "source": [
    "model.fit(imgaes_train, labels_train,\n",
    "batch_size=batch_size,\n",
    "epochs=epochs,\n",
    "validation_data=(images_vali, labels_vali),\n",
    "shuffle=True)"
   ]
  },
  {
   "cell_type": "code",
   "execution_count": 12,
   "metadata": {
    "colab": {},
    "colab_type": "code",
    "id": "7BpumOCrNPwm"
   },
   "outputs": [],
   "source": [
    "model.save(model_name)"
   ]
  }
 ],
 "metadata": {
  "colab": {
   "collapsed_sections": [],
   "name": "DataAugmentation.ipynb",
   "provenance": [],
   "version": "0.3.2"
  },
  "kernelspec": {
   "display_name": "Python 3",
   "language": "python",
   "name": "python3"
  },
  "language_info": {
   "codemirror_mode": {
    "name": "ipython",
    "version": 3
   },
   "file_extension": ".py",
   "mimetype": "text/x-python",
   "name": "python",
   "nbconvert_exporter": "python",
   "pygments_lexer": "ipython3",
   "version": "3.7.0"
  }
 },
 "nbformat": 4,
 "nbformat_minor": 1
}
