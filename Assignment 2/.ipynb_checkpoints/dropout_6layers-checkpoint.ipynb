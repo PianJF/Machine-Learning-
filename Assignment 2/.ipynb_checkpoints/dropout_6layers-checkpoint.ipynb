{
 "cells": [
  {
   "cell_type": "code",
   "execution_count": 9,
   "metadata": {
    "colab": {},
    "colab_type": "code",
    "id": "rMGCAz2B7qTi"
   },
   "outputs": [],
   "source": [
    "from keras.datasets import cifar10\n",
    "\n",
    "(train_images, train_labels), (test_images, test_labels) = cifar10.load_data()\n"
   ]
  },
  {
   "cell_type": "code",
   "execution_count": 10,
   "metadata": {
    "colab": {},
    "colab_type": "code",
    "id": "luggQ_wzvqOK"
   },
   "outputs": [],
   "source": [
    "#save the model after training\n",
    "import os\n",
    "save_dir = os.path.join(os.getcwd(), 'saved_models')\n",
    "model_name = 'cifar10_trained_model_dropout.h5'"
   ]
  },
  {
   "cell_type": "markdown",
   "metadata": {
    "colab_type": "text",
    "id": "wTYpKSQGDsIC"
   },
   "source": [
    "# **Process data before training**"
   ]
  },
  {
   "cell_type": "code",
   "execution_count": 11,
   "metadata": {
    "colab": {},
    "colab_type": "code",
    "id": "QTBsKvncCIj1"
   },
   "outputs": [],
   "source": [
    "batch_size = 32\n",
    "num_classes = 10\n",
    "epochs = 200"
   ]
  },
  {
   "cell_type": "code",
   "execution_count": 12,
   "metadata": {
    "colab": {},
    "colab_type": "code",
    "id": "gTJfesLR4xHA"
   },
   "outputs": [],
   "source": [
    "import keras\n",
    "from keras import layers\n",
    "from keras import models\n",
    "train_labels = keras.utils.to_categorical(train_labels, num_classes)\n",
    "test_labels = keras.utils.to_categorical(test_labels, num_classes)"
   ]
  },
  {
   "cell_type": "code",
   "execution_count": 13,
   "metadata": {
    "colab": {},
    "colab_type": "code",
    "id": "viQvaj_bCXLM"
   },
   "outputs": [],
   "source": [
    "train_images = train_images.astype('float32')\n",
    "test_images = test_images.astype('float32')\n",
    "train_images /= 255\n",
    "test_images /= 255"
   ]
  },
  {
   "cell_type": "code",
   "execution_count": 14,
   "metadata": {
    "colab": {},
    "colab_type": "code",
    "id": "4HBv38BXwZHC"
   },
   "outputs": [],
   "source": [
    "import numpy as np\n",
    "from sklearn.model_selection import train_test_split"
   ]
  },
  {
   "cell_type": "code",
   "execution_count": 15,
   "metadata": {
    "colab": {},
    "colab_type": "code",
    "id": "MuB6Ugzz8MnG"
   },
   "outputs": [],
   "source": [
    "#Split data into training and validation\n",
    "imgaes_train, images_vali, labels_train, labels_vali = train_test_split(train_images, train_labels, test_size=0.2, random_state = 42) "
   ]
  },
  {
   "cell_type": "markdown",
   "metadata": {
    "colab_type": "text",
    "id": "DV0LcBBRD9Bx"
   },
   "source": [
    "#**Create convnet**"
   ]
  },
  {
   "cell_type": "code",
   "execution_count": 16,
   "metadata": {
    "colab": {
     "base_uri": "https://localhost:8080/",
     "height": 108
    },
    "colab_type": "code",
    "id": "3GCYQzQ6EStP",
    "outputId": "d3b34b19-ddb3-48f6-d22f-61b40e76d207"
   },
   "outputs": [],
   "source": [
    "from keras.layers import Conv2D, MaxPooling2D\n",
    "from keras.models import Sequential\n",
    "from keras.layers import Dense, Dropout, Activation, Flatten\n",
    "model = Sequential()\n",
    "\n",
    "#maybe seperate activation //model.add(Activation('relu')\n",
    "model.add(Conv2D(32, (3, 3), padding=\"same\", activation='relu', input_shape=(32, 32, 3)))\n",
    "model.add(layers.MaxPooling2D(2, 2))\n",
    "\n",
    "model.add(Conv2D(32, (3, 3), padding=\"same\", activation='relu'))\n",
    "model.add(layers.MaxPooling2D(2, 2))\n",
    "model.add(Dropout(0.5))\n",
    "\n",
    "model.add(Conv2D(64, (3, 3), padding=\"same\", activation='relu'))\n",
    "model.add(layers.MaxPooling2D(2, 2))\n",
    "\n",
    "model.add(Conv2D(64, (3, 3), padding=\"same\", activation='relu'))\n",
    "model.add(layers.MaxPooling2D(2, 2))\n",
    "model.add(Dropout(0.5))\n",
    "\n",
    "model.add(Conv2D(128, (3, 3), padding=\"same\", activation='relu'))\n",
    "model.add(Dropout(0.5))\n",
    "\n",
    "model.add(Conv2D(128, (3, 3), padding=\"same\", activation='relu'))\n",
    "model.add(Dropout(0.5))\n",
    "\n",
    "model.add(Flatten())\n",
    "model.add(Dropout(0.5))\n",
    "model.add(Dense(512, activation='relu'))\n",
    "model.add(Dense(num_classes, activation='softmax'))\n",
    "\n",
    "model.compile(loss='categorical_crossentropy',\n",
    "              optimizer='adam',\n",
    "              metrics=['accuracy'])"
   ]
  },
  {
   "cell_type": "code",
   "execution_count": 17,
   "metadata": {
    "colab": {
     "base_uri": "https://localhost:8080/",
     "height": 1669
    },
    "colab_type": "code",
    "id": "rgLAaWW0MwVn",
    "outputId": "0d3a3852-186d-4a83-bc3d-1c8c408aba76"
   },
   "outputs": [
    {
     "name": "stdout",
     "output_type": "stream",
     "text": [
      "WARNING:tensorflow:From /anaconda3/lib/python3.7/site-packages/tensorflow/python/ops/math_ops.py:3066: to_int32 (from tensorflow.python.ops.math_ops) is deprecated and will be removed in a future version.\n",
      "Instructions for updating:\n",
      "Use tf.cast instead.\n",
      "Train on 40000 samples, validate on 10000 samples\n",
      "Epoch 1/100\n",
      "40000/40000 [==============================] - 44s 1ms/step - loss: 1.9369 - acc: 0.2404 - val_loss: 1.7422 - val_acc: 0.3413\n",
      "Epoch 2/100\n",
      "40000/40000 [==============================] - 44s 1ms/step - loss: 1.6797 - acc: 0.3547 - val_loss: 1.6373 - val_acc: 0.3769\n",
      "Epoch 3/100\n",
      "40000/40000 [==============================] - 44s 1ms/step - loss: 1.5737 - acc: 0.4076 - val_loss: 1.5381 - val_acc: 0.4601\n",
      "Epoch 4/100\n",
      "40000/40000 [==============================] - 44s 1ms/step - loss: 1.4977 - acc: 0.4410 - val_loss: 1.4379 - val_acc: 0.4920\n",
      "Epoch 5/100\n",
      "40000/40000 [==============================] - 44s 1ms/step - loss: 1.4545 - acc: 0.4635 - val_loss: 1.3132 - val_acc: 0.5247\n",
      "Epoch 6/100\n",
      "40000/40000 [==============================] - 44s 1ms/step - loss: 1.4242 - acc: 0.4815 - val_loss: 1.3023 - val_acc: 0.5399\n",
      "Epoch 7/100\n",
      "40000/40000 [==============================] - 44s 1ms/step - loss: 1.3943 - acc: 0.4942 - val_loss: 1.2827 - val_acc: 0.5557\n",
      "Epoch 8/100\n",
      "40000/40000 [==============================] - 44s 1ms/step - loss: 1.3654 - acc: 0.5045 - val_loss: 1.2759 - val_acc: 0.5565\n",
      "Epoch 9/100\n",
      "40000/40000 [==============================] - 44s 1ms/step - loss: 1.3408 - acc: 0.5175 - val_loss: 1.2340 - val_acc: 0.5720\n",
      "Epoch 10/100\n",
      "40000/40000 [==============================] - 44s 1ms/step - loss: 1.3310 - acc: 0.5251 - val_loss: 1.2125 - val_acc: 0.5898\n",
      "Epoch 11/100\n",
      "40000/40000 [==============================] - 45s 1ms/step - loss: 1.3142 - acc: 0.5311 - val_loss: 1.2656 - val_acc: 0.5652\n",
      "Epoch 12/100\n",
      "40000/40000 [==============================] - 44s 1ms/step - loss: 1.2942 - acc: 0.5404 - val_loss: 1.2123 - val_acc: 0.6043\n",
      "Epoch 13/100\n",
      "40000/40000 [==============================] - 45s 1ms/step - loss: 1.2943 - acc: 0.5428 - val_loss: 1.1741 - val_acc: 0.6162\n",
      "Epoch 14/100\n",
      "40000/40000 [==============================] - 45s 1ms/step - loss: 1.2751 - acc: 0.5538 - val_loss: 1.1631 - val_acc: 0.6058\n",
      "Epoch 15/100\n",
      "40000/40000 [==============================] - 45s 1ms/step - loss: 1.2628 - acc: 0.5535 - val_loss: 1.2027 - val_acc: 0.5834\n",
      "Epoch 16/100\n",
      "40000/40000 [==============================] - 45s 1ms/step - loss: 1.2501 - acc: 0.5625 - val_loss: 1.1240 - val_acc: 0.6301\n",
      "Epoch 17/100\n",
      "40000/40000 [==============================] - 45s 1ms/step - loss: 1.2432 - acc: 0.5649 - val_loss: 1.0983 - val_acc: 0.6335\n",
      "Epoch 18/100\n",
      "40000/40000 [==============================] - 45s 1ms/step - loss: 1.2390 - acc: 0.5669 - val_loss: 1.1196 - val_acc: 0.6265\n",
      "Epoch 19/100\n",
      "40000/40000 [==============================] - 45s 1ms/step - loss: 1.2330 - acc: 0.5707 - val_loss: 1.1776 - val_acc: 0.6204\n",
      "Epoch 20/100\n",
      "40000/40000 [==============================] - 45s 1ms/step - loss: 1.2362 - acc: 0.5692 - val_loss: 1.1516 - val_acc: 0.6281\n",
      "Epoch 21/100\n",
      "40000/40000 [==============================] - 45s 1ms/step - loss: 1.2283 - acc: 0.5703 - val_loss: 1.0678 - val_acc: 0.6542\n",
      "Epoch 22/100\n",
      "40000/40000 [==============================] - 45s 1ms/step - loss: 1.2164 - acc: 0.5758 - val_loss: 1.1350 - val_acc: 0.6461\n",
      "Epoch 23/100\n",
      "40000/40000 [==============================] - 45s 1ms/step - loss: 1.2026 - acc: 0.5839 - val_loss: 1.0873 - val_acc: 0.6373\n",
      "Epoch 24/100\n",
      "40000/40000 [==============================] - 45s 1ms/step - loss: 1.2080 - acc: 0.5858 - val_loss: 1.0685 - val_acc: 0.6436\n",
      "Epoch 25/100\n",
      "40000/40000 [==============================] - 45s 1ms/step - loss: 1.1962 - acc: 0.5868 - val_loss: 1.0532 - val_acc: 0.6525\n",
      "Epoch 26/100\n",
      "40000/40000 [==============================] - 44s 1ms/step - loss: 1.1854 - acc: 0.5906 - val_loss: 1.1359 - val_acc: 0.6287\n",
      "Epoch 27/100\n",
      "40000/40000 [==============================] - 45s 1ms/step - loss: 1.1869 - acc: 0.5880 - val_loss: 1.1220 - val_acc: 0.6282\n",
      "Epoch 28/100\n",
      "40000/40000 [==============================] - 44s 1ms/step - loss: 1.1865 - acc: 0.5925 - val_loss: 1.0908 - val_acc: 0.6357\n",
      "Epoch 29/100\n",
      "40000/40000 [==============================] - 44s 1ms/step - loss: 1.1853 - acc: 0.5918 - val_loss: 1.0820 - val_acc: 0.6462\n",
      "Epoch 30/100\n",
      "40000/40000 [==============================] - 44s 1ms/step - loss: 1.1768 - acc: 0.5967 - val_loss: 1.0425 - val_acc: 0.6657\n",
      "Epoch 31/100\n",
      "40000/40000 [==============================] - 44s 1ms/step - loss: 1.1729 - acc: 0.5978 - val_loss: 1.0849 - val_acc: 0.6361\n",
      "Epoch 32/100\n",
      "40000/40000 [==============================] - 45s 1ms/step - loss: 1.1602 - acc: 0.5996 - val_loss: 1.0363 - val_acc: 0.6516\n",
      "Epoch 33/100\n",
      "40000/40000 [==============================] - 45s 1ms/step - loss: 1.1677 - acc: 0.5999 - val_loss: 1.0665 - val_acc: 0.6571\n",
      "Epoch 34/100\n",
      "40000/40000 [==============================] - 45s 1ms/step - loss: 1.1644 - acc: 0.6031 - val_loss: 1.0460 - val_acc: 0.6543\n",
      "Epoch 35/100\n",
      "40000/40000 [==============================] - 45s 1ms/step - loss: 1.1567 - acc: 0.6056 - val_loss: 1.0306 - val_acc: 0.6649\n",
      "Epoch 36/100\n",
      "40000/40000 [==============================] - 44s 1ms/step - loss: 1.1527 - acc: 0.6055 - val_loss: 1.0144 - val_acc: 0.6683\n",
      "Epoch 37/100\n",
      "40000/40000 [==============================] - 44s 1ms/step - loss: 1.1481 - acc: 0.6082 - val_loss: 1.0580 - val_acc: 0.6590\n",
      "Epoch 38/100\n",
      "40000/40000 [==============================] - 45s 1ms/step - loss: 1.1504 - acc: 0.6068 - val_loss: 1.0292 - val_acc: 0.6592\n",
      "Epoch 39/100\n",
      "40000/40000 [==============================] - 45s 1ms/step - loss: 1.1497 - acc: 0.6061 - val_loss: 0.9968 - val_acc: 0.6728\n",
      "Epoch 40/100\n",
      "40000/40000 [==============================] - 45s 1ms/step - loss: 1.1484 - acc: 0.6098 - val_loss: 1.0147 - val_acc: 0.6669\n",
      "Epoch 41/100\n",
      "40000/40000 [==============================] - 45s 1ms/step - loss: 1.1504 - acc: 0.6091 - val_loss: 0.9947 - val_acc: 0.6764\n",
      "Epoch 42/100\n",
      "40000/40000 [==============================] - 45s 1ms/step - loss: 1.1323 - acc: 0.6126 - val_loss: 1.0092 - val_acc: 0.6723\n",
      "Epoch 43/100\n",
      "40000/40000 [==============================] - 45s 1ms/step - loss: 1.1418 - acc: 0.6120 - val_loss: 1.1249 - val_acc: 0.6306\n",
      "Epoch 44/100\n",
      "40000/40000 [==============================] - 45s 1ms/step - loss: 1.1404 - acc: 0.6122 - val_loss: 1.0445 - val_acc: 0.6560\n",
      "Epoch 45/100\n",
      "40000/40000 [==============================] - 45s 1ms/step - loss: 1.1333 - acc: 0.6114 - val_loss: 0.9767 - val_acc: 0.6770\n",
      "Epoch 46/100\n",
      "40000/40000 [==============================] - 45s 1ms/step - loss: 1.1370 - acc: 0.6129 - val_loss: 1.0069 - val_acc: 0.6700\n",
      "Epoch 47/100\n",
      "40000/40000 [==============================] - 45s 1ms/step - loss: 1.1302 - acc: 0.6180 - val_loss: 0.9855 - val_acc: 0.6724\n",
      "Epoch 48/100\n",
      "40000/40000 [==============================] - 45s 1ms/step - loss: 1.1264 - acc: 0.6178 - val_loss: 1.0059 - val_acc: 0.6685\n",
      "Epoch 49/100\n",
      "40000/40000 [==============================] - 45s 1ms/step - loss: 1.1231 - acc: 0.6183 - val_loss: 1.0330 - val_acc: 0.6654\n",
      "Epoch 50/100\n",
      "40000/40000 [==============================] - 45s 1ms/step - loss: 1.1300 - acc: 0.6165 - val_loss: 0.9906 - val_acc: 0.6751\n",
      "Epoch 51/100\n",
      "40000/40000 [==============================] - 45s 1ms/step - loss: 1.1287 - acc: 0.6163 - val_loss: 1.0104 - val_acc: 0.6675\n",
      "Epoch 52/100\n",
      "40000/40000 [==============================] - 45s 1ms/step - loss: 1.1146 - acc: 0.6219 - val_loss: 1.0232 - val_acc: 0.6708\n",
      "Epoch 53/100\n",
      "40000/40000 [==============================] - 45s 1ms/step - loss: 1.1221 - acc: 0.6178 - val_loss: 1.0623 - val_acc: 0.6587\n",
      "Epoch 54/100\n",
      "40000/40000 [==============================] - 45s 1ms/step - loss: 1.1126 - acc: 0.6218 - val_loss: 0.9760 - val_acc: 0.6784\n",
      "Epoch 55/100\n",
      "40000/40000 [==============================] - 45s 1ms/step - loss: 1.1213 - acc: 0.6219 - val_loss: 1.0098 - val_acc: 0.6702\n",
      "Epoch 56/100\n",
      "40000/40000 [==============================] - 45s 1ms/step - loss: 1.1136 - acc: 0.6207 - val_loss: 0.9716 - val_acc: 0.6904\n",
      "Epoch 57/100\n",
      "40000/40000 [==============================] - 46s 1ms/step - loss: 1.1129 - acc: 0.6244 - val_loss: 0.9986 - val_acc: 0.6839\n"
     ]
    },
    {
     "name": "stdout",
     "output_type": "stream",
     "text": [
      "Epoch 58/100\n",
      "40000/40000 [==============================] - 45s 1ms/step - loss: 1.1115 - acc: 0.6251 - val_loss: 0.9429 - val_acc: 0.6900\n",
      "Epoch 59/100\n",
      "40000/40000 [==============================] - 45s 1ms/step - loss: 1.1088 - acc: 0.6246 - val_loss: 0.9759 - val_acc: 0.6723\n",
      "Epoch 60/100\n",
      "40000/40000 [==============================] - 45s 1ms/step - loss: 1.1066 - acc: 0.6267 - val_loss: 1.0037 - val_acc: 0.6763\n",
      "Epoch 61/100\n",
      "40000/40000 [==============================] - 45s 1ms/step - loss: 1.1105 - acc: 0.6246 - val_loss: 1.0032 - val_acc: 0.6775\n",
      "Epoch 62/100\n",
      "40000/40000 [==============================] - 45s 1ms/step - loss: 1.1091 - acc: 0.6262 - val_loss: 0.9718 - val_acc: 0.6910\n",
      "Epoch 63/100\n",
      "40000/40000 [==============================] - 45s 1ms/step - loss: 1.0942 - acc: 0.6319 - val_loss: 0.9199 - val_acc: 0.7005\n",
      "Epoch 64/100\n",
      "40000/40000 [==============================] - 45s 1ms/step - loss: 1.1026 - acc: 0.6268 - val_loss: 0.9539 - val_acc: 0.6878\n",
      "Epoch 65/100\n",
      "40000/40000 [==============================] - 45s 1ms/step - loss: 1.0993 - acc: 0.6302 - val_loss: 0.9399 - val_acc: 0.6995\n",
      "Epoch 66/100\n",
      "40000/40000 [==============================] - 45s 1ms/step - loss: 1.0925 - acc: 0.6288 - val_loss: 0.9430 - val_acc: 0.6967\n",
      "Epoch 67/100\n",
      "40000/40000 [==============================] - 45s 1ms/step - loss: 1.0948 - acc: 0.6335 - val_loss: 0.9557 - val_acc: 0.6794\n",
      "Epoch 68/100\n",
      "40000/40000 [==============================] - 45s 1ms/step - loss: 1.1043 - acc: 0.6277 - val_loss: 0.9615 - val_acc: 0.6838\n",
      "Epoch 69/100\n",
      "40000/40000 [==============================] - 45s 1ms/step - loss: 1.0879 - acc: 0.6339 - val_loss: 0.9276 - val_acc: 0.6930\n",
      "Epoch 70/100\n",
      "40000/40000 [==============================] - 45s 1ms/step - loss: 1.0935 - acc: 0.6345 - val_loss: 0.9893 - val_acc: 0.6708\n",
      "Epoch 71/100\n",
      "40000/40000 [==============================] - 45s 1ms/step - loss: 1.0843 - acc: 0.6328 - val_loss: 0.9308 - val_acc: 0.7004\n",
      "Epoch 72/100\n",
      "40000/40000 [==============================] - 46s 1ms/step - loss: 1.1055 - acc: 0.6292 - val_loss: 0.9685 - val_acc: 0.6869\n",
      "Epoch 73/100\n",
      "40000/40000 [==============================] - 45s 1ms/step - loss: 1.0967 - acc: 0.6324 - val_loss: 0.9477 - val_acc: 0.6861\n",
      "Epoch 74/100\n",
      "40000/40000 [==============================] - 45s 1ms/step - loss: 1.0932 - acc: 0.6315 - val_loss: 0.9229 - val_acc: 0.6971\n",
      "Epoch 75/100\n",
      "40000/40000 [==============================] - 45s 1ms/step - loss: 1.0901 - acc: 0.6360 - val_loss: 0.9350 - val_acc: 0.6863\n",
      "Epoch 76/100\n",
      "40000/40000 [==============================] - 45s 1ms/step - loss: 1.0803 - acc: 0.6392 - val_loss: 0.9335 - val_acc: 0.6942\n",
      "Epoch 77/100\n",
      "40000/40000 [==============================] - 45s 1ms/step - loss: 1.0866 - acc: 0.6361 - val_loss: 0.9492 - val_acc: 0.6870\n",
      "Epoch 78/100\n",
      "40000/40000 [==============================] - 46s 1ms/step - loss: 1.0856 - acc: 0.6342 - val_loss: 1.0285 - val_acc: 0.6733\n",
      "Epoch 79/100\n",
      "40000/40000 [==============================] - 45s 1ms/step - loss: 1.0910 - acc: 0.6349 - val_loss: 0.9488 - val_acc: 0.6845\n",
      "Epoch 80/100\n",
      "40000/40000 [==============================] - 45s 1ms/step - loss: 1.0827 - acc: 0.6354 - val_loss: 0.9222 - val_acc: 0.7016\n",
      "Epoch 81/100\n",
      "40000/40000 [==============================] - 45s 1ms/step - loss: 1.0811 - acc: 0.6423 - val_loss: 0.9442 - val_acc: 0.6901\n",
      "Epoch 82/100\n",
      "40000/40000 [==============================] - 45s 1ms/step - loss: 1.0850 - acc: 0.6366 - val_loss: 0.9277 - val_acc: 0.7029\n",
      "Epoch 83/100\n",
      "40000/40000 [==============================] - 45s 1ms/step - loss: 1.0878 - acc: 0.6389 - val_loss: 0.9698 - val_acc: 0.6909\n",
      "Epoch 84/100\n",
      "40000/40000 [==============================] - 45s 1ms/step - loss: 1.0844 - acc: 0.6370 - val_loss: 0.9171 - val_acc: 0.6980\n",
      "Epoch 85/100\n",
      "40000/40000 [==============================] - 45s 1ms/step - loss: 1.0868 - acc: 0.6367 - val_loss: 0.9342 - val_acc: 0.7026\n",
      "Epoch 86/100\n",
      "40000/40000 [==============================] - 44s 1ms/step - loss: 1.0825 - acc: 0.6392 - val_loss: 0.9245 - val_acc: 0.6973\n",
      "Epoch 87/100\n",
      "40000/40000 [==============================] - 44s 1ms/step - loss: 1.0749 - acc: 0.6454 - val_loss: 0.9780 - val_acc: 0.6815\n",
      "Epoch 88/100\n",
      "40000/40000 [==============================] - 44s 1ms/step - loss: 1.0825 - acc: 0.6384 - val_loss: 0.9352 - val_acc: 0.7033\n",
      "Epoch 89/100\n",
      "40000/40000 [==============================] - 44s 1ms/step - loss: 1.0709 - acc: 0.6433 - val_loss: 0.9130 - val_acc: 0.7013\n",
      "Epoch 90/100\n",
      "40000/40000 [==============================] - 44s 1ms/step - loss: 1.0703 - acc: 0.6430 - val_loss: 0.9503 - val_acc: 0.6931\n",
      "Epoch 91/100\n",
      "40000/40000 [==============================] - 44s 1ms/step - loss: 1.0860 - acc: 0.6382 - val_loss: 0.9611 - val_acc: 0.6938\n",
      "Epoch 92/100\n",
      "40000/40000 [==============================] - 44s 1ms/step - loss: 1.0916 - acc: 0.6356 - val_loss: 0.8887 - val_acc: 0.7078\n",
      "Epoch 93/100\n",
      "40000/40000 [==============================] - 45s 1ms/step - loss: 1.0821 - acc: 0.6407 - val_loss: 0.9466 - val_acc: 0.6935\n",
      "Epoch 94/100\n",
      "40000/40000 [==============================] - 44s 1ms/step - loss: 1.0739 - acc: 0.6413 - val_loss: 0.9727 - val_acc: 0.6905\n",
      "Epoch 95/100\n",
      "40000/40000 [==============================] - 44s 1ms/step - loss: 1.0650 - acc: 0.6431 - val_loss: 0.9306 - val_acc: 0.7000\n",
      "Epoch 96/100\n",
      "40000/40000 [==============================] - 44s 1ms/step - loss: 1.0728 - acc: 0.6427 - val_loss: 0.9836 - val_acc: 0.6726\n",
      "Epoch 97/100\n",
      "40000/40000 [==============================] - 44s 1ms/step - loss: 1.0698 - acc: 0.6430 - val_loss: 0.9339 - val_acc: 0.6944\n",
      "Epoch 98/100\n",
      "40000/40000 [==============================] - 44s 1ms/step - loss: 1.0731 - acc: 0.6405 - val_loss: 0.9252 - val_acc: 0.7063\n",
      "Epoch 99/100\n",
      "40000/40000 [==============================] - 44s 1ms/step - loss: 1.0710 - acc: 0.6455 - val_loss: 0.9486 - val_acc: 0.6916\n",
      "Epoch 100/100\n",
      "40000/40000 [==============================] - 44s 1ms/step - loss: 1.0745 - acc: 0.6442 - val_loss: 0.9562 - val_acc: 0.6930\n"
     ]
    },
    {
     "data": {
      "text/plain": [
       "<keras.callbacks.History at 0xb2d336128>"
      ]
     },
     "execution_count": 17,
     "metadata": {},
     "output_type": "execute_result"
    }
   ],
   "source": [
    "model.fit(imgaes_train, labels_train,\n",
    "batch_size=batch_size,\n",
    "epochs=epochs,\n",
    "validation_data=(images_vali, labels_vali),\n",
    "shuffle=True)"
   ]
  },
  {
   "cell_type": "code",
   "execution_count": 18,
   "metadata": {
    "colab": {},
    "colab_type": "code",
    "id": "7BpumOCrNPwm"
   },
   "outputs": [],
   "source": [
    "model.save(model_name)"
   ]
  }
 ],
 "metadata": {
  "colab": {
   "collapsed_sections": [],
   "name": "DataAugmentation.ipynb",
   "provenance": [],
   "version": "0.3.2"
  },
  "kernelspec": {
   "display_name": "Python 3",
   "language": "python",
   "name": "python3"
  },
  "language_info": {
   "codemirror_mode": {
    "name": "ipython",
    "version": 3
   },
   "file_extension": ".py",
   "mimetype": "text/x-python",
   "name": "python",
   "nbconvert_exporter": "python",
   "pygments_lexer": "ipython3",
   "version": "3.7.0"
  }
 },
 "nbformat": 4,
 "nbformat_minor": 1
}
