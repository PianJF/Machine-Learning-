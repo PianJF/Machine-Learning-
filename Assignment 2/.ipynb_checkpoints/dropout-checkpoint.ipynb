{
 "cells": [
  {
   "cell_type": "code",
   "execution_count": 1,
   "metadata": {
    "colab": {},
    "colab_type": "code",
    "id": "rMGCAz2B7qTi"
   },
   "outputs": [
    {
     "name": "stderr",
     "output_type": "stream",
     "text": [
      "Using TensorFlow backend.\n"
     ]
    },
    {
     "name": "stdout",
     "output_type": "stream",
     "text": [
      "Downloading data from https://www.cs.toronto.edu/~kriz/cifar-10-python.tar.gz\n",
      "170500096/170498071 [==============================] - 152s 1us/step\n"
     ]
    }
   ],
   "source": [
    "from keras.datasets import cifar10\n",
    "\n",
    "(train_images, train_labels), (test_images, test_labels) = cifar10.load_data()\n"
   ]
  },
  {
   "cell_type": "code",
   "execution_count": 2,
   "metadata": {
    "colab": {},
    "colab_type": "code",
    "id": "luggQ_wzvqOK"
   },
   "outputs": [],
   "source": [
    "#save the model after training\n",
    "import os\n",
    "save_dir = os.path.join(os.getcwd(), 'saved_models')\n",
    "model_name = 'cifar10_trained_model_modified_filter.h5'"
   ]
  },
  {
   "cell_type": "markdown",
   "metadata": {
    "colab_type": "text",
    "id": "wTYpKSQGDsIC"
   },
   "source": [
    "# **Process data before training**"
   ]
  },
  {
   "cell_type": "code",
   "execution_count": 3,
   "metadata": {
    "colab": {},
    "colab_type": "code",
    "id": "QTBsKvncCIj1"
   },
   "outputs": [],
   "source": [
    "batch_size = 32\n",
    "num_classes = 10\n",
    "epochs = 100"
   ]
  },
  {
   "cell_type": "code",
   "execution_count": 4,
   "metadata": {
    "colab": {},
    "colab_type": "code",
    "id": "gTJfesLR4xHA"
   },
   "outputs": [],
   "source": [
    "import keras\n",
    "from keras import layers\n",
    "from keras import models\n",
    "train_labels = keras.utils.to_categorical(train_labels, num_classes)\n",
    "test_labels = keras.utils.to_categorical(test_labels, num_classes)"
   ]
  },
  {
   "cell_type": "code",
   "execution_count": 5,
   "metadata": {
    "colab": {},
    "colab_type": "code",
    "id": "viQvaj_bCXLM"
   },
   "outputs": [],
   "source": [
    "train_images = train_images.astype('float32')\n",
    "test_images = test_images.astype('float32')\n",
    "train_images /= 255\n",
    "test_images /= 255"
   ]
  },
  {
   "cell_type": "code",
   "execution_count": 6,
   "metadata": {
    "colab": {},
    "colab_type": "code",
    "id": "4HBv38BXwZHC"
   },
   "outputs": [],
   "source": [
    "import numpy as np\n",
    "from sklearn.model_selection import train_test_split"
   ]
  },
  {
   "cell_type": "code",
   "execution_count": 7,
   "metadata": {
    "colab": {},
    "colab_type": "code",
    "id": "MuB6Ugzz8MnG"
   },
   "outputs": [],
   "source": [
    "#Split data into training and validation\n",
    "imgaes_train, images_vali, labels_train, labels_vali = train_test_split(train_images, train_labels, test_size=0.2, random_state = 42) "
   ]
  },
  {
   "cell_type": "markdown",
   "metadata": {
    "colab_type": "text",
    "id": "DV0LcBBRD9Bx"
   },
   "source": [
    "#**Create convnet**\n",
    "\n"
   ]
  },
  {
   "cell_type": "markdown",
   "metadata": {
    "colab": {
     "base_uri": "https://localhost:8080/",
     "height": 108
    },
    "colab_type": "code",
    "id": "3GCYQzQ6EStP",
    "outputId": "d3b34b19-ddb3-48f6-d22f-61b40e76d207"
   },
   "source": [
    "from keras.layers import Conv2D, MaxPooling2D\n",
    "from keras.models import Sequential\n",
    "from keras.layers import Dense, Dropout, Activation, Flatten\n",
    "model = Sequential()\n",
    "\n",
    "#maybe seperate activation //model.add(Activation('relu')\n",
    "model.add(Conv2D(32, (3, 3), padding=\"same\", activation='relu', input_shape=(32, 32, 3)))\n",
    "model.add(layers.MaxPooling2D(2, 2))\n",
    "\n",
    "model.add(Conv2D(32, (3, 3), padding=\"same\", activation='relu'))\n",
    "model.add(layers.MaxPooling2D(2, 2))\n",
    "\n",
    "model.add(Conv2D(64, (3, 3), padding=\"same\", activation='relu'))\n",
    "model.add(layers.MaxPooling2D(2, 2))\n",
    "\n",
    "model.add(Conv2D(64, (3, 3), padding=\"same\", activation='relu'))\n",
    "model.add(layers.MaxPooling2D(2, 2))\n",
    "\n",
    "model.add(Flatten())\n",
    "model.add(Dense(512, activation='relu'))\n",
    "model.add(Dense(num_classes, activation='softmax'))\n",
    "\n",
    "model.compile(loss='categorical_crossentropy',\n",
    "              optimizer='adam',\n",
    "              metrics=['accuracy'])"
   ]
  },
  {
   "cell_type": "code",
   "execution_count": 11,
   "metadata": {
    "colab": {
     "base_uri": "https://localhost:8080/",
     "height": 1669
    },
    "colab_type": "code",
    "id": "rgLAaWW0MwVn",
    "outputId": "0d3a3852-186d-4a83-bc3d-1c8c408aba76"
   },
   "outputs": [
    {
     "name": "stdout",
     "output_type": "stream",
     "text": [
      "WARNING:tensorflow:From /anaconda3/lib/python3.7/site-packages/tensorflow/python/ops/math_ops.py:3066: to_int32 (from tensorflow.python.ops.math_ops) is deprecated and will be removed in a future version.\n",
      "Instructions for updating:\n",
      "Use tf.cast instead.\n",
      "Train on 40000 samples, validate on 10000 samples\n",
      "Epoch 1/100\n",
      "40000/40000 [==============================] - 34s 856us/step - loss: 1.5226 - acc: 0.4375 - val_loss: 1.2666 - val_acc: 0.5439\n",
      "Epoch 2/100\n",
      "40000/40000 [==============================] - 34s 856us/step - loss: 1.1367 - acc: 0.5901 - val_loss: 0.9954 - val_acc: 0.6457\n",
      "Epoch 3/100\n",
      "40000/40000 [==============================] - 35s 881us/step - loss: 0.9648 - acc: 0.6550 - val_loss: 1.0157 - val_acc: 0.6363\n",
      "Epoch 4/100\n",
      "40000/40000 [==============================] - 33s 820us/step - loss: 0.8511 - acc: 0.6959 - val_loss: 0.8759 - val_acc: 0.6902\n",
      "Epoch 5/100\n",
      "40000/40000 [==============================] - 32s 809us/step - loss: 0.7591 - acc: 0.7311 - val_loss: 0.9424 - val_acc: 0.6747\n",
      "Epoch 6/100\n",
      "40000/40000 [==============================] - 33s 817us/step - loss: 0.6965 - acc: 0.7528 - val_loss: 0.8361 - val_acc: 0.7063\n",
      "Epoch 7/100\n",
      "40000/40000 [==============================] - 32s 812us/step - loss: 0.6292 - acc: 0.7778 - val_loss: 0.8300 - val_acc: 0.7156\n",
      "Epoch 8/100\n",
      "40000/40000 [==============================] - 33s 815us/step - loss: 0.5722 - acc: 0.7959 - val_loss: 0.8723 - val_acc: 0.7081\n",
      "Epoch 9/100\n",
      "40000/40000 [==============================] - 33s 814us/step - loss: 0.5183 - acc: 0.8146 - val_loss: 0.8588 - val_acc: 0.7146\n",
      "Epoch 10/100\n",
      "40000/40000 [==============================] - 32s 812us/step - loss: 0.4665 - acc: 0.8325 - val_loss: 0.9172 - val_acc: 0.7192\n",
      "Epoch 11/100\n",
      "40000/40000 [==============================] - 33s 815us/step - loss: 0.4199 - acc: 0.8485 - val_loss: 0.9221 - val_acc: 0.7186\n",
      "Epoch 12/100\n",
      "40000/40000 [==============================] - 33s 825us/step - loss: 0.3736 - acc: 0.8633 - val_loss: 0.9682 - val_acc: 0.7119\n",
      "Epoch 13/100\n",
      "40000/40000 [==============================] - 33s 821us/step - loss: 0.3382 - acc: 0.8761 - val_loss: 1.0598 - val_acc: 0.7045\n",
      "Epoch 14/100\n",
      "40000/40000 [==============================] - 33s 832us/step - loss: 0.2963 - acc: 0.8934 - val_loss: 1.0775 - val_acc: 0.7076\n",
      "Epoch 15/100\n",
      "40000/40000 [==============================] - 33s 823us/step - loss: 0.2670 - acc: 0.9033 - val_loss: 1.1816 - val_acc: 0.7157\n",
      "Epoch 16/100\n",
      "40000/40000 [==============================] - 33s 823us/step - loss: 0.2481 - acc: 0.9084 - val_loss: 1.1896 - val_acc: 0.7073\n",
      "Epoch 17/100\n",
      "40000/40000 [==============================] - 33s 831us/step - loss: 0.2283 - acc: 0.9161 - val_loss: 1.2960 - val_acc: 0.6961\n",
      "Epoch 18/100\n",
      "40000/40000 [==============================] - 34s 847us/step - loss: 0.2089 - acc: 0.9249 - val_loss: 1.3752 - val_acc: 0.7131\n",
      "Epoch 19/100\n",
      "40000/40000 [==============================] - 33s 825us/step - loss: 0.1941 - acc: 0.9305 - val_loss: 1.4849 - val_acc: 0.7055\n",
      "Epoch 20/100\n",
      "40000/40000 [==============================] - 33s 833us/step - loss: 0.1802 - acc: 0.9355 - val_loss: 1.4830 - val_acc: 0.7076\n",
      "Epoch 21/100\n",
      "40000/40000 [==============================] - 33s 833us/step - loss: 0.1919 - acc: 0.9319 - val_loss: 1.4691 - val_acc: 0.7105\n",
      "Epoch 22/100\n",
      "40000/40000 [==============================] - 33s 831us/step - loss: 0.1662 - acc: 0.9407 - val_loss: 1.5569 - val_acc: 0.7066\n",
      "Epoch 23/100\n",
      "40000/40000 [==============================] - 33s 833us/step - loss: 0.1629 - acc: 0.9423 - val_loss: 1.5749 - val_acc: 0.7094\n",
      "Epoch 24/100\n",
      "40000/40000 [==============================] - 33s 832us/step - loss: 0.1610 - acc: 0.9439 - val_loss: 1.5521 - val_acc: 0.7028\n",
      "Epoch 25/100\n",
      "40000/40000 [==============================] - 33s 832us/step - loss: 0.1510 - acc: 0.9467 - val_loss: 1.7313 - val_acc: 0.6986\n",
      "Epoch 26/100\n",
      "40000/40000 [==============================] - 33s 836us/step - loss: 0.1573 - acc: 0.9460 - val_loss: 1.7410 - val_acc: 0.7049\n",
      "Epoch 27/100\n",
      "40000/40000 [==============================] - 33s 830us/step - loss: 0.1375 - acc: 0.9521 - val_loss: 1.7583 - val_acc: 0.7080\n",
      "Epoch 28/100\n",
      "40000/40000 [==============================] - 33s 833us/step - loss: 0.1459 - acc: 0.9509 - val_loss: 1.8219 - val_acc: 0.6994\n",
      "Epoch 29/100\n",
      "40000/40000 [==============================] - 33s 836us/step - loss: 0.1472 - acc: 0.9495 - val_loss: 1.8865 - val_acc: 0.6932\n",
      "Epoch 30/100\n",
      "40000/40000 [==============================] - 33s 831us/step - loss: 0.1395 - acc: 0.9529 - val_loss: 1.9345 - val_acc: 0.7044\n",
      "Epoch 31/100\n",
      "40000/40000 [==============================] - 33s 830us/step - loss: 0.1437 - acc: 0.9514 - val_loss: 1.7555 - val_acc: 0.7105\n",
      "Epoch 32/100\n",
      "40000/40000 [==============================] - 33s 828us/step - loss: 0.1352 - acc: 0.9547 - val_loss: 1.8314 - val_acc: 0.7005\n",
      "Epoch 33/100\n",
      "40000/40000 [==============================] - 34s 840us/step - loss: 0.1326 - acc: 0.9549 - val_loss: 1.9272 - val_acc: 0.7029\n",
      "Epoch 34/100\n",
      "40000/40000 [==============================] - 33s 832us/step - loss: 0.1280 - acc: 0.9577 - val_loss: 1.9436 - val_acc: 0.6990\n",
      "Epoch 35/100\n",
      "40000/40000 [==============================] - 33s 820us/step - loss: 0.1331 - acc: 0.9551 - val_loss: 1.8991 - val_acc: 0.7083\n",
      "Epoch 36/100\n",
      "40000/40000 [==============================] - 32s 810us/step - loss: 0.1331 - acc: 0.9561 - val_loss: 1.9347 - val_acc: 0.7047\n",
      "Epoch 37/100\n",
      "40000/40000 [==============================] - 33s 821us/step - loss: 0.1259 - acc: 0.9582 - val_loss: 2.1113 - val_acc: 0.7024\n",
      "Epoch 38/100\n",
      "40000/40000 [==============================] - 33s 814us/step - loss: 0.1305 - acc: 0.9578 - val_loss: 2.0157 - val_acc: 0.7028\n",
      "Epoch 39/100\n",
      "40000/40000 [==============================] - 33s 817us/step - loss: 0.1200 - acc: 0.9616 - val_loss: 2.0616 - val_acc: 0.7058\n",
      "Epoch 40/100\n",
      "40000/40000 [==============================] - 33s 826us/step - loss: 0.1309 - acc: 0.9582 - val_loss: 1.9883 - val_acc: 0.7016\n",
      "Epoch 41/100\n",
      "40000/40000 [==============================] - 33s 815us/step - loss: 0.1310 - acc: 0.9586 - val_loss: 2.1319 - val_acc: 0.7035\n",
      "Epoch 42/100\n",
      "40000/40000 [==============================] - 33s 818us/step - loss: 0.1282 - acc: 0.9590 - val_loss: 1.9823 - val_acc: 0.7104\n",
      "Epoch 43/100\n",
      "40000/40000 [==============================] - 33s 815us/step - loss: 0.1135 - acc: 0.9634 - val_loss: 2.1145 - val_acc: 0.7070\n",
      "Epoch 44/100\n",
      "40000/40000 [==============================] - 33s 816us/step - loss: 0.1283 - acc: 0.9596 - val_loss: 2.1047 - val_acc: 0.7091\n",
      "Epoch 45/100\n",
      "40000/40000 [==============================] - 33s 816us/step - loss: 0.1224 - acc: 0.9624 - val_loss: 2.2053 - val_acc: 0.6999\n",
      "Epoch 46/100\n",
      "40000/40000 [==============================] - 33s 816us/step - loss: 0.1156 - acc: 0.9638 - val_loss: 2.2244 - val_acc: 0.7041\n",
      "Epoch 47/100\n",
      "40000/40000 [==============================] - 33s 815us/step - loss: 0.1240 - acc: 0.9612 - val_loss: 2.1060 - val_acc: 0.7020\n",
      "Epoch 48/100\n",
      "40000/40000 [==============================] - 33s 825us/step - loss: 0.1157 - acc: 0.9635 - val_loss: 2.1322 - val_acc: 0.6981\n",
      "Epoch 49/100\n",
      "40000/40000 [==============================] - 33s 820us/step - loss: 0.1242 - acc: 0.9616 - val_loss: 2.2696 - val_acc: 0.7149\n",
      "Epoch 50/100\n",
      "40000/40000 [==============================] - 33s 813us/step - loss: 0.1309 - acc: 0.9596 - val_loss: 2.2548 - val_acc: 0.7005\n",
      "Epoch 51/100\n",
      "40000/40000 [==============================] - 33s 815us/step - loss: 0.1173 - acc: 0.9643 - val_loss: 2.2288 - val_acc: 0.6916\n",
      "Epoch 52/100\n",
      "40000/40000 [==============================] - 33s 817us/step - loss: 0.1134 - acc: 0.9647 - val_loss: 2.4425 - val_acc: 0.6890\n",
      "Epoch 53/100\n",
      "40000/40000 [==============================] - 33s 817us/step - loss: 0.1081 - acc: 0.9667 - val_loss: 2.2723 - val_acc: 0.6957\n",
      "Epoch 54/100\n",
      "40000/40000 [==============================] - 32s 811us/step - loss: 0.1396 - acc: 0.9593 - val_loss: 2.2850 - val_acc: 0.7047\n",
      "Epoch 55/100\n",
      "40000/40000 [==============================] - 33s 817us/step - loss: 0.1193 - acc: 0.9648 - val_loss: 2.3216 - val_acc: 0.6999\n",
      "Epoch 56/100\n",
      "40000/40000 [==============================] - 33s 816us/step - loss: 0.1173 - acc: 0.9643 - val_loss: 2.3599 - val_acc: 0.6976\n",
      "Epoch 57/100\n"
     ]
    },
    {
     "name": "stdout",
     "output_type": "stream",
     "text": [
      "40000/40000 [==============================] - 32s 810us/step - loss: 0.1141 - acc: 0.9663 - val_loss: 2.4044 - val_acc: 0.6992\n",
      "Epoch 58/100\n",
      "40000/40000 [==============================] - 32s 800us/step - loss: 0.1092 - acc: 0.9677 - val_loss: 2.4455 - val_acc: 0.6917\n",
      "Epoch 59/100\n",
      "40000/40000 [==============================] - 32s 806us/step - loss: 0.1222 - acc: 0.9641 - val_loss: 2.4405 - val_acc: 0.6944\n",
      "Epoch 60/100\n",
      "40000/40000 [==============================] - 32s 796us/step - loss: 0.1085 - acc: 0.9679 - val_loss: 2.4258 - val_acc: 0.6997\n",
      "Epoch 61/100\n",
      "40000/40000 [==============================] - 32s 797us/step - loss: 0.1253 - acc: 0.9636 - val_loss: 2.4711 - val_acc: 0.6959\n",
      "Epoch 62/100\n",
      "40000/40000 [==============================] - 32s 807us/step - loss: 0.1215 - acc: 0.9658 - val_loss: 2.3759 - val_acc: 0.7014\n",
      "Epoch 63/100\n",
      "40000/40000 [==============================] - 32s 798us/step - loss: 0.1116 - acc: 0.9674 - val_loss: 2.4494 - val_acc: 0.7023\n",
      "Epoch 64/100\n",
      "40000/40000 [==============================] - 32s 796us/step - loss: 0.1092 - acc: 0.9681 - val_loss: 2.5241 - val_acc: 0.6919\n",
      "Epoch 65/100\n",
      "40000/40000 [==============================] - 32s 806us/step - loss: 0.1317 - acc: 0.9616 - val_loss: 2.3777 - val_acc: 0.6976\n",
      "Epoch 66/100\n",
      "40000/40000 [==============================] - 32s 796us/step - loss: 0.1114 - acc: 0.9679 - val_loss: 2.4532 - val_acc: 0.7068\n",
      "Epoch 67/100\n",
      "40000/40000 [==============================] - 32s 810us/step - loss: 0.1195 - acc: 0.9652 - val_loss: 2.4560 - val_acc: 0.6933\n",
      "Epoch 68/100\n",
      "40000/40000 [==============================] - 32s 798us/step - loss: 0.1039 - acc: 0.9694 - val_loss: 2.4190 - val_acc: 0.7039\n",
      "Epoch 69/100\n",
      "40000/40000 [==============================] - 32s 803us/step - loss: 0.1214 - acc: 0.9650 - val_loss: 2.4383 - val_acc: 0.6955\n",
      "Epoch 70/100\n",
      "40000/40000 [==============================] - 32s 796us/step - loss: 0.1064 - acc: 0.9689 - val_loss: 2.3910 - val_acc: 0.6994\n",
      "Epoch 71/100\n",
      "40000/40000 [==============================] - 32s 803us/step - loss: 0.1002 - acc: 0.9705 - val_loss: 2.5105 - val_acc: 0.7058\n",
      "Epoch 72/100\n",
      "40000/40000 [==============================] - 32s 803us/step - loss: 0.1196 - acc: 0.9663 - val_loss: 2.4895 - val_acc: 0.7012\n",
      "Epoch 73/100\n",
      "40000/40000 [==============================] - 32s 798us/step - loss: 0.1184 - acc: 0.9671 - val_loss: 2.5978 - val_acc: 0.6922\n",
      "Epoch 74/100\n",
      "40000/40000 [==============================] - 32s 801us/step - loss: 0.1019 - acc: 0.9714 - val_loss: 2.7263 - val_acc: 0.6904\n",
      "Epoch 75/100\n",
      "40000/40000 [==============================] - 32s 799us/step - loss: 0.1109 - acc: 0.9681 - val_loss: 2.5533 - val_acc: 0.6948\n",
      "Epoch 76/100\n",
      "40000/40000 [==============================] - 32s 810us/step - loss: 0.1103 - acc: 0.9690 - val_loss: 2.6462 - val_acc: 0.7043\n",
      "Epoch 77/100\n",
      "40000/40000 [==============================] - 32s 804us/step - loss: 0.1424 - acc: 0.9631 - val_loss: 2.6507 - val_acc: 0.6933\n",
      "Epoch 78/100\n",
      "40000/40000 [==============================] - 32s 802us/step - loss: 0.0937 - acc: 0.9726 - val_loss: 2.5864 - val_acc: 0.6982\n",
      "Epoch 79/100\n",
      "40000/40000 [==============================] - 32s 809us/step - loss: 0.1248 - acc: 0.9654 - val_loss: 2.5691 - val_acc: 0.6915\n",
      "Epoch 80/100\n",
      "40000/40000 [==============================] - 32s 803us/step - loss: 0.1024 - acc: 0.9721 - val_loss: 2.6537 - val_acc: 0.6983\n",
      "Epoch 81/100\n",
      "40000/40000 [==============================] - 32s 808us/step - loss: 0.1180 - acc: 0.9685 - val_loss: 2.6288 - val_acc: 0.7053\n",
      "Epoch 82/100\n",
      "40000/40000 [==============================] - 32s 800us/step - loss: 0.1179 - acc: 0.9683 - val_loss: 2.5885 - val_acc: 0.6994\n",
      "Epoch 83/100\n",
      "40000/40000 [==============================] - 32s 802us/step - loss: 0.1204 - acc: 0.9685 - val_loss: 2.5411 - val_acc: 0.7027\n",
      "Epoch 84/100\n",
      "40000/40000 [==============================] - 32s 807us/step - loss: 0.1154 - acc: 0.9692 - val_loss: 2.6741 - val_acc: 0.6926\n",
      "Epoch 85/100\n",
      "40000/40000 [==============================] - 33s 813us/step - loss: 0.1077 - acc: 0.9705 - val_loss: 2.6673 - val_acc: 0.6993\n",
      "Epoch 86/100\n",
      "40000/40000 [==============================] - 32s 810us/step - loss: 0.1118 - acc: 0.9699 - val_loss: 2.7581 - val_acc: 0.6952\n",
      "Epoch 87/100\n",
      "40000/40000 [==============================] - 32s 797us/step - loss: 0.1091 - acc: 0.9711 - val_loss: 2.7794 - val_acc: 0.7024\n",
      "Epoch 88/100\n",
      "40000/40000 [==============================] - 32s 805us/step - loss: 0.1247 - acc: 0.9671 - val_loss: 2.8080 - val_acc: 0.6882\n",
      "Epoch 89/100\n",
      "40000/40000 [==============================] - 32s 807us/step - loss: 0.1234 - acc: 0.9672 - val_loss: 2.7348 - val_acc: 0.6918\n",
      "Epoch 90/100\n",
      "40000/40000 [==============================] - 32s 800us/step - loss: 0.0894 - acc: 0.9760 - val_loss: 2.8660 - val_acc: 0.6988\n",
      "Epoch 91/100\n",
      "40000/40000 [==============================] - 32s 810us/step - loss: 0.1291 - acc: 0.9676 - val_loss: 2.8678 - val_acc: 0.6772\n",
      "Epoch 92/100\n",
      "40000/40000 [==============================] - 32s 805us/step - loss: 0.1176 - acc: 0.9697 - val_loss: 2.8123 - val_acc: 0.6965\n",
      "Epoch 93/100\n",
      "40000/40000 [==============================] - 32s 810us/step - loss: 0.1084 - acc: 0.9733 - val_loss: 2.8518 - val_acc: 0.6912\n",
      "Epoch 94/100\n",
      "40000/40000 [==============================] - 32s 808us/step - loss: 0.1248 - acc: 0.9687 - val_loss: 2.8135 - val_acc: 0.7024\n",
      "Epoch 95/100\n",
      "40000/40000 [==============================] - 32s 809us/step - loss: 0.1189 - acc: 0.9704 - val_loss: 2.7606 - val_acc: 0.7022\n",
      "Epoch 96/100\n",
      "40000/40000 [==============================] - 32s 807us/step - loss: 0.1118 - acc: 0.9714 - val_loss: 2.9072 - val_acc: 0.6935\n",
      "Epoch 97/100\n",
      "40000/40000 [==============================] - 32s 805us/step - loss: 0.1205 - acc: 0.9701 - val_loss: 2.8690 - val_acc: 0.6963\n",
      "Epoch 98/100\n",
      "40000/40000 [==============================] - 32s 807us/step - loss: 0.1133 - acc: 0.9711 - val_loss: 2.8809 - val_acc: 0.6923\n",
      "Epoch 99/100\n",
      "40000/40000 [==============================] - 32s 804us/step - loss: 0.1186 - acc: 0.9716 - val_loss: 2.9184 - val_acc: 0.7016\n",
      "Epoch 100/100\n",
      "40000/40000 [==============================] - 32s 803us/step - loss: 0.1099 - acc: 0.9732 - val_loss: 3.0008 - val_acc: 0.6947\n"
     ]
    },
    {
     "data": {
      "text/plain": [
       "<keras.callbacks.History at 0xb2e2404a8>"
      ]
     },
     "execution_count": 11,
     "metadata": {},
     "output_type": "execute_result"
    }
   ],
   "source": [
    "model.fit(imgaes_train, labels_train,\n",
    "batch_size=batch_size,\n",
    "epochs=epochs,\n",
    "validation_data=(images_vali, labels_vali),\n",
    "shuffle=True)"
   ]
  },
  {
   "cell_type": "code",
   "execution_count": 12,
   "metadata": {
    "colab": {},
    "colab_type": "code",
    "id": "7BpumOCrNPwm"
   },
   "outputs": [],
   "source": [
    "model.save(model_name)"
   ]
  }
 ],
 "metadata": {
  "colab": {
   "collapsed_sections": [],
   "name": "DataAugmentation.ipynb",
   "provenance": [],
   "version": "0.3.2"
  },
  "kernelspec": {
   "display_name": "Python 3",
   "language": "python",
   "name": "python3"
  },
  "language_info": {
   "codemirror_mode": {
    "name": "ipython",
    "version": 3
   },
   "file_extension": ".py",
   "mimetype": "text/x-python",
   "name": "python",
   "nbconvert_exporter": "python",
   "pygments_lexer": "ipython3",
   "version": "3.7.0"
  }
 },
 "nbformat": 4,
 "nbformat_minor": 1
}
