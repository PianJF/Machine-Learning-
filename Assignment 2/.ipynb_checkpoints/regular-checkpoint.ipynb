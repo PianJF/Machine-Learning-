{
 "cells": [
  {
   "cell_type": "code",
   "execution_count": 0,
   "metadata": {
    "colab": {},
    "colab_type": "code",
    "id": "rMGCAz2B7qTi"
   },
   "outputs": [],
   "source": [
    "from keras.datasets import cifar10\n",
    "\n",
    "(train_images, train_labels), (test_images, test_labels) = cifar10.load_data()\n"
   ]
  },
  {
   "cell_type": "code",
   "execution_count": 0,
   "metadata": {
    "colab": {},
    "colab_type": "code",
    "id": "luggQ_wzvqOK"
   },
   "outputs": [],
   "source": [
    "#save the model after training\n",
    "import os\n",
    "save_dir = os.path.join(os.getcwd(), 'saved_models')\n",
    "model_name = 'cifar10_trained_model.h5'"
   ]
  },
  {
   "cell_type": "markdown",
   "metadata": {
    "colab_type": "text",
    "id": "wTYpKSQGDsIC"
   },
   "source": [
    "# **Process data before training**"
   ]
  },
  {
   "cell_type": "code",
   "execution_count": 0,
   "metadata": {
    "colab": {},
    "colab_type": "code",
    "id": "QTBsKvncCIj1"
   },
   "outputs": [],
   "source": [
    "batch_size = 32\n",
    "num_classes = 10\n",
    "epochs = 100"
   ]
  },
  {
   "cell_type": "code",
   "execution_count": 0,
   "metadata": {
    "colab": {},
    "colab_type": "code",
    "id": "gTJfesLR4xHA"
   },
   "outputs": [],
   "source": [
    "import keras\n",
    "from keras import layers\n",
    "from keras import models\n",
    "train_labels = keras.utils.to_categorical(train_labels, num_classes)\n",
    "test_labels = keras.utils.to_categorical(test_labels, num_classes)"
   ]
  },
  {
   "cell_type": "code",
   "execution_count": 0,
   "metadata": {
    "colab": {},
    "colab_type": "code",
    "id": "viQvaj_bCXLM"
   },
   "outputs": [],
   "source": [
    "train_images = train_images.astype('float32')\n",
    "test_images = test_images.astype('float32')\n",
    "train_images /= 255\n",
    "test_images /= 255"
   ]
  },
  {
   "cell_type": "code",
   "execution_count": 0,
   "metadata": {
    "colab": {},
    "colab_type": "code",
    "id": "4HBv38BXwZHC"
   },
   "outputs": [],
   "source": [
    "import numpy as np\n",
    "from sklearn.model_selection import train_test_split"
   ]
  },
  {
   "cell_type": "code",
   "execution_count": 0,
   "metadata": {
    "colab": {},
    "colab_type": "code",
    "id": "MuB6Ugzz8MnG"
   },
   "outputs": [],
   "source": [
    "#Split data into training and validation\n",
    "imgaes_train, images_vali, labels_train, labels_vali = train_test_split(train_images, train_labels, test_size=0.2, random_state = 42) "
   ]
  },
  {
   "cell_type": "markdown",
   "metadata": {
    "colab_type": "text",
    "id": "DV0LcBBRD9Bx"
   },
   "source": [
    "#**Create convnet**\n",
    "\n"
   ]
  },
  {
   "cell_type": "code",
   "execution_count": 27,
   "metadata": {
    "colab": {
     "base_uri": "https://localhost:8080/",
     "height": 108
    },
    "colab_type": "code",
    "id": "3GCYQzQ6EStP",
    "outputId": "d3b34b19-ddb3-48f6-d22f-61b40e76d207"
   },
   "outputs": [
    {
     "name": "stdout",
     "output_type": "stream",
     "text": [
      "WARNING:tensorflow:From /usr/local/lib/python3.6/dist-packages/tensorflow/python/framework/op_def_library.py:263: colocate_with (from tensorflow.python.framework.ops) is deprecated and will be removed in a future version.\n",
      "Instructions for updating:\n",
      "Colocations handled automatically by placer.\n"
     ]
    }
   ],
   "source": [
    "from keras.layers import Conv2D, MaxPooling2D\n",
    "\n",
    "model = Sequential()\n",
    "\n",
    "#maybe seperate activation //model.add(Activation('relu')\n",
    "model.add(Conv2D(32, (3, 3), padding=\"same\", activation='relu', input_shape=(32, 32, 3)))\n",
    "model.add(layers.MaxPooling2D(2, 2))\n",
    "\n",
    "model.add(Conv2D(32, (3, 3), padding=\"same\", activation='relu'))\n",
    "model.add(layers.MaxPooling2D(2, 2))\n",
    "\n",
    "model.add(Conv2D(64, (3, 3), padding=\"same\", activation='relu'))\n",
    "model.add(layers.MaxPooling2D(2, 2))\n",
    "\n",
    "model.add(Conv2D(64, (3, 3), padding=\"same\", activation='relu'))\n",
    "model.add(layers.MaxPooling2D(2, 2))\n",
    "\n",
    "model.add(Flatten())\n",
    "model.add(Dense(512, activation='relu'))\n",
    "model.add(Dense(num_classes, activation='softmax'))\n",
    "\n",
    "model.compile(loss='categorical_crossentropy',\n",
    "              optimizer='adam',\n",
    "              metrics=['accuracy'])"
   ]
  },
  {
   "cell_type": "code",
   "execution_count": 0,
   "metadata": {
    "colab": {
     "base_uri": "https://localhost:8080/",
     "height": 1669
    },
    "colab_type": "code",
    "id": "rgLAaWW0MwVn",
    "outputId": "0d3a3852-186d-4a83-bc3d-1c8c408aba76"
   },
   "outputs": [
    {
     "name": "stdout",
     "output_type": "stream",
     "text": [
      "WARNING:tensorflow:From /usr/local/lib/python3.6/dist-packages/tensorflow/python/ops/math_ops.py:3066: to_int32 (from tensorflow.python.ops.math_ops) is deprecated and will be removed in a future version.\n",
      "Instructions for updating:\n",
      "Use tf.cast instead.\n",
      "Train on 40000 samples, validate on 10000 samples\n",
      "Epoch 1/100\n",
      "40000/40000 [==============================] - 94s 2ms/step - loss: 1.5160 - acc: 0.4468 - val_loss: 1.2114 - val_acc: 0.5570\n",
      "Epoch 2/100\n",
      "40000/40000 [==============================] - 92s 2ms/step - loss: 1.1326 - acc: 0.5956 - val_loss: 1.0568 - val_acc: 0.6208\n",
      "Epoch 3/100\n",
      "40000/40000 [==============================] - 91s 2ms/step - loss: 0.9504 - acc: 0.6627 - val_loss: 0.9275 - val_acc: 0.6776\n",
      "Epoch 4/100\n",
      "40000/40000 [==============================] - 91s 2ms/step - loss: 0.8380 - acc: 0.7031 - val_loss: 0.9064 - val_acc: 0.6763\n",
      "Epoch 5/100\n",
      "40000/40000 [==============================] - 91s 2ms/step - loss: 0.7462 - acc: 0.7356 - val_loss: 0.8605 - val_acc: 0.7047\n",
      "Epoch 6/100\n",
      "40000/40000 [==============================] - 90s 2ms/step - loss: 0.6715 - acc: 0.7621 - val_loss: 0.8709 - val_acc: 0.7057\n",
      "Epoch 7/100\n",
      "40000/40000 [==============================] - 90s 2ms/step - loss: 0.6093 - acc: 0.7834 - val_loss: 0.8230 - val_acc: 0.7194\n",
      "Epoch 8/100\n",
      "40000/40000 [==============================] - 96s 2ms/step - loss: 0.5418 - acc: 0.8067 - val_loss: 0.8774 - val_acc: 0.7092\n",
      "Epoch 9/100\n",
      "40000/40000 [==============================] - 94s 2ms/step - loss: 0.4893 - acc: 0.8257 - val_loss: 0.9072 - val_acc: 0.7166\n",
      "Epoch 10/100\n",
      "40000/40000 [==============================] - 94s 2ms/step - loss: 0.4351 - acc: 0.8452 - val_loss: 0.9330 - val_acc: 0.7130\n",
      "Epoch 11/100\n",
      "40000/40000 [==============================] - 95s 2ms/step - loss: 0.3892 - acc: 0.8615 - val_loss: 0.9456 - val_acc: 0.7227\n",
      "Epoch 12/100\n",
      "40000/40000 [==============================] - 95s 2ms/step - loss: 0.3567 - acc: 0.8726 - val_loss: 1.0067 - val_acc: 0.7200\n",
      "Epoch 13/100\n",
      "40000/40000 [==============================] - 94s 2ms/step - loss: 0.3158 - acc: 0.8867 - val_loss: 1.0669 - val_acc: 0.7111\n",
      "Epoch 14/100\n",
      "40000/40000 [==============================] - 94s 2ms/step - loss: 0.2887 - acc: 0.8968 - val_loss: 1.1030 - val_acc: 0.7193\n",
      "Epoch 15/100\n",
      "40000/40000 [==============================] - 94s 2ms/step - loss: 0.2576 - acc: 0.9069 - val_loss: 1.2238 - val_acc: 0.7095\n",
      "Epoch 16/100\n",
      "40000/40000 [==============================] - 94s 2ms/step - loss: 0.2367 - acc: 0.9139 - val_loss: 1.2488 - val_acc: 0.7192\n",
      "Epoch 17/100\n",
      "40000/40000 [==============================] - 94s 2ms/step - loss: 0.2181 - acc: 0.9231 - val_loss: 1.3415 - val_acc: 0.7097\n",
      "Epoch 18/100\n",
      "40000/40000 [==============================] - 93s 2ms/step - loss: 0.2099 - acc: 0.9241 - val_loss: 1.3116 - val_acc: 0.7185\n",
      "Epoch 19/100\n",
      "40000/40000 [==============================] - 94s 2ms/step - loss: 0.1988 - acc: 0.9288 - val_loss: 1.3840 - val_acc: 0.7076\n",
      "Epoch 20/100\n",
      "40000/40000 [==============================] - 95s 2ms/step - loss: 0.1788 - acc: 0.9362 - val_loss: 1.5302 - val_acc: 0.7134\n",
      "Epoch 21/100\n",
      "40000/40000 [==============================] - 95s 2ms/step - loss: 0.1726 - acc: 0.9389 - val_loss: 1.5824 - val_acc: 0.7101\n",
      "Epoch 22/100\n",
      "40000/40000 [==============================] - 95s 2ms/step - loss: 0.1767 - acc: 0.9379 - val_loss: 1.5332 - val_acc: 0.7144\n",
      "Epoch 23/100\n",
      "40000/40000 [==============================] - 95s 2ms/step - loss: 0.1619 - acc: 0.9434 - val_loss: 1.7008 - val_acc: 0.6923\n",
      "Epoch 24/100\n",
      "40000/40000 [==============================] - 95s 2ms/step - loss: 0.1506 - acc: 0.9472 - val_loss: 1.7284 - val_acc: 0.7134\n",
      "Epoch 25/100\n",
      "40000/40000 [==============================] - 96s 2ms/step - loss: 0.1670 - acc: 0.9436 - val_loss: 1.5916 - val_acc: 0.7023\n",
      "Epoch 26/100\n",
      "40000/40000 [==============================] - 95s 2ms/step - loss: 0.1504 - acc: 0.9479 - val_loss: 1.8225 - val_acc: 0.6992\n",
      "Epoch 27/100\n",
      "40000/40000 [==============================] - 95s 2ms/step - loss: 0.1574 - acc: 0.9476 - val_loss: 1.7985 - val_acc: 0.6989\n",
      "Epoch 28/100\n",
      "40000/40000 [==============================] - 95s 2ms/step - loss: 0.1467 - acc: 0.9504 - val_loss: 1.8385 - val_acc: 0.7060\n",
      "Epoch 29/100\n",
      "40000/40000 [==============================] - 95s 2ms/step - loss: 0.1423 - acc: 0.9525 - val_loss: 1.8106 - val_acc: 0.7023\n",
      "Epoch 30/100\n",
      "40000/40000 [==============================] - 95s 2ms/step - loss: 0.1404 - acc: 0.9524 - val_loss: 1.8646 - val_acc: 0.7069\n",
      "Epoch 31/100\n",
      "40000/40000 [==============================] - 95s 2ms/step - loss: 0.1510 - acc: 0.9503 - val_loss: 1.9220 - val_acc: 0.6955\n",
      "Epoch 32/100\n",
      "40000/40000 [==============================] - 94s 2ms/step - loss: 0.1435 - acc: 0.9530 - val_loss: 2.0411 - val_acc: 0.6976\n",
      "Epoch 33/100\n",
      "40000/40000 [==============================] - 94s 2ms/step - loss: 0.1294 - acc: 0.9567 - val_loss: 2.0338 - val_acc: 0.7021\n",
      "Epoch 34/100\n",
      "40000/40000 [==============================] - 94s 2ms/step - loss: 0.1451 - acc: 0.9549 - val_loss: 1.9708 - val_acc: 0.7030\n",
      "Epoch 35/100\n",
      "40000/40000 [==============================] - 94s 2ms/step - loss: 0.1323 - acc: 0.9579 - val_loss: 1.9641 - val_acc: 0.7091\n",
      "Epoch 36/100\n",
      "40000/40000 [==============================] - 93s 2ms/step - loss: 0.1368 - acc: 0.9564 - val_loss: 1.9091 - val_acc: 0.7045\n",
      "Epoch 37/100\n",
      "40000/40000 [==============================] - 94s 2ms/step - loss: 0.1263 - acc: 0.9596 - val_loss: 2.0266 - val_acc: 0.7023\n",
      "Epoch 38/100\n",
      "40000/40000 [==============================] - 95s 2ms/step - loss: 0.1387 - acc: 0.9560 - val_loss: 2.1872 - val_acc: 0.6910\n",
      "Epoch 39/100\n",
      "40000/40000 [==============================] - 94s 2ms/step - loss: 0.1432 - acc: 0.9544 - val_loss: 2.0076 - val_acc: 0.7023\n",
      "Epoch 40/100\n",
      "40000/40000 [==============================] - 94s 2ms/step - loss: 0.1189 - acc: 0.9609 - val_loss: 2.1520 - val_acc: 0.7031\n",
      "Epoch 41/100\n",
      "40000/40000 [==============================] - 92s 2ms/step - loss: 0.1230 - acc: 0.9607 - val_loss: 2.0599 - val_acc: 0.7055\n",
      "Epoch 42/100\n",
      "40000/40000 [==============================] - 91s 2ms/step - loss: 0.1300 - acc: 0.9599 - val_loss: 2.0958 - val_acc: 0.7071\n",
      "Epoch 43/100\n",
      "40000/40000 [==============================] - 91s 2ms/step - loss: 0.1214 - acc: 0.9624 - val_loss: 2.1750 - val_acc: 0.7053\n",
      "Epoch 44/100\n",
      "40000/40000 [==============================] - 92s 2ms/step - loss: 0.1322 - acc: 0.9582 - val_loss: 2.1631 - val_acc: 0.7026\n",
      "Epoch 45/100\n",
      "40000/40000 [==============================] - 92s 2ms/step - loss: 0.1352 - acc: 0.9580 - val_loss: 2.1562 - val_acc: 0.7001\n",
      "Epoch 46/100\n",
      "39968/40000 [============================>.] - ETA: 0s - loss: 0.1281 - acc: 0.9600Buffered data was truncated after reaching the output size limit."
     ]
    }
   ],
   "source": [
    "model.fit(imgaes_train, labels_train,\n",
    "batch_size=batch_size,\n",
    "epochs=epochs,\n",
    "validation_data=(images_vali, labels_vali),\n",
    "shuffle=True)"
   ]
  },
  {
   "cell_type": "code",
   "execution_count": 0,
   "metadata": {
    "colab": {},
    "colab_type": "code",
    "id": "7BpumOCrNPwm"
   },
   "outputs": [],
   "source": [
    "model.save(model_name)"
   ]
  }
 ],
 "metadata": {
  "colab": {
   "collapsed_sections": [],
   "name": "DataAugmentation.ipynb",
   "provenance": [],
   "version": "0.3.2"
  },
  "kernelspec": {
   "display_name": "Python 3",
   "language": "python",
   "name": "python3"
  },
  "language_info": {
   "codemirror_mode": {
    "name": "ipython",
    "version": 3
   },
   "file_extension": ".py",
   "mimetype": "text/x-python",
   "name": "python",
   "nbconvert_exporter": "python",
   "pygments_lexer": "ipython3",
   "version": "3.7.0"
  }
 },
 "nbformat": 4,
 "nbformat_minor": 1
}
