{
  "nbformat": 4,
  "nbformat_minor": 0,
  "metadata": {
    "colab": {
      "name": "Q1.ipynb",
      "version": "0.3.2",
      "provenance": []
    },
    "kernelspec": {
      "display_name": "Python 2",
      "language": "python",
      "name": "python2"
    }
  },
  "cells": [
    {
      "metadata": {
        "id": "rjLwELRaQzj7",
        "colab_type": "code",
        "colab": {
          "base_uri": "https://localhost:8080/",
          "height": 34
        },
        "outputId": "d264356b-e150-45b6-9266-36189f982b09"
      },
      "cell_type": "code",
      "source": [
        "#load data\n",
        "from keras.datasets import mnist\n",
        "(train_images_original, train_labels_original), (test_images_original, test_labels_original) = mnist.load_data()"
      ],
      "execution_count": 1,
      "outputs": [
        {
          "output_type": "stream",
          "text": [
            "Using TensorFlow backend.\n"
          ],
          "name": "stderr"
        }
      ]
    },
    {
      "metadata": {
        "id": "u0r6VwvZQzkA",
        "colab_type": "code",
        "colab": {}
      },
      "cell_type": "code",
      "source": [
        "#normalization\n",
        "train_images = train_images_original.reshape((60000, 28 * 28))\n",
        "train_images = train_images.astype('float32') / 255\n",
        "\n",
        "test_images = test_images_original.reshape((10000, 28 * 28))\n",
        "test_images = test_images.astype('float32') / 255"
      ],
      "execution_count": 0,
      "outputs": []
    },
    {
      "metadata": {
        "id": "0cFt7VVQQzkC",
        "colab_type": "code",
        "colab": {}
      },
      "cell_type": "code",
      "source": [
        "from keras.utils import to_categorical\n",
        "\n",
        "train_labels = to_categorical(train_labels_original)\n",
        "test_labels = to_categorical(test_labels_original)\n"
      ],
      "execution_count": 0,
      "outputs": []
    },
    {
      "metadata": {
        "id": "jO-k50-XQzkE",
        "colab_type": "code",
        "colab": {}
      },
      "cell_type": "code",
      "source": [
        "def gradient(w, b, x, y):\n",
        "    m = x.shape[0]\n",
        "    z = np.dot(w.T, x) + b\n",
        "    a = sigmoid(z)\n",
        "    d = np.dot(x, (a-y).T)\n",
        "    dz = np.dot(a, (1-a).T)\n",
        "    dw = np.dot(d, dz)/m            # (a-y) * a * (1 - a) * x / m\n",
        "    db = np.dot(np.sum(a-y), dz)/m  # (a-y) * a * (1 - a) / m\n",
        "    \n",
        "    return dw, db"
      ],
      "execution_count": 0,
      "outputs": []
    },
    {
      "metadata": {
        "id": "BjTIis-zQzkH",
        "colab_type": "code",
        "colab": {}
      },
      "cell_type": "code",
      "source": [
        "def trainer(w, b, x, y, lr, iteration):\n",
        "    for i in range(iteration):   \n",
        "        dw, db = gradient(w, b, x, y)\n",
        "        w = w - lr * dw\n",
        "        b = b - lr * db\n",
        "        #print(\"iteration = %f\" % (i + 1))\n",
        "\n",
        "    return w, b"
      ],
      "execution_count": 0,
      "outputs": []
    },
    {
      "metadata": {
        "id": "HFEHl7sgQzkJ",
        "colab_type": "code",
        "colab": {}
      },
      "cell_type": "code",
      "source": [
        "#sigmoid function\n",
        "def sigmoid(z):\n",
        "    result = 1.0 / (1.0 + np.exp(-z))\n",
        "    return result"
      ],
      "execution_count": 0,
      "outputs": []
    },
    {
      "metadata": {
        "id": "BesAwaAaQzkL",
        "colab_type": "code",
        "colab": {}
      },
      "cell_type": "code",
      "source": [
        "def predict(w, b, x):\n",
        "    m = x.shape[1]\n",
        "    y_pred = np.zeros((1, m))\n",
        "    z = np.dot(w.T, x) + b\n",
        "    a = sigmoid(z)\n",
        "  \n",
        "    for i in range(a.shape[1]):\n",
        "        if(a[:,i] > 0.5): \n",
        "            y_pred[:, i] = 1    # if image is not the digit\n",
        "        elif(a[:,i] <= 0.5):\n",
        "            y_pred[:, i] = 0    # if image is digit\n",
        "    \n",
        "    return y_pred"
      ],
      "execution_count": 0,
      "outputs": []
    },
    {
      "metadata": {
        "id": "IzMf5cDEQzkO",
        "colab_type": "code",
        "colab": {}
      },
      "cell_type": "code",
      "source": [
        "def accuracy(Y, y_predict):\n",
        "    acc = 100.0 - np.mean(np.abs(y_predict-Y)*100.0)\n",
        "    acc = round(acc, 3)\n",
        "    print(\"Accuracy {}%\".format(acc))"
      ],
      "execution_count": 0,
      "outputs": []
    },
    {
      "metadata": {
        "id": "0ykNdmG0QzkR",
        "colab_type": "code",
        "colab": {}
      },
      "cell_type": "code",
      "source": [
        "import numpy as np\n",
        "\n",
        "train_label_list = np.ones((10, train_images.shape[0], 1), dtype='float32') \n",
        "for i in range(train_images.shape[0]):\n",
        "    digit = np.argmax(train_labels[i])\n",
        "    train_label_list[digit][i] = 0.0\n",
        "train_label_list = train_label_list.reshape(10, 1, train_images.shape[0])\n",
        "train_images = train_images.T"
      ],
      "execution_count": 0,
      "outputs": []
    },
    {
      "metadata": {
        "id": "viLqiCOfQzkT",
        "colab_type": "code",
        "colab": {
          "base_uri": "https://localhost:8080/",
          "height": 527
        },
        "outputId": "05975996-84bf-4438-e35b-a27ba729f66d"
      },
      "cell_type": "code",
      "source": [
        "# initialize weight and bias\n",
        "# w.shape -- (28 * 28, 1)\n",
        "w = np.zeros((10, train_images.shape[0], 1))\n",
        "b = np.zeros((10, 1))\n",
        "batch_size = 32\n",
        "epochs = 10\n",
        "\n",
        "for d in range(10):  \n",
        "    shuffled_indices = np.random.permutation(train_images.shape[0])\n",
        "    x_shuffled = train_images[shuffled_indices]\n",
        "    y_shuffled = train_label_list[d][0][shuffled_indices]\n",
        "    print(\"Start training \", d)\n",
        "    for i in range(0, train_images.shape[0], batch_size):\n",
        "        x = x_shuffled[i:i+batch_size]\n",
        "        y = y_shuffled[i:i+batch_size]\n",
        "        w[d], b[d] = trainer(w[d], b[d], train_images, train_label_list[d], 0.5, epochs)\n",
        "    print(\"Training {} finished\".format(int(d)))\n",
        "    y_pred = predict(w[d], b[d], train_images)\n",
        "    accuracy(train_label_list[d], y_pred)"
      ],
      "execution_count": 10,
      "outputs": [
        {
          "output_type": "stream",
          "text": [
            "('Start training ', 0)\n",
            "Training 0 finished\n",
            "Accuracy 90.128%\n",
            "('Start training ', 1)\n",
            "Training 1 finished\n",
            "Accuracy 88.763%\n",
            "('Start training ', 2)\n",
            "Training 2 finished\n",
            "Accuracy 90.07%\n",
            "('Start training ', 3)\n",
            "Training 3 finished\n",
            "Accuracy 89.782%\n",
            "('Start training ', 4)\n",
            "Training 4 finished\n",
            "Accuracy 90.263%\n",
            "('Start training ', 5)\n",
            "Training 5 finished\n",
            "Accuracy 90.965%\n",
            "('Start training ', 6)\n",
            "Training 6 finished\n",
            "Accuracy 90.137%\n",
            "('Start training ', 7)\n",
            "Training 7 finished\n",
            "Accuracy 89.558%\n",
            "('Start training ', 8)\n",
            "Training 8 finished\n",
            "Accuracy 90.248%\n",
            "('Start training ', 9)\n",
            "Training 9 finished\n",
            "Accuracy 90.085%\n"
          ],
          "name": "stdout"
        }
      ]
    }
  ]
}