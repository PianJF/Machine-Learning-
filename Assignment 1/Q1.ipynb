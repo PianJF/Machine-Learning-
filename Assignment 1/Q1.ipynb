{
 "cells": [
  {
   "cell_type": "code",
   "execution_count": 3,
   "metadata": {
    "collapsed": true
   },
   "outputs": [],
   "source": [
    "#load data\n",
    "from keras.datasets import mnist\n",
    "(train_images_original, train_labels_original), (test_images_original, test_labels_original) = mnist.load_data()"
   ]
  },
  {
   "cell_type": "code",
   "execution_count": 4,
   "metadata": {},
   "outputs": [],
   "source": [
    "#normalization\n",
    "train_images = train_images_original.reshape((60000, 28 * 28))\n",
    "train_images = train_images.astype('float32') / 255\n",
    "\n",
    "test_images = test_images_original.reshape((10000, 28 * 28))\n",
    "test_images = test_images.astype('float32') / 255"
   ]
  },
  {
   "cell_type": "code",
   "execution_count": 5,
   "metadata": {},
   "outputs": [],
   "source": [
    "from keras.utils import to_categorical\n",
    "\n",
    "train_labels = to_categorical(train_labels_original)\n",
    "test_labels = to_categorical(test_labels_original)\n"
   ]
  },
  {
   "cell_type": "code",
   "execution_count": 36,
   "metadata": {},
   "outputs": [],
   "source": [
    "# Mean squared error loss function\n",
    "def gradient(w, b, x, y):\n",
    "    m = x.shape[0]\n",
    "    z = np.dot(w.T, x) + b\n",
    "    a = sigmoid(z)\n",
    "    d = np.dot(x, (a-y).T)\n",
    "    dz = np.dot(a, (1-a).T)\n",
    "    dw = np.dot(d, dz)/m            # (a-y) * a * (1 - a) * x / m\n",
    "    db = np.dot(np.sum(a-y), dz)/m  # (a-y) * a * (1 - a) / m\n",
    "    \n",
    "    return dw, db"
   ]
  },
  {
   "cell_type": "code",
   "execution_count": 44,
   "metadata": {},
   "outputs": [],
   "source": [
    "def trainer(w, b, x, y, lr, iteration):\n",
    "    for i in range(iteration):   \n",
    "        dw, db = gradient(w, b, x, y)\n",
    "        w = w - lr * dw\n",
    "        b = b - lr * db\n",
    "        print(\"iteration = %f\" % (i + 1))\n",
    "\n",
    "    return w, b"
   ]
  },
  {
   "cell_type": "code",
   "execution_count": 38,
   "metadata": {},
   "outputs": [],
   "source": [
    "#sigmoid function\n",
    "def sigmoid(z):\n",
    "    result = 1.0 / (1.0 + np.exp(-z))\n",
    "    \n",
    "    return result"
   ]
  },
  {
   "cell_type": "code",
   "execution_count": 39,
   "metadata": {},
   "outputs": [],
   "source": [
    "def predict(w, b, x):\n",
    "    m = x.shape[1]\n",
    "    y_pred = np.zeros((1, m))\n",
    "    z = np.dot(w.T, x) + b\n",
    "    a = sigmoid(z)\n",
    "  \n",
    "    for i in range(a.shape[1]):\n",
    "        if a[:, i] > 0.5: \n",
    "            y_pred[:, i] = 1    # if image is not the digit\n",
    "        elif a[:, i] <= 0.5:\n",
    "            y_pred[:, i] = 0    # if image is digit\n",
    "    \n",
    "    return y_pred"
   ]
  },
  {
   "cell_type": "code",
   "execution_count": 40,
   "metadata": {},
   "outputs": [],
   "source": [
    "def accuracy(Y, y_predict):\n",
    "    acc = 100.0 - np.mean(np.abs(y_predict-Y)*100.0)\n",
    "    acc = round(acc, 3)\n",
    "    print(\"Accuracy {}%\".format(acc))"
   ]
  },
  {
   "cell_type": "code",
   "execution_count": null,
   "metadata": {},
   "outputs": [],
   "source": [
    "import numpy as np\n",
    "\n",
    "# training label and images\n",
    "train_label_list = np.ones((10, train_images.shape[0], 1), dtype='float32') \n",
    "for i in range(train_images.shape[0]):\n",
    "    digit = np.argmax(train_labels[i])\n",
    "    train_label_list[digit][i] = 0.0\n",
    "train_label_list = train_label_list.reshape(10, 1, train_images.shape[0])\n",
    "train_images = train_images.T\n"
   ]
  },
  {
   "cell_type": "code",
   "execution_count": null,
   "metadata": {},
   "outputs": [],
   "source": [
    "# test label and images\n",
    "test_label_list = np.ones((10, test_images.shape[0], 1), dtype='float32') \n",
    "for i in range(test_images.shape[0]):\n",
    "    digit = np.argmax(train_labels[i])\n",
    "    test_label_list[digit][i] = 0.0\n",
    "test_label_list = test_label_list.reshape(10, 1, test_images.shape[0])\n",
    "test_images = test_images.T"
   ]
  },
  {
   "cell_type": "code",
   "execution_count": null,
   "metadata": {},
   "outputs": [],
   "source": [
    "# initialize weight and bias\n",
    "# w.shape -- (28 * 28, 1)\n",
    "w = np.zeros((10, train_images.shape[0], 1))\n",
    "b = np.zeros((10, 1))\n",
    "batch_size = 32\n",
    "epochs = 10\n",
    "\n",
    "for d in range(10):  \n",
    "    shuffled_indices = np.random.permutation(train_images.shape[0])\n",
    "    x_shuffled = train_images[shuffled_indices]\n",
    "    y_shuffled = train_label_list[d][0][shuffled_indices]\n",
    "    print(\"Start training \", d)\n",
    "    for i in range(0, train_images.shape[0], batch_size):\n",
    "        x = x_shuffled[i:i+batch_size]\n",
    "        y = y_shuffled[i:i+batch_size]\n",
    "        w[d], b[d] = trainer(w[d], b[d], train_images, train_label_list[d], 0.5, epochs)\n",
    "    print(\"Training {} finished\".format(int(d)))\n",
    "    y_pred = predict(w[d], b[d], test_images)\n",
    "    accuracy(test_label_list[d], y_pred)"
   ]
  }
 ],
 "metadata": {
  "kernelspec": {
   "display_name": "Python 2",
   "language": "python",
   "name": "python2"
  },
  "language_info": {
   "codemirror_mode": {
    "name": "ipython",
    "version": 2
   },
   "file_extension": ".py",
   "mimetype": "text/x-python",
   "name": "python",
   "nbconvert_exporter": "python",
   "pygments_lexer": "ipython2",
   "version": "2.7.6"
  }
 },
 "nbformat": 4,
 "nbformat_minor": 0
}
