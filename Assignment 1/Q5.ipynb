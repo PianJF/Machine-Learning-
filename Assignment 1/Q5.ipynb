{
  "nbformat": 4,
  "nbformat_minor": 0,
  "metadata": {
    "colab": {
      "name": "Q5.ipynb",
      "version": "0.3.2",
      "provenance": []
    },
    "kernelspec": {
      "display_name": "Python 2",
      "language": "python",
      "name": "python2"
    }
  },
  "cells": [
    {
      "metadata": {
        "collapsed": true,
        "id": "ucCDwyeoAxw5",
        "colab_type": "code",
        "colab": {
          "base_uri": "https://localhost:8080/",
          "height": 85
        },
        "outputId": "1942511f-c580-4ec3-ffbb-988321d2a926"
      },
      "cell_type": "code",
      "source": [
        "from keras.datasets import mnist\n",
        "\n",
        "(train_images_original, train_labels_original), (test_images_original, test_labels_original) = mnist.load_data()"
      ],
      "execution_count": 1,
      "outputs": [
        {
          "output_type": "stream",
          "text": [
            "Using TensorFlow backend.\n"
          ],
          "name": "stderr"
        },
        {
          "output_type": "stream",
          "text": [
            "Downloading data from https://s3.amazonaws.com/img-datasets/mnist.npz\n",
            "11493376/11490434 [==============================] - 0s 0us/step\n",
            "11501568/11490434 [==============================] - 0s 0us/step\n"
          ],
          "name": "stdout"
        }
      ]
    },
    {
      "metadata": {
        "id": "1G_hN2aJAxxA",
        "colab_type": "code",
        "colab": {}
      },
      "cell_type": "code",
      "source": [
        "import numpy as np\n",
        "# train and test images in shape (60000, 28, 28)\n",
        "train_images_28x28 = train_images_original.astype('float32') / 255\n",
        "test_images_28x28 = test_images_original.astype('float32') / 255\n",
        "\n",
        "train_images_rounded = np.round(train_images_28x28)\n",
        "test_images_rounded = np.round(test_images_28x28)\n",
        "\n",
        "# train and test images in shape (60000, 784)\n",
        "train_images = train_images_original.reshape((60000, 28 * 28))\n",
        "train_images = train_images.astype('float32') / 255\n",
        "\n",
        "test_images = test_images_original.reshape((10000, 28 * 28))\n",
        "test_images = test_images.astype('float32') / 255"
      ],
      "execution_count": 0,
      "outputs": []
    },
    {
      "metadata": {
        "id": "2n7QTgSEAxxC",
        "colab_type": "code",
        "colab": {}
      },
      "cell_type": "code",
      "source": [
        "def neighbours(x, y, zeros):\n",
        "    DIRC = [(0, 1), (1, 0), (0, -1), (-1, 0),\n",
        "            (1, 1), (1, -1), (-1, 1), (-1, -1)]\n",
        "    ROW = 28\n",
        "    COL = 28\n",
        "\n",
        "    nb = []\n",
        "    for d in DIRC:\n",
        "        dx, dy = d\n",
        "        new_x = x + dx\n",
        "        new_y = y + dy\n",
        "        if 0 <= new_x < COL and 0 <= new_y < ROW:\n",
        "            if [new_x, new_y] in zeros:\n",
        "                new_point = [new_x, new_y]\n",
        "                nb.append(new_point)\n",
        "    return nb"
      ],
      "execution_count": 0,
      "outputs": []
    },
    {
      "metadata": {
        "id": "cCtdb1AoAxxG",
        "colab_type": "code",
        "colab": {}
      },
      "cell_type": "code",
      "source": [
        "def islands(zeros):\n",
        "    visited = []\n",
        "    count = 0\n",
        "\n",
        "    for p in zeros:\n",
        "        p = [p[0], p[1]]\n",
        "        if p not in visited:\n",
        "            count += 1\n",
        "            dfs(p, visited, zeros)\n",
        "\n",
        "    return float(count)"
      ],
      "execution_count": 0,
      "outputs": []
    },
    {
      "metadata": {
        "id": "xgugFnSqAxxJ",
        "colab_type": "code",
        "colab": {}
      },
      "cell_type": "code",
      "source": [
        "def dfs(point, visited, zeros):\n",
        "    point = [point[0], point[1]]\n",
        "    if point in visited:\n",
        "        return\n",
        "    else:\n",
        "        visited.append(point)\n",
        "        nb = neighbours(point[0], point[1], zeros)\n",
        "\n",
        "        for n in nb:\n",
        "            dfs(n, visited, zeros)"
      ],
      "execution_count": 0,
      "outputs": []
    },
    {
      "metadata": {
        "id": "bk3ri69KAxxO",
        "colab_type": "code",
        "colab": {
          "base_uri": "https://localhost:8080/",
          "height": 119
        },
        "outputId": "2554ba36-6085-439f-dcb5-dcd646de029b"
      },
      "cell_type": "code",
      "source": [
        "train_images_featured = np.empty((0, 785))\n",
        "for i in range(train_images.shape[0]):\n",
        "    if i % 10000 == 0:\n",
        "        print(i)\n",
        "    allZeros = np.argwhere(train_images_rounded[i] == 0.0)\n",
        "    allZeros = allZeros.tolist()\n",
        "    islandsNum = islands(allZeros)\n",
        "    im = np.append(train_images[i], islandsNum)\n",
        "    train_images_featured = np.vstack([train_images_featured, im])\n",
        "    "
      ],
      "execution_count": 6,
      "outputs": [
        {
          "output_type": "stream",
          "text": [
            "0\n",
            "10000\n",
            "20000\n",
            "30000\n",
            "40000\n",
            "50000\n"
          ],
          "name": "stdout"
        }
      ]
    },
    {
      "metadata": {
        "id": "SrEYDwToAxxR",
        "colab_type": "code",
        "colab": {}
      },
      "cell_type": "code",
      "source": [
        "test_images_featured = np.empty((0, 785))\n",
        "for i in range(test_images.shape[0]):\n",
        "    if i % 1000 == 0:\n",
        "        print(i)\n",
        "    allZeros = np.argwhere(test_images_rounded[i] == 0.0)\n",
        "    allZeros = allZeros.tolist()\n",
        "    islandsNum = islands(allZeros)\n",
        "    im = np.append(test_images[i], islandsNum)\n",
        "    test_images_featured = np.vstack([test_images_featured, im])\n"
      ],
      "execution_count": 0,
      "outputs": []
    },
    {
      "metadata": {
        "id": "E46GdH6CAxxU",
        "colab_type": "code",
        "colab": {
          "base_uri": "https://localhost:8080/",
          "height": 68
        },
        "outputId": "fdda7a74-1e78-47c3-b41c-6aa2b9b3bd88"
      },
      "cell_type": "code",
      "source": [
        "from keras import models\n",
        "from keras import layers\n",
        "\n",
        "network = models.Sequential()\n",
        "network.add(layers.Dense(512, activation='relu', input_shape=(785,)))\n",
        "network.add(layers.Dense(10, activation='softmax'))\n"
      ],
      "execution_count": 8,
      "outputs": [
        {
          "output_type": "stream",
          "text": [
            "WARNING:tensorflow:From /usr/local/lib/python2.7/dist-packages/tensorflow/python/framework/op_def_library.py:263: colocate_with (from tensorflow.python.framework.ops) is deprecated and will be removed in a future version.\n",
            "Instructions for updating:\n",
            "Colocations handled automatically by placer.\n"
          ],
          "name": "stdout"
        }
      ]
    },
    {
      "metadata": {
        "id": "qz5ZYCW3AxxW",
        "colab_type": "code",
        "colab": {}
      },
      "cell_type": "code",
      "source": [
        "network.compile(optimizer='sgd',\n",
        "                loss='categorical_crossentropy',\n",
        "                metrics=['accuracy'])\n"
      ],
      "execution_count": 0,
      "outputs": []
    },
    {
      "metadata": {
        "id": "Wr4k4Fk6AxxY",
        "colab_type": "code",
        "colab": {}
      },
      "cell_type": "code",
      "source": [
        "from keras.utils import to_categorical\n",
        "\n",
        "train_labels = to_categorical(train_labels_original)\n",
        "test_labels = to_categorical(test_labels_original)\n"
      ],
      "execution_count": 0,
      "outputs": []
    },
    {
      "metadata": {
        "id": "JfQNWS_FAxxa",
        "colab_type": "code",
        "colab": {
          "base_uri": "https://localhost:8080/",
          "height": 425
        },
        "outputId": "6c41c936-fe63-4a4f-d86a-5e5b288ee6a3"
      },
      "cell_type": "code",
      "source": [
        "epochs = 10\n",
        "history = network.fit(train_images_featured, \n",
        "                      train_labels, \n",
        "                      epochs=epochs, \n",
        "                      batch_size=128, \n",
        "                      validation_data=(train_images_featured, train_labels))"
      ],
      "execution_count": 11,
      "outputs": [
        {
          "output_type": "stream",
          "text": [
            "WARNING:tensorflow:From /usr/local/lib/python2.7/dist-packages/tensorflow/python/ops/math_ops.py:3066: to_int32 (from tensorflow.python.ops.math_ops) is deprecated and will be removed in a future version.\n",
            "Instructions for updating:\n",
            "Use tf.cast instead.\n",
            "Train on 60000 samples, validate on 60000 samples\n",
            "Epoch 1/10\n",
            "60000/60000 [==============================] - 23s 376us/step - loss: 1.0858 - acc: 0.7549 - val_loss: 0.5991 - val_acc: 0.8679\n",
            "Epoch 2/10\n",
            "60000/60000 [==============================] - 22s 367us/step - loss: 0.4943 - acc: 0.8841 - val_loss: 0.4241 - val_acc: 0.8960\n",
            "Epoch 3/10\n",
            "60000/60000 [==============================] - 20s 341us/step - loss: 0.3886 - acc: 0.9015 - val_loss: 0.3594 - val_acc: 0.9068\n",
            "Epoch 4/10\n",
            "60000/60000 [==============================] - 21s 346us/step - loss: 0.3408 - acc: 0.9106 - val_loss: 0.3235 - val_acc: 0.9148\n",
            "Epoch 5/10\n",
            "60000/60000 [==============================] - 21s 346us/step - loss: 0.3117 - acc: 0.9165 - val_loss: 0.2998 - val_acc: 0.9195\n",
            "Epoch 6/10\n",
            "60000/60000 [==============================] - 21s 345us/step - loss: 0.2913 - acc: 0.9216 - val_loss: 0.2823 - val_acc: 0.9238\n",
            "Epoch 7/10\n",
            "60000/60000 [==============================] - 21s 348us/step - loss: 0.2759 - acc: 0.9253 - val_loss: 0.2686 - val_acc: 0.9268\n",
            "Epoch 8/10\n",
            "60000/60000 [==============================] - 21s 349us/step - loss: 0.2636 - acc: 0.9279 - val_loss: 0.2569 - val_acc: 0.9295\n",
            "Epoch 9/10\n",
            "60000/60000 [==============================] - 21s 344us/step - loss: 0.2531 - acc: 0.9306 - val_loss: 0.2474 - val_acc: 0.9319\n",
            "Epoch 10/10\n",
            "60000/60000 [==============================] - 21s 349us/step - loss: 0.2439 - acc: 0.9330 - val_loss: 0.2391 - val_acc: 0.9340\n"
          ],
          "name": "stdout"
        }
      ]
    },
    {
      "metadata": {
        "id": "aBsuj-lqAxxe",
        "colab_type": "code",
        "colab": {
          "base_uri": "https://localhost:8080/",
          "height": 51
        },
        "outputId": "4cb1570d-ae2c-4e2d-e2be-972648f59b2f"
      },
      "cell_type": "code",
      "source": [
        "loss, accuracy = network.evaluate(train_images_featured, train_labels, verbose=False)\n",
        "print(\"Test loss: \", round(loss, 3))\n",
        "print(\"Test accuracy: \", round(accuracy, 3))\n"
      ],
      "execution_count": 12,
      "outputs": [
        {
          "output_type": "stream",
          "text": [
            "('Test loss: ', 0.239)\n",
            "('Test accuracy: ', 0.934)\n"
          ],
          "name": "stdout"
        }
      ]
    },
    {
      "metadata": {
        "id": "Rhu6rct-Axxg",
        "colab_type": "code",
        "colab": {}
      },
      "cell_type": "code",
      "source": [
        ""
      ],
      "execution_count": 0,
      "outputs": []
    },
    {
      "metadata": {
        "id": "HzsyBUqnAxxi",
        "colab_type": "code",
        "colab": {}
      },
      "cell_type": "code",
      "source": [
        ""
      ],
      "execution_count": 0,
      "outputs": []
    },
    {
      "metadata": {
        "id": "ZHP2T8v7Axxk",
        "colab_type": "code",
        "colab": {}
      },
      "cell_type": "code",
      "source": [
        ""
      ],
      "execution_count": 0,
      "outputs": []
    },
    {
      "metadata": {
        "id": "Phe8qaH6Axxn",
        "colab_type": "code",
        "colab": {}
      },
      "cell_type": "code",
      "source": [
        ""
      ],
      "execution_count": 0,
      "outputs": []
    },
    {
      "metadata": {
        "id": "5X7_V8MWAxxp",
        "colab_type": "code",
        "colab": {}
      },
      "cell_type": "code",
      "source": [
        ""
      ],
      "execution_count": 0,
      "outputs": []
    }
  ]
}