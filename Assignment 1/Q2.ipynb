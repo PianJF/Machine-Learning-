{
 "cells": [
  {
   "cell_type": "code",
   "execution_count": 1,
   "metadata": {},
   "outputs": [
    {
     "name": "stderr",
     "output_type": "stream",
     "text": [
      "Using TensorFlow backend.\n"
     ]
    }
   ],
   "source": [
    "# load data\n",
    "from keras.datasets import mnist\n",
    "(train_images_original, train_labels_original), (test_images_original, test_labels_original) = mnist.load_data()"
   ]
  },
  {
   "cell_type": "code",
   "execution_count": 2,
   "metadata": {},
   "outputs": [],
   "source": [
    "# normalization\n",
    "train_images = train_images_original.reshape((60000, 28 * 28))\n",
    "train_images = train_images.astype('float32') / 255\n",
    "\n",
    "test_images = test_images_original.reshape((10000, 28 * 28))\n",
    "test_images = test_images.astype('float32') / 255\n",
    "\n",
    "train_labels = train_labels_original.reshape((60000, 1))\n",
    "test_labels = test_labels_original.reshape((10000, 1))\n"
   ]
  },
  {
   "cell_type": "code",
   "execution_count": 3,
   "metadata": {},
   "outputs": [],
   "source": [
    "# cross-entropy loss function\n",
    "def gradient(w, b, x, y):\n",
    "    m = x.shape[0]              # number of examples\n",
    "    z = np.dot(x, w) + b        # wx + b   \n",
    "    a = sigmoid(z)              # activation function\n",
    "    dw = np.dot(x.T, (a-y))/m   # x * (a - y) / m\n",
    "    db = np.sum(a-y)/m          # (a - y) / m\n",
    "    \n",
    "    return dw, db"
   ]
  },
  {
   "cell_type": "code",
   "execution_count": 4,
   "metadata": {},
   "outputs": [],
   "source": [
    "def trainer(w, b, x, y, lr):\n",
    "    dw, db = gradient(w, b, x, y)\n",
    "    w = w - lr * dw\n",
    "    b = b - lr * db\n",
    "\n",
    "    return w, b"
   ]
  },
  {
   "cell_type": "code",
   "execution_count": 5,
   "metadata": {},
   "outputs": [],
   "source": [
    "# sigmoid function\n",
    "def sigmoid(z):\n",
    "    result = 1.0 / (1.0 + np.exp(-z))\n",
    "    \n",
    "    return result"
   ]
  },
  {
   "cell_type": "code",
   "execution_count": 6,
   "metadata": {},
   "outputs": [],
   "source": [
    "def predict(w, b, x):\n",
    "    m = x.shape[0]\n",
    "    y_pred = np.zeros((m, 1))\n",
    "    z = np.dot(x, w) + b\n",
    "    a = sigmoid(z)\n",
    "    for i in range(m):\n",
    "        if a[i] >= 0.5: \n",
    "            y_pred[i] = 1    # if image is not the digit\n",
    "        elif a[i] < 0.5:\n",
    "            y_pred[i] = 0    # if image is digit\n",
    "    \n",
    "    return y_pred"
   ]
  },
  {
   "cell_type": "code",
   "execution_count": 7,
   "metadata": {},
   "outputs": [],
   "source": [
    "def accuracy(y, y_predict):\n",
    "    acc = np.mean(y == y_predict) * 100.0\n",
    "    acc = round(acc, 3)\n",
    "    print(\"Accuracy {}%\".format(acc))"
   ]
  },
  {
   "cell_type": "code",
   "execution_count": 8,
   "metadata": {},
   "outputs": [],
   "source": [
    "import numpy as np\n",
    "# test label \n",
    "test_label_list = np.ones((10, test_images.shape[0], 1), dtype='float32') \n",
    "for i in range(test_images.shape[0]):\n",
    "    digit = test_labels[i][0]\n",
    "    test_label_list[digit][i] = 0.0\n",
    "\n",
    "# training labels coded in 0, 1 format\n",
    "train_label_list = np.ones((10, train_images.shape[0], 1), dtype='float32') \n",
    "for i in range(train_images.shape[0]):\n",
    "    digit = train_labels[i][0]\n",
    "    train_label_list[digit][i] = 0.0"
   ]
  },
  {
   "cell_type": "code",
   "execution_count": 9,
   "metadata": {},
   "outputs": [
    {
     "name": "stdout",
     "output_type": "stream",
     "text": [
      "Start training  0\n"
     ]
    },
    {
     "name": "stdout",
     "output_type": "stream",
     "text": [
      "Training 0 finished\nAccuracy 99.2%\nStart training  1\n"
     ]
    },
    {
     "name": "stdout",
     "output_type": "stream",
     "text": [
      "Training 1 finished\nAccuracy 99.35%\nStart training  2\n"
     ]
    },
    {
     "name": "stdout",
     "output_type": "stream",
     "text": [
      "Training 2 finished\nAccuracy 97.78%\nStart training  3\n"
     ]
    },
    {
     "name": "stdout",
     "output_type": "stream",
     "text": [
      "Training 3 finished\nAccuracy 97.38%\nStart training  4\n"
     ]
    },
    {
     "name": "stdout",
     "output_type": "stream",
     "text": [
      "Training 4 finished\nAccuracy 98.36%\nStart training  5\n"
     ]
    },
    {
     "name": "stdout",
     "output_type": "stream",
     "text": [
      "Training 5 finished\nAccuracy 97.4%\nStart training  6\n"
     ]
    },
    {
     "name": "stdout",
     "output_type": "stream",
     "text": [
      "Training 6 finished\nAccuracy 98.67%\nStart training  7\n"
     ]
    },
    {
     "name": "stdout",
     "output_type": "stream",
     "text": [
      "Training 7 finished\nAccuracy 98.47%\nStart training  8\n"
     ]
    },
    {
     "name": "stdout",
     "output_type": "stream",
     "text": [
      "Training 8 finished\nAccuracy 95.73%\nStart training  9\n"
     ]
    },
    {
     "name": "stdout",
     "output_type": "stream",
     "text": [
      "Training 9 finished\nAccuracy 96.38%\n"
     ]
    }
   ],
   "source": [
    "# initialize weight and bias\n",
    "# w.shape -- (10, 28 * 28, 1)\n",
    "w = np.zeros((10, train_images.shape[1], 1))\n",
    "b = np.zeros((10, 1))\n",
    "batch_size = 32\n",
    "epochs = 10\n",
    "\n",
    "for d in range(10):  \n",
    "    print(\"Start training \", d)\n",
    "    for epoch in range(epochs):\n",
    "        y_digit = train_label_list[d]\n",
    "        shuffled_indices = np.random.permutation(train_images.shape[0])\n",
    "        x_shuffled = train_images[shuffled_indices]\n",
    "        y_shuffled = y_digit[shuffled_indices]\n",
    "\n",
    "        for i in range(0, train_images.shape[0], batch_size):\n",
    "            x = x_shuffled[i:i+batch_size]\n",
    "            y = y_shuffled[i:i+batch_size]\n",
    "            w[d], b[d] = trainer(w[d], b[d], x, y, 0.5)\n",
    "    print(\"Training {} finished\".format(int(d)))\n",
    "    y_pred = predict(w[d], b[d], test_images)\n",
    "    accuracy(test_label_list[d], y_pred)"
   ]
  },
  {
   "cell_type": "code",
   "execution_count": 10,
   "metadata": {},
   "outputs": [],
   "source": [
    "\n",
    "\n"
   ]
  }
 ],
 "metadata": {
  "kernelspec": {
   "display_name": "Python 3",
   "language": "python",
   "name": "python3"
  },
  "language_info": {
   "codemirror_mode": {
    "name": "ipython",
    "version": 3
   },
   "file_extension": ".py",
   "mimetype": "text/x-python",
   "name": "python",
   "nbconvert_exporter": "python",
   "pygments_lexer": "ipython3",
   "version": "3.7.0"
  }
 },
 "nbformat": 4,
 "nbformat_minor": 2
}
