{
 "cells": [
  {
   "cell_type": "code",
   "execution_count": 2,
   "metadata": {
    "collapsed": true
   },
   "outputs": [],
   "source": [
    "from keras.datasets import mnist\n",
    "\n",
    "(train_images_original, train_labels_original), (test_images_original, test_labels_original) = mnist.load_data()"
   ]
  },
  {
   "cell_type": "code",
   "execution_count": 3,
   "metadata": {},
   "outputs": [],
   "source": [
    "train_images = train_images_original.reshape((60000, 28 * 28))\n",
    "train_images = train_images.astype('float32') / 255\n",
    "\n",
    "test_images = test_images_original.reshape((10000, 28 * 28))\n",
    "test_images = test_images.astype('float32') / 255"
   ]
  },
  {
   "cell_type": "code",
   "execution_count": 5,
   "metadata": {},
   "outputs": [],
   "source": [
    "from keras.utils import to_categorical\n",
    "\n",
    "train_labels = to_categorical(train_labels_original)\n",
    "test_labels = to_categorical(test_labels_original)"
   ]
  },
  {
   "cell_type": "code",
   "execution_count": null,
   "metadata": {},
   "outputs": [],
   "source": [
    "from keras import models\n",
    "from keras import layers\n",
    "\n",
    "network = models.Sequential()\n",
    "network.add(layers.Dense(512, activation='relu', input_shape=(28 * 28,)))\n",
    "network.add(layers.Dense(10, activation='softmax'))\n",
    "#network.summary()\n"
   ]
  },
  {
   "cell_type": "code",
   "execution_count": null,
   "metadata": {},
   "outputs": [],
   "source": [
    "# cross-entropy loss function\n",
    "def gradient(w, b, x, y):\n",
    "    m = x.shape[0]              # number of examples\n",
    "    z = np.dot(w.T, x) + b      # wx + b   \n",
    "    a = softmax(z)              # activation function\n",
    "    # dw = np.dot(x, (a-y).T)/m   # x * (a - y) / m\n",
    "    # db = np.sum(a-y)/m          # (a - y) / m\n",
    "    pass\n",
    "    \n",
    "    return dw, db\n"
   ]
  },
  {
   "cell_type": "code",
   "execution_count": null,
   "metadata": {},
   "outputs": [],
   "source": [
    "def trainer(w, b, x, y, lr, iteration):\n",
    "    for i in range(iteration):   \n",
    "        dw, db = gradient(w, b, x, y)\n",
    "        w = w - lr * dw\n",
    "        b = b - lr * db\n",
    "        #print(\"iteration = %f\" % (i + 1))\n",
    "\n",
    "    return w, b"
   ]
  },
  {
   "cell_type": "code",
   "execution_count": 8,
   "metadata": {},
   "outputs": [],
   "source": [
    "# Activation funtion\n",
    "def softmax(z):\n",
    "    result = np.exp(z) / np.sum(np.exp(z))\n",
    "    \n",
    "    return result\n",
    "\n",
    "# def stablesoftmax(x):\n",
    "#     \"\"\"Compute the softmax of vector x in a numerically stable way.\"\"\"\n",
    "#     shiftx = x - np.max(x)\n",
    "#     exps = np.exp(shiftx)\n",
    "#     return exps / np.sum(exps)"
   ]
  },
  {
   "cell_type": "code",
   "execution_count": 9,
   "metadata": {},
   "outputs": [],
   "source": [
    "def predict(w, b, x):\n",
    "    # m = x.shape[1]\n",
    "    # y_pred = np.zeros((1, m)) + b\n",
    "    # z = np.dot(w.T, x)\n",
    "    # a = softmax(z)\n",
    "    # \n",
    "    # for i in range(a.shape[1]):\n",
    "    #     if a[:, i] > 0.5: \n",
    "    #         y_pred[:, i] = 1    # if image is not the digit\n",
    "    #     elif a[:, i] <= 0.5:\n",
    "    #         y_pred[:, i] = 0    # if image is digit\n",
    "    pass\n",
    "    \n",
    "    return y_pred\n"
   ]
  },
  {
   "cell_type": "code",
   "execution_count": 11,
   "metadata": {},
   "outputs": [],
   "source": [
    "def accuracy(y, y_predict):\n",
    "    acc = 100.0 - np.mean(np.abs(y_predict - y) * 100.0)\n",
    "    acc = round(acc, 3)\n",
    "    print(\"Accuracy {}%\".format(acc))"
   ]
  },
  {
   "cell_type": "code",
   "execution_count": null,
   "metadata": {},
   "outputs": [],
   "source": []
  }
 ],
 "metadata": {
  "kernelspec": {
   "display_name": "Python 2",
   "language": "python",
   "name": "python2"
  },
  "language_info": {
   "codemirror_mode": {
    "name": "ipython",
    "version": 2
   },
   "file_extension": ".py",
   "mimetype": "text/x-python",
   "name": "python",
   "nbconvert_exporter": "python",
   "pygments_lexer": "ipython2",
   "version": "2.7.6"
  }
 },
 "nbformat": 4,
 "nbformat_minor": 0
}
