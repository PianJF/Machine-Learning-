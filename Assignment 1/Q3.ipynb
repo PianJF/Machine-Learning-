{
  "nbformat": 4,
  "nbformat_minor": 0,
  "metadata": {
    "colab": {
      "name": "Q3.ipynb",
      "version": "0.3.2",
      "provenance": []
    },
    "kernelspec": {
      "display_name": "Python 2",
      "language": "python",
      "name": "python2"
    }
  },
  "cells": [
    {
      "metadata": {
        "collapsed": true,
        "id": "qIbR1kh_uOzV",
        "colab_type": "code",
        "colab": {
          "base_uri": "https://localhost:8080/",
          "height": 85
        },
        "outputId": "78cd7d6b-11c3-4a96-e1f7-e4c5cbebf7fb"
      },
      "cell_type": "code",
      "source": [
        "from keras.datasets import mnist\n",
        "\n",
        "(train_images_original, train_labels_original), (test_images_original, test_labels_original) = mnist.load_data()"
      ],
      "execution_count": 1,
      "outputs": [
        {
          "output_type": "stream",
          "text": [
            "Using TensorFlow backend.\n"
          ],
          "name": "stderr"
        },
        {
          "output_type": "stream",
          "text": [
            "Downloading data from https://s3.amazonaws.com/img-datasets/mnist.npz\n",
            "11493376/11490434 [==============================] - 1s 0us/step\n",
            "11501568/11490434 [==============================] - 1s 0us/step\n"
          ],
          "name": "stdout"
        }
      ]
    },
    {
      "metadata": {
        "id": "UJnP2mEsuOzd",
        "colab_type": "code",
        "colab": {}
      },
      "cell_type": "code",
      "source": [
        "train_images = train_images_original.reshape((60000, 28 * 28))\n",
        "train_images = train_images.astype('float32') / 255\n",
        "\n",
        "test_images = test_images_original.reshape((10000, 28 * 28))\n",
        "test_images = test_images.astype('float32') / 255"
      ],
      "execution_count": 0,
      "outputs": []
    },
    {
      "metadata": {
        "id": "0j0G16dAuOzj",
        "colab_type": "code",
        "colab": {}
      },
      "cell_type": "code",
      "source": [
        "from keras.utils import to_categorical\n",
        "\n",
        "train_labels = to_categorical(train_labels_original)\n",
        "test_labels = to_categorical(test_labels_original)"
      ],
      "execution_count": 0,
      "outputs": []
    },
    {
      "metadata": {
        "id": "DJR2WXiWuOz3",
        "colab_type": "code",
        "colab": {
          "base_uri": "https://localhost:8080/",
          "height": 68
        },
        "outputId": "55d43d04-4f23-4c1c-ebf2-0b58d5e434a7"
      },
      "cell_type": "code",
      "source": [
        "from keras import models\n",
        "from keras import layers\n",
        "\n",
        "network = models.Sequential()\n",
        "network.add(layers.Dense(512, activation='relu', input_shape=(28 * 28,)))\n",
        "network.add(layers.Dense(10, activation='softmax'))\n",
        "#network.summary()\n"
      ],
      "execution_count": 4,
      "outputs": [
        {
          "output_type": "stream",
          "text": [
            "WARNING:tensorflow:From /usr/local/lib/python2.7/dist-packages/tensorflow/python/framework/op_def_library.py:263: colocate_with (from tensorflow.python.framework.ops) is deprecated and will be removed in a future version.\n",
            "Instructions for updating:\n",
            "Colocations handled automatically by placer.\n"
          ],
          "name": "stdout"
        }
      ]
    },
    {
      "metadata": {
        "id": "BrydmCIcuOz_",
        "colab_type": "code",
        "colab": {}
      },
      "cell_type": "code",
      "source": [
        "# cross-entropy loss function\n",
        "def gradient(w, b, x, y):\n",
        "    m = x.shape[0]              # number of examples\n",
        "    z = np.dot(x, w.T) + b      # wx + b   \n",
        "    a = softmax(z)              # activation function\n",
        "\n",
        "    for i in range(m):   \n",
        "        a[i][np.argmax(y[i])] -= 1\n",
        "\n",
        "    a = a/m\n",
        "    \n",
        "    dw = np.dot(a.T, x)\n",
        "    db = np.sum(a)\n",
        "    \n",
        "    return dw, db\n"
      ],
      "execution_count": 0,
      "outputs": []
    },
    {
      "metadata": {
        "id": "q9IUyAVtuO0C",
        "colab_type": "code",
        "colab": {}
      },
      "cell_type": "code",
      "source": [
        "# def trainer(w, b, x, y, lr, iteration):\n",
        "#     for i in range(iteration):   \n",
        "#         dw, db = gradient(w, b, x, y)\n",
        "#         w = w - lr * dw\n",
        "#         b = b - lr * db\n",
        "#         #print(\"iteration = %f\" % (i + 1))\n",
        "# \n",
        "#     return w, b\n",
        "\n",
        "\n",
        "def trainer(w, b, x, y, lr):\n",
        " \n",
        "    dw, db = gradient(w, b, x, y)\n",
        "    w = w - lr * dw\n",
        "    b = b - lr * db\n",
        "    #print(\"iteration = %f\" % (i + 1))\n",
        "\n",
        "    return w, b"
      ],
      "execution_count": 0,
      "outputs": []
    },
    {
      "metadata": {
        "id": "sgQWXsDtuO0F",
        "colab_type": "code",
        "colab": {}
      },
      "cell_type": "code",
      "source": [
        "# Activation funtion\n",
        "def softmax(z):\n",
        "    result = np.exp(z) / np.sum(np.exp(z))\n",
        "    \n",
        "    return result"
      ],
      "execution_count": 0,
      "outputs": []
    },
    {
      "metadata": {
        "id": "tWLrRlvIuO0I",
        "colab_type": "code",
        "colab": {}
      },
      "cell_type": "code",
      "source": [
        "def predict(w, b, x):\n",
        "    m = x.shape[0]\n",
        "    z = np.dot(x, w.T) + b \n",
        "    a = softmax(z)\n",
        "    y_pred = np.zeros((m, 10), dtype='float32')\n",
        "    \n",
        "    for i in range(m):\n",
        "        digit = np.argmax(a[i])\n",
        "        y_pred[i][digit] = 1\n",
        "   \n",
        "    return y_pred\n"
      ],
      "execution_count": 0,
      "outputs": []
    },
    {
      "metadata": {
        "id": "f_EnzOWBuO0L",
        "colab_type": "code",
        "colab": {}
      },
      "cell_type": "code",
      "source": [
        "def accuracy(y, y_predict):\n",
        "    acc = np.mean(y == y_predict) * 100.0\n",
        "    acc = round(acc, 3)\n",
        "    print(\"Accuracy {}%\".format(acc))"
      ],
      "execution_count": 0,
      "outputs": []
    },
    {
      "metadata": {
        "id": "kIG5ZvAVuO0O",
        "colab_type": "code",
        "colab": {
          "base_uri": "https://localhost:8080/",
          "height": 34
        },
        "outputId": "55ae3127-5ba5-433e-9974-ed41e7db0a0b"
      },
      "cell_type": "code",
      "source": [
        "import numpy as np\n",
        "# initialize weight and bias\n",
        "# w.shape -- (10, 28*28)\n",
        "w = np.zeros((10, train_images.shape[1]))\n",
        "b = np.zeros((1, 10))\n",
        "batch_size = 32\n",
        "epochs = 10\n",
        "\n",
        "for epoch in range(epochs):\n",
        "    w, b = trainer(w, b, train_images, train_labels, 0.05)\n",
        "    \n",
        "y_predict = predict(w, b, test_images)\n",
        "accuracy(test_labels, y_predict)"
      ],
      "execution_count": 10,
      "outputs": [
        {
          "output_type": "stream",
          "text": [
            "Accuracy 93.608%\n"
          ],
          "name": "stdout"
        }
      ]
    },
    {
      "metadata": {
        "id": "-DoV5bOjuO0Q",
        "colab_type": "code",
        "colab": {
          "base_uri": "https://localhost:8080/",
          "height": 119
        },
        "outputId": "5ed60a5d-c424-464c-9ae9-74512d0f6a7b"
      },
      "cell_type": "code",
      "source": [
        "w = np.zeros((10, train_images.shape[1]))\n",
        "b = np.zeros((1, 10))\n",
        "batch_size = 32\n",
        "epochs = 10\n",
        "\n",
        "for epoch in range(epochs):\n",
        "    shuffled_indices = np.random.permutation(train_images.shape[0])\n",
        "    x_shuffled = train_images[shuffled_indices]\n",
        "    y_shuffled = train_labels[shuffled_indices]\n",
        "    #print(\"Epoch \", epoch + 1)\n",
        "    for i in range(0, train_images.shape[0], batch_size):\n",
        "        x = x_shuffled[i:i+batch_size]\n",
        "        y = y_shuffled[i:i+batch_size]\n",
        "        w, b = trainer(w, b, x, y, 0.05)\n",
        "print(\"Training finished\")\n",
        "y_predict = predict(w, b, test_images)\n",
        "accuracy(test_labels, y_predict)"
      ],
      "execution_count": 11,
      "outputs": [
        {
          "output_type": "stream",
          "text": [
            "/usr/local/lib/python2.7/dist-packages/ipykernel_launcher.py:2: RuntimeWarning: overflow encountered in exp\n",
            "  \n",
            "/usr/local/lib/python2.7/dist-packages/ipykernel_launcher.py:2: RuntimeWarning: invalid value encountered in divide\n",
            "  \n"
          ],
          "name": "stderr"
        },
        {
          "output_type": "stream",
          "text": [
            "Training finished\n",
            "Accuracy 81.96%\n"
          ],
          "name": "stdout"
        }
      ]
    },
    {
      "metadata": {
        "id": "PPsLcJtCuO0T",
        "colab_type": "code",
        "colab": {}
      },
      "cell_type": "code",
      "source": [
        "# Having issue with mini-batch!!!\n",
        "# With the mini_batch training(batch_size = 32, learning rate 0.05), I get 81.96% accuracy.\n",
        "# Without mini_batch, just run 10 epochs, I get 93.608% accuracy."
      ],
      "execution_count": 0,
      "outputs": []
    }
  ]
}