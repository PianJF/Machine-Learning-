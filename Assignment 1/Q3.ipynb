{
 "cells": [
  {
   "cell_type": "code",
   "execution_count": 1,
   "metadata": {
    "collapsed": true
   },
   "outputs": [
    {
     "name": "stderr",
     "output_type": "stream",
     "text": [
      "Using TensorFlow backend.\n"
     ]
    }
   ],
   "source": [
    "from keras.datasets import mnist\n",
    "\n",
    "(train_images_original, train_labels_original), (test_images_original, test_labels_original) = mnist.load_data()"
   ]
  },
  {
   "cell_type": "code",
   "execution_count": 2,
   "metadata": {},
   "outputs": [],
   "source": [
    "train_images = train_images_original.reshape((60000, 28 * 28))\n",
    "train_images = train_images.astype('float32') / 255\n",
    "\n",
    "test_images = test_images_original.reshape((10000, 28 * 28))\n",
    "test_images = test_images.astype('float32') / 255"
   ]
  },
  {
   "cell_type": "code",
   "execution_count": 3,
   "metadata": {},
   "outputs": [],
   "source": [
    "from keras.utils import to_categorical\n",
    "\n",
    "train_labels = to_categorical(train_labels_original)\n",
    "test_labels = to_categorical(test_labels_original)"
   ]
  },
  {
   "cell_type": "code",
   "execution_count": 4,
   "metadata": {},
   "outputs": [
    {
     "name": "stdout",
     "output_type": "stream",
     "text": [
      "WARNING:tensorflow:From /anaconda3/lib/python3.7/site-packages/tensorflow/python/framework/op_def_library.py:263: colocate_with (from tensorflow.python.framework.ops) is deprecated and will be removed in a future version.\nInstructions for updating:\nColocations handled automatically by placer.\n"
     ]
    }
   ],
   "source": [
    "from keras import models\n",
    "from keras import layers\n",
    "\n",
    "network = models.Sequential()\n",
    "network.add(layers.Dense(512, activation='relu', input_shape=(28 * 28,)))\n",
    "network.add(layers.Dense(10, activation='softmax'))\n",
    "#network.summary()\n"
   ]
  },
  {
   "cell_type": "code",
   "execution_count": 5,
   "metadata": {},
   "outputs": [],
   "source": [
    "# cross-entropy loss function\n",
    "def gradient(w, b, x, y):\n",
    "    m = x.shape[0]              # number of examples\n",
    "    z = np.dot(x, w.T) + b      # wx + b   \n",
    "    a = softmax(z)              # activation function\n",
    "\n",
    "    for i in range(m):   \n",
    "        a[i][np.argmax(y[i])] -= 1\n",
    "\n",
    "    a = a/m\n",
    "    \n",
    "    dw = np.dot(a.T, x)\n",
    "    db = np.sum(a)\n",
    "    \n",
    "    return dw, db\n"
   ]
  },
  {
   "cell_type": "code",
   "execution_count": 6,
   "metadata": {},
   "outputs": [],
   "source": [
    "# def trainer(w, b, x, y, lr, iteration):\n",
    "#     for i in range(iteration):   \n",
    "#         dw, db = gradient(w, b, x, y)\n",
    "#         w = w - lr * dw\n",
    "#         b = b - lr * db\n",
    "#         #print(\"iteration = %f\" % (i + 1))\n",
    "# \n",
    "#     return w, b\n",
    "\n",
    "\n",
    "def trainer(w, b, x, y, lr):\n",
    " \n",
    "    dw, db = gradient(w, b, x, y)\n",
    "    w = w - lr * dw\n",
    "    b = b - lr * db\n",
    "    #print(\"iteration = %f\" % (i + 1))\n",
    "\n",
    "    return w, b"
   ]
  },
  {
   "cell_type": "code",
   "execution_count": 7,
   "metadata": {},
   "outputs": [],
   "source": [
    "# Activation funtion\n",
    "def softmax(z):\n",
    "    result = np.exp(z) / np.sum(np.exp(z))\n",
    "    \n",
    "    return result"
   ]
  },
  {
   "cell_type": "code",
   "execution_count": 8,
   "metadata": {},
   "outputs": [],
   "source": [
    "def predict(w, b, x):\n",
    "    m = x.shape[0]\n",
    "    z = np.dot(x, w.T) + b \n",
    "    a = softmax(z)\n",
    "    y_pred = np.zeros((m, 10), dtype='float32')\n",
    "    \n",
    "    for i in range(m):\n",
    "        digit = np.argmax(a[i])\n",
    "        y_pred[i][digit] = 1\n",
    "   \n",
    "    return y_pred\n"
   ]
  },
  {
   "cell_type": "code",
   "execution_count": 9,
   "metadata": {},
   "outputs": [],
   "source": [
    "def accuracy(y, y_predict):\n",
    "    acc = np.mean(y == y_predict) * 100.0\n",
    "    acc = round(acc, 3)\n",
    "    print(\"Accuracy {}%\".format(acc))"
   ]
  },
  {
   "cell_type": "code",
   "execution_count": 12,
   "metadata": {
    "collapsed": false
   },
   "outputs": [
    {
     "name": "stdout",
     "output_type": "stream",
     "text": [
      "Accuracy 93.608%\n"
     ]
    }
   ],
   "source": [
    "import numpy as np\n",
    "# initialize weight and bias\n",
    "# w.shape -- (10, 28*28)\n",
    "w = np.zeros((10, train_images.shape[1]))\n",
    "b = np.zeros((1, 10))\n",
    "batch_size = 32\n",
    "epochs = 10\n",
    "\n",
    "for epoch in range(epochs):\n",
    "    w, b = trainer(w, b, train_images, train_labels, 0.05)\n",
    "    \n",
    "y_predict = predict(w, b, test_images)\n",
    "accuracy(test_labels, y_predict)"
   ]
  },
  {
   "cell_type": "code",
   "execution_count": 11,
   "metadata": {},
   "outputs": [
    {
     "name": "stderr",
     "output_type": "stream",
     "text": [
      "/anaconda3/lib/python3.7/site-packages/ipykernel_launcher.py:3: RuntimeWarning: invalid value encountered in true_divide\n  This is separate from the ipykernel package so we can avoid doing imports until\n"
     ]
    },
    {
     "name": "stdout",
     "output_type": "stream",
     "text": [
      "Training finished\nAccuracy 81.96%\n"
     ]
    }
   ],
   "source": [
    "w = np.zeros((10, train_images.shape[1]))\n",
    "b = np.zeros((1, 10))\n",
    "batch_size = 32\n",
    "epochs = 10\n",
    "\n",
    "for epoch in range(epochs):\n",
    "    shuffled_indices = np.random.permutation(train_images.shape[0])\n",
    "    x_shuffled = train_images[shuffled_indices]\n",
    "    y_shuffled = train_labels[shuffled_indices]\n",
    "    #print(\"Epoch \", epoch + 1)\n",
    "    for i in range(0, train_images.shape[0], batch_size):\n",
    "        x = x_shuffled[i:i+batch_size]\n",
    "        y = y_shuffled[i:i+batch_size]\n",
    "        w, b = trainer(w, b, x, y, 0.05)\n",
    "print(\"Training finished\")\n",
    "y_predict = predict(w, b, test_images)\n",
    "accuracy(test_labels, y_predict)"
   ]
  },
  {
   "cell_type": "code",
   "execution_count": 12,
   "metadata": {},
   "outputs": [],
   "source": [
    "# Having issue with mini-batch!!!\n",
    "# With the mini_batch training(batch_size = 32, learning rate 0.05), I get 81.96% accuracy.\n",
    "# Without mini_batch, just run 10 epochs, I get 93.608% accuracy."
   ]
  }
 ],
 "metadata": {
  "kernelspec": {
   "display_name": "Python 2",
   "language": "python",
   "name": "python2"
  },
  "language_info": {
   "codemirror_mode": {
    "name": "ipython",
    "version": 2
   },
   "file_extension": ".py",
   "mimetype": "text/x-python",
   "name": "python",
   "nbconvert_exporter": "python",
   "pygments_lexer": "ipython2",
   "version": "2.7.6"
  }
 },
 "nbformat": 4,
 "nbformat_minor": 0
}
